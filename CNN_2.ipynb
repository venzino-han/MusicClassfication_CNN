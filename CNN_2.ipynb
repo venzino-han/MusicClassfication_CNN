{
 "cells": [
  {
   "cell_type": "code",
   "execution_count": 1,
   "metadata": {},
   "outputs": [],
   "source": [
    "# import argparse\n",
    "\n",
    "class HParams(object):\n",
    "\tdef __init__(self):\n",
    "\t\t# Dataset Settings\n",
    "\t\tself.dataset_path = 'd:/다운로드/gtzan'\n",
    "\t\tself.feature_path = 'feature2'\n",
    "\t\tself.genres = ['classical', 'country', 'disco', 'hiphop', 'jazz', 'metal', 'pop', 'reggae']\n",
    "\n",
    "\t\t# Feature Parameters\n",
    "\t\tself.sample_rate = 22050\n",
    "\t\tself.fft_size = 1024\n",
    "\t\tself.win_size = 1024\n",
    "\t\tself.hop_size = 512\n",
    "\t\tself.num_mels = 128\n",
    "\t\tself.feature_length = 1024  # audio length = feature_length*hop_size/sample_rate (s)\n",
    "\n",
    "\t\t# Training Parameters\n",
    "\t\tself.device = 1  # 0: CPU, 1: GPU0, 2: GPU1, ...\n",
    "\t\tself.batch_size = 20\n",
    "\t\tself.num_epochs = 100\n",
    "\t\tself.learning_rate = 3*1e-5\n",
    "\t\tself.stopping_rate = 1e-12\n",
    "\t\tself.weight_decay = 1e-6\n",
    "\t\tself.momentum = 0.9\n",
    "\t\tself.factor = 0.2\n",
    "\t\tself.patience = 3.\n",
    "\n",
    "hparams = HParams()"
   ]
  },
  {
   "cell_type": "code",
   "execution_count": 2,
   "metadata": {},
   "outputs": [],
   "source": [
    "import os\n",
    "import numpy as np\n",
    "from torch.utils.data import Dataset, DataLoader\n",
    "\n",
    "class GTZANDataset(Dataset):\n",
    "    def __init__(self, x, y):\n",
    "        self.x = x\n",
    "        self.y = y\n",
    "\n",
    "    def __getitem__(self, index):\n",
    "        return self.x[index], self.y[index]\n",
    "\n",
    "    def __len__(self):\n",
    "        return self.x.shape[0]\n",
    "\n",
    "# Function to get genre index for the give file\n",
    "def get_label(file_name, hparams):\n",
    "    genre = file_name.split('.')[0]\n",
    "    label = hparams.genres.index(genre)\n",
    "    return label\n",
    "\n",
    "def load_dataset(set_name, hparams):\n",
    "    x = []\n",
    "    y = []\n",
    "\n",
    "    dataset_path = os.path.join(hparams.feature_path, set_name)\n",
    "    for root,dirs,files in os.walk(dataset_path):\n",
    "        for file in files:\n",
    "            data = np.load(os.path.join(root,file))\n",
    "            label = get_label(file, hparams)\n",
    "            x.append(data)\n",
    "            y.append(label)\n",
    "\n",
    "    x = np.stack(x)\n",
    "    y = np.stack(y)\n",
    "\n",
    "    return x,y\n",
    "\n",
    "def get_dataloader(hparams):\n",
    "    x_train, y_train = load_dataset('train', hparams)\n",
    "    x_valid, y_valid = load_dataset('valid', hparams)\n",
    "    x_test, y_test = load_dataset('test', hparams)\n",
    "\n",
    "    mean = np.mean(x_train)\n",
    "    std = np.std(x_train)\n",
    "    x_train = (x_train - mean)/std\n",
    "    x_valid = (x_valid - mean)/std\n",
    "    x_test = (x_test - mean)/std\n",
    "\n",
    "    train_set = GTZANDataset(x_train, y_train)\n",
    "    vaild_set = GTZANDataset(x_valid, y_valid)\n",
    "    test_set = GTZANDataset(x_test, y_test)\n",
    "\n",
    "    train_loader = DataLoader(train_set, batch_size=hparams.batch_size, shuffle=True, drop_last=False)\n",
    "    valid_loader = DataLoader(vaild_set, batch_size=hparams.batch_size, shuffle=False, drop_last=False)\n",
    "    test_loader = DataLoader(test_set, batch_size=hparams.batch_size, shuffle=False, drop_last=False)\n",
    "\n",
    "    return train_loader, valid_loader, test_loader"
   ]
  },
  {
   "cell_type": "code",
   "execution_count": 3,
   "metadata": {},
   "outputs": [],
   "source": [
    "from matplotlib import pyplot as plt"
   ]
  },
  {
   "cell_type": "code",
   "execution_count": 4,
   "metadata": {},
   "outputs": [],
   "source": [
    "'''\n",
    "train_test.py\n",
    "A file for training model for genre classification.\n",
    "Please check the device in hparams.py before you run this code.\n",
    "'''\n",
    "import torch\n",
    "import torch.nn as nn\n",
    "from torch.optim.lr_scheduler import ReduceLROnPlateau\n",
    "\n",
    "# import data_manager\n",
    "# import models\n",
    "# from hparams import hparams\n",
    "\n",
    "# Wrapper class to run PyTorch model\n",
    "class Runner(object):\n",
    "    def __init__(self, hparams):\n",
    "        self.model = Baseline(hparams)\n",
    "        self.criterion = nn.CrossEntropyLoss()\n",
    "        \n",
    "        #self.optimizer = torch.optim.Adam(self.model.parameters(), lr=hparams.learning_rate)\n",
    "        self.optimizer = torch.optim.SGD(self.model.parameters(), lr=hparams.learning_rate, momentum=hparams.momentum)\n",
    "        self.scheduler = ReduceLROnPlateau(self.optimizer, mode='min', factor=hparams.factor, patience=hparams.patience, verbose=True)\n",
    "        self.learning_rate = hparams.learning_rate\n",
    "        self.stopping_rate = hparams.stopping_rate\n",
    "        self.device = torch.device(\"cpu\")\n",
    "\n",
    "        if hparams.device > 0:\n",
    "            torch.cuda.set_device(hparams.device - 1)##\n",
    "            self.model.cuda(hparams.device - 1)\n",
    "            self.criterion.cuda(hparams.device - 1)\n",
    "            self.device = torch.device(\"cuda:\" + str(hparams.device - 1))\n",
    "            \n",
    "#         device = torch.device('cuda:0' if torch.cuda.is_available() else 'cpu')\n",
    "#         self.model = Baseline(hparams).to(device)\n",
    "#         if torch.cuda.device_count() > 1:\n",
    "#             print('\\n===> Training on GPU!')\n",
    "#             self.model = nn.DataParallel(net)\n",
    "\n",
    "    # Accuracy function works like loss function in PyTorch\n",
    "    def accuracy(self, source, target):\n",
    "        source = source.max(1)[1].long().cpu()\n",
    "        target = target.cpu()\n",
    "        correct = (source == target).sum().item()\n",
    "\n",
    "        return correct/float(source.size(0))\n",
    "\n",
    "    # Running model for train, test and validation. mode: 'train' for training, 'eval' for validation and test\n",
    "    def run(self, dataloader, mode='train'):\n",
    "        self.model.train() if mode is 'train' else self.model.eval()\n",
    "\n",
    "        epoch_loss = 0.0\n",
    "        epoch_acc = 0.0\n",
    "        \n",
    "        for batch, (x, y) in enumerate(dataloader):\n",
    "            x = x.to(self.device)\n",
    "            y = y.to(self.device).type(torch.long)\n",
    "            \n",
    "            #print(y)\n",
    "\n",
    "            prediction = self.model(x)\n",
    "            loss = self.criterion(prediction, y)\n",
    "            acc = self.accuracy(prediction, y)\n",
    "\n",
    "            if mode is 'train':\n",
    "                loss.backward()\n",
    "                self.optimizer.step()\n",
    "                self.optimizer.zero_grad()\n",
    "\n",
    "            epoch_loss += prediction.size(0)*loss.item()\n",
    "            epoch_acc += prediction.size(0)*acc\n",
    "\n",
    "        epoch_loss = epoch_loss/len(dataloader.dataset)\n",
    "        epoch_acc = epoch_acc/len(dataloader.dataset)\n",
    "\n",
    "        return epoch_loss, epoch_acc\n",
    "\n",
    "    # Early stopping function for given validation loss\n",
    "    def early_stop(self, loss, epoch):\n",
    "        self.scheduler.step(loss, epoch)\n",
    "        self.learning_rate = self.optimizer.param_groups[0]['lr']\n",
    "        stop = self.learning_rate < self.stopping_rate\n",
    "\n",
    "        return stop\n",
    "\n",
    "def device_name(device):\n",
    "    if device == 0:\n",
    "        device_name = 'CPU'\n",
    "    else:\n",
    "        device_name = 'GPU:' + str(device - 1)\n",
    "\n",
    "    return device_name\n",
    "\n",
    "def main():  \n",
    "    train_loader, valid_loader, test_loader = get_dataloader(hparams)\n",
    "    runner = Runner(hparams)\n",
    "    val_loss_ls =[]\n",
    "    train_loss_ls =[]\n",
    "\n",
    "    print('Training on ' + device_name(hparams.device))\n",
    "    for epoch in range(hparams.num_epochs):\n",
    "        train_loss, train_acc = runner.run(train_loader, 'train')\n",
    "        valid_loss, valid_acc = runner.run(valid_loader, 'eval')\n",
    "        if((epoch+1)%10==0):\n",
    "            print(\"[Epoch %d/%d] [Train Loss: %.4f] [Train Acc: %.4f] [Valid Loss: %.4f] [Valid Acc: %.4f]\" %\n",
    "                  (epoch + 1, hparams.num_epochs, train_loss, train_acc, valid_loss, valid_acc))\n",
    "            \n",
    "        val_loss_ls.append(valid_loss)\n",
    "        train_loss_ls.append(train_loss)\n",
    "        \n",
    "        if runner.early_stop(valid_loss, epoch + 1):\n",
    "            break\n",
    "\n",
    "    test_loss, test_acc = runner.run(test_loader, 'eval')\n",
    "    print(\"Training Finished\")\n",
    "    print(\"Test Accuracy: %.2f%%\" % (100*test_acc))\n",
    "    \n",
    "    plt.plot(val_loss_ls,'r')\n",
    "    plt.plot(train_loss_ls,'b')\n",
    "    plt.show()\n",
    "    "
   ]
  },
  {
   "cell_type": "code",
   "execution_count": 5,
   "metadata": {},
   "outputs": [],
   "source": [
    "'''\n",
    "CNN 계층 증가\n",
    "Dropout 추가 1, 6\n",
    "'''\n",
    "import torch.nn as nn\n",
    "\n",
    "class Baseline(nn.Module):\n",
    "    def __init__(self, hparams):\n",
    "        super(Baseline, self).__init__()\n",
    "        self._initialize_weights()\n",
    "        \n",
    "        self.conv0 = nn.Sequential(\n",
    "        nn.Conv1d(hparams.num_mels, 64, kernel_size=8, stride=1, padding=1),\n",
    "        nn.BatchNorm1d(64),\n",
    "        nn.ReLU(),\n",
    "        nn.MaxPool1d(4, stride=4)\n",
    "        )\n",
    "\n",
    "        self.conv1 = nn.Sequential(\n",
    "        nn.Conv1d(64, 128, kernel_size=4, stride=1, padding=1),\n",
    "        nn.ReLU(),\n",
    "        torch.nn.Dropout(p=0.3, inplace=False),\n",
    "        nn.MaxPool1d(4, stride=4)\n",
    "        \n",
    "        )\n",
    "        #Res 1\n",
    "        self.block0 = nn.Sequential(\n",
    "        nn.Conv1d(128,128, kernel_size=4, stride=1, padding=1),\n",
    "        nn.BatchNorm1d(128),\n",
    "        nn.ReLU(),\n",
    "        nn.MaxPool1d(16, stride=16)\n",
    "        )\n",
    "\n",
    "        #분할하여 다르게 처리\n",
    "        self.conv2_1 = nn.Sequential(\n",
    "        nn.Conv1d(128, 256, kernel_size=8, stride=1, padding=1),\n",
    "        nn.Dropout(p=0.3, inplace=False),\n",
    "        nn.ReLU(),\n",
    "        nn.MaxPool1d(4, stride=4)\n",
    "        )\n",
    "        \n",
    "        self.conv2_2 = nn.Sequential(\n",
    "        nn.Conv1d(128, 256, kernel_size=8, stride=1, padding=1),\n",
    "        nn.BatchNorm1d(256),\n",
    "        nn.ReLU(),\n",
    "        nn.AvgPool1d(4, stride=4)\n",
    "        )\n",
    "        \n",
    "        \n",
    "         \n",
    "        self.conv3 = nn.Sequential(\n",
    "        nn.Conv1d(256, 128, kernel_size=4, stride=1, padding=2),\n",
    "        nn.BatchNorm1d(128),\n",
    "        nn.ReLU(),\n",
    "        nn.MaxPool1d(4, stride=4)\n",
    "        )\n",
    "        \n",
    "        \n",
    "        ## ResNet2\n",
    "        self.block1 = nn.Sequential(\n",
    "        nn.Conv1d(128,128, kernel_size=8, stride=2, padding=1),\n",
    "        nn.BatchNorm1d(128),\n",
    "        nn.ReLU(),\n",
    "        nn.MaxPool1d(4, stride=4),\n",
    "        nn.Conv1d(128,128, kernel_size=8, stride=2, padding=1),\n",
    "        nn.BatchNorm1d(128),\n",
    "        nn.ReLU(),\n",
    "        nn.MaxPool1d(8, stride=8)\n",
    "        )\n",
    "        \n",
    "        \n",
    "        self.conv4 = nn.Sequential(\n",
    "        nn.Conv1d(128, 96, kernel_size=3, stride=1, padding=1),\n",
    "        nn.BatchNorm1d(96),\n",
    "        nn.ReLU(),\n",
    "        nn.MaxPool1d(6, stride=6)\n",
    "        )\n",
    "\n",
    "        self.linear0 = nn.Sequential(\n",
    "        nn.Dropout(p=0.4, inplace=False),\n",
    "        nn.Linear(96, 117),\n",
    "        nn.ReLU(),\n",
    "        nn.Linear(117, len(hparams.genres))\n",
    "        )\n",
    "        \n",
    "\n",
    "    def forward(self, x):\n",
    "\n",
    "        x0 = x.transpose(1, 2)\n",
    "        x1 = self.block0(x0)\n",
    "        x2 = self.block1(x0)\n",
    "        x = self.conv0(x0)\n",
    "        x = self.conv1(x)+x1 #Resnet1\n",
    "        x = torch.cat((self.conv2_1(x)+self.conv2_2(x),self.conv2_2(x)+self.conv2_1(x)),2)\n",
    "        x = self.conv3(x)\n",
    "        x = x+x2#Resnet 2  \n",
    "        x = self.conv4(x)\n",
    "        x = x.view(x.size(0), x.size(1)*x.size(2))\n",
    "        x = self.linear0(x)\n",
    "\n",
    "        return x\n",
    "    \n",
    "    def _initialize_weights(self):\n",
    "        for m in self.modules():\n",
    "            if isinstance(m, nn.Conv1d):\n",
    "                nn.init.kaiming_normal_(m.weight, mode='fand_out', nonlinearity='relu')\n",
    "                if m.bias is not None:\n",
    "                    nn.init.constant_(m.bias,0.8)\n",
    "                elif isinstance(m, nn.BatchNorm1d):\n",
    "                    nn.init.constant_(m.weight, 1)\n",
    "                    nn.init.constant_(m.bias, 0.8)\n",
    "                elif isinstance(m, nn.Linear):\n",
    "                    nn.init.normal_(m.weight, 0, 0.01)\n",
    "                    nn.init.constant_(m.bias,0.8)"
   ]
  },
  {
   "cell_type": "code",
   "execution_count": null,
   "metadata": {},
   "outputs": [
    {
     "name": "stdout",
     "output_type": "stream",
     "text": [
      "Training on GPU:0\n",
      "[Epoch 10/100] [Train Loss: 1.9137] [Train Acc: 0.3133] [Valid Loss: 1.9728] [Valid Acc: 0.2562]\n",
      "[Epoch 20/100] [Train Loss: 1.8139] [Train Acc: 0.5078] [Valid Loss: 1.9116] [Valid Acc: 0.3563]\n",
      "[Epoch 30/100] [Train Loss: 1.7266] [Train Acc: 0.5969] [Valid Loss: 1.8385] [Valid Acc: 0.4562]\n"
     ]
    }
   ],
   "source": [
    "main()"
   ]
  },
  {
   "cell_type": "code",
   "execution_count": 6,
   "metadata": {},
   "outputs": [],
   "source": [
    "hparams.learning_rate = 5*1e-6\n",
    "hparams.momentum = 0.9\n",
    "hparams.factor = 0.2\n",
    "hparams.weight_decay = 1e-6\n",
    "hparams.patience = 3."
   ]
  },
  {
   "cell_type": "code",
   "execution_count": 7,
   "metadata": {},
   "outputs": [
    {
     "name": "stdout",
     "output_type": "stream",
     "text": [
      "Training on GPU:0\n",
      "[Epoch 10/100] [Train Loss: 1.9532] [Train Acc: 0.3471] [Valid Loss: 1.9878] [Valid Acc: 0.3600]\n",
      "[Epoch 20/100] [Train Loss: 1.8624] [Train Acc: 0.4292] [Valid Loss: 1.9213] [Valid Acc: 0.3467]\n",
      "[Epoch 30/100] [Train Loss: 1.7711] [Train Acc: 0.4691] [Valid Loss: 1.8433] [Valid Acc: 0.4133]\n",
      "[Epoch 40/100] [Train Loss: 1.6739] [Train Acc: 0.5054] [Valid Loss: 1.7615] [Valid Acc: 0.4000]\n",
      "[Epoch 50/100] [Train Loss: 1.5780] [Train Acc: 0.5405] [Valid Loss: 1.6970] [Valid Acc: 0.3933]\n",
      "[Epoch 60/100] [Train Loss: 1.4776] [Train Acc: 0.5757] [Valid Loss: 1.6104] [Valid Acc: 0.4333]\n",
      "[Epoch 70/100] [Train Loss: 1.3811] [Train Acc: 0.6052] [Valid Loss: 1.5010] [Valid Acc: 0.4867]\n",
      "[Epoch 80/100] [Train Loss: 1.2909] [Train Acc: 0.6373] [Valid Loss: 1.4129] [Valid Acc: 0.5200]\n",
      "[Epoch 90/100] [Train Loss: 1.1918] [Train Acc: 0.6753] [Valid Loss: 1.3450] [Valid Acc: 0.5667]\n",
      "[Epoch 100/100] [Train Loss: 1.1075] [Train Acc: 0.7038] [Valid Loss: 1.2881] [Valid Acc: 0.5533]\n",
      "Training Finished\n",
      "Test Accuracy: 60.79%\n"
     ]
    },
    {
     "data": {
      "image/png": "[encoded data removed]",
      "text/plain": [
       "<Figure size 432x288 with 1 Axes>"
      ]
     },
     "metadata": {
      "needs_background": "light"
     },
     "output_type": "display_data"
    }
   ],
   "source": [
    "main()"
   ]
  },
  {
   "cell_type": "code",
   "execution_count": 8,
   "metadata": {},
   "outputs": [],
   "source": [
    "hparams.learning_rate = 1e-5\n",
    "hparams.momentum = 0.9\n",
    "hparams.factor = 0.2\n",
    "hparams.weight_decay = 1e-6\n",
    "hparams.patience = 3."
   ]
  },
  {
   "cell_type": "code",
   "execution_count": 9,
   "metadata": {},
   "outputs": [
    {
     "name": "stdout",
     "output_type": "stream",
     "text": [
      "Training on GPU:0\n",
      "[Epoch 10/100] [Train Loss: 1.8255] [Train Acc: 0.4133] [Valid Loss: 1.8382] [Valid Acc: 0.4400]\n",
      "[Epoch 20/100] [Train Loss: 1.6041] [Train Acc: 0.5565] [Valid Loss: 1.6125] [Valid Acc: 0.5333]\n",
      "[Epoch 30/100] [Train Loss: 1.3700] [Train Acc: 0.6495] [Valid Loss: 1.4140] [Valid Acc: 0.5533]\n",
      "[Epoch 40/100] [Train Loss: 1.1428] [Train Acc: 0.7235] [Valid Loss: 1.2703] [Valid Acc: 0.5867]\n",
      "[Epoch 50/100] [Train Loss: 0.9297] [Train Acc: 0.7876] [Valid Loss: 1.1478] [Valid Acc: 0.6200]\n",
      "[Epoch 60/100] [Train Loss: 0.7576] [Train Acc: 0.8281] [Valid Loss: 1.0430] [Valid Acc: 0.6533]\n",
      "[Epoch 70/100] [Train Loss: 0.6155] [Train Acc: 0.8656] [Valid Loss: 0.9958] [Valid Acc: 0.6800]\n",
      "Epoch    71: reducing learning rate of group 0 to 2.0000e-06.\n",
      "Epoch    79: reducing learning rate of group 0 to 4.0000e-07.\n",
      "[Epoch 80/100] [Train Loss: 0.5749] [Train Acc: 0.8749] [Valid Loss: 0.9926] [Valid Acc: 0.6867]\n",
      "Epoch    86: reducing learning rate of group 0 to 8.0000e-08.\n",
      "[Epoch 90/100] [Train Loss: 0.5699] [Train Acc: 0.8805] [Valid Loss: 0.9765] [Valid Acc: 0.6733]\n",
      "Epoch    90: reducing learning rate of group 0 to 1.6000e-08.\n",
      "Epoch    94: reducing learning rate of group 0 to 3.2000e-09.\n",
      "[Epoch 100/100] [Train Loss: 0.5638] [Train Acc: 0.8822] [Valid Loss: 1.0184] [Valid Acc: 0.6400]\n",
      "Training Finished\n",
      "Test Accuracy: 69.16%\n"
     ]
    },
    {
     "data": {
      "image/png": "[encoded data removed]",
      "text/plain": [
       "<Figure size 432x288 with 1 Axes>"
      ]
     },
     "metadata": {
      "needs_background": "light"
     },
     "output_type": "display_data"
    }
   ],
   "source": [
    "main()"
   ]
  },
  {
   "cell_type": "code",
   "execution_count": 10,
   "metadata": {},
   "outputs": [],
   "source": [
    "hparams.learning_rate = 1e-4\n",
    "hparams.momentum = 0.9\n",
    "hparams.factor = 0.2\n",
    "hparams.weight_decay = 1e-6\n",
    "hparams.patience = 3."
   ]
  },
  {
   "cell_type": "code",
   "execution_count": 11,
   "metadata": {},
   "outputs": [
    {
     "name": "stdout",
     "output_type": "stream",
     "text": [
      "Training on GPU:0\n",
      "[Epoch 10/100] [Train Loss: 0.4637] [Train Acc: 0.8998] [Valid Loss: 0.9249] [Valid Acc: 0.6733]\n",
      "[Epoch 20/100] [Train Loss: 0.1377] [Train Acc: 0.9720] [Valid Loss: 0.9495] [Valid Acc: 0.6867]\n",
      "Epoch    21: reducing learning rate of group 0 to 2.0000e-05.\n",
      "Epoch    25: reducing learning rate of group 0 to 4.0000e-06.\n",
      "Epoch    29: reducing learning rate of group 0 to 8.0000e-07.\n",
      "[Epoch 30/100] [Train Loss: 0.0918] [Train Acc: 0.9865] [Valid Loss: 0.8878] [Valid Acc: 0.7200]\n",
      "Epoch    33: reducing learning rate of group 0 to 1.6000e-07.\n",
      "Epoch    37: reducing learning rate of group 0 to 3.2000e-08.\n",
      "[Epoch 40/100] [Train Loss: 0.0876] [Train Acc: 0.9858] [Valid Loss: 0.9096] [Valid Acc: 0.6933]\n",
      "Epoch    41: reducing learning rate of group 0 to 6.4000e-09.\n",
      "[Epoch 50/100] [Train Loss: 0.0935] [Train Acc: 0.9839] [Valid Loss: 0.8887] [Valid Acc: 0.6933]\n",
      "[Epoch 60/100] [Train Loss: 0.0938] [Train Acc: 0.9844] [Valid Loss: 0.8929] [Valid Acc: 0.7000]\n",
      "[Epoch 70/100] [Train Loss: 0.0914] [Train Acc: 0.9845] [Valid Loss: 0.9521] [Valid Acc: 0.6667]\n",
      "[Epoch 80/100] [Train Loss: 0.0885] [Train Acc: 0.9866] [Valid Loss: 0.8538] [Valid Acc: 0.7067]\n",
      "[Epoch 90/100] [Train Loss: 0.0916] [Train Acc: 0.9849] [Valid Loss: 0.9056] [Valid Acc: 0.7000]\n",
      "[Epoch 100/100] [Train Loss: 0.0910] [Train Acc: 0.9854] [Valid Loss: 0.9036] [Valid Acc: 0.6867]\n",
      "Training Finished\n",
      "Test Accuracy: 74.89%\n"
     ]
    },
    {
     "data": {
      "image/png": "[encoded data removed]",
      "text/plain": [
       "<Figure size 432x288 with 1 Axes>"
      ]
     },
     "metadata": {
      "needs_background": "light"
     },
     "output_type": "display_data"
    }
   ],
   "source": [
    "main()"
   ]
  },
  {
   "cell_type": "code",
   "execution_count": 6,
   "metadata": {},
   "outputs": [],
   "source": [
    "hparams.learning_rate = 5*1e-5\n",
    "hparams.momentum = 0.9\n",
    "hparams.factor = 0.2\n",
    "hparams.weight_decay = 1e-6\n",
    "hparams.patience = 3."
   ]
  },
  {
   "cell_type": "code",
   "execution_count": 7,
   "metadata": {},
   "outputs": [
    {
     "name": "stdout",
     "output_type": "stream",
     "text": [
      "Training on GPU:0\n",
      "[Epoch 10/100] [Train Loss: 1.0377] [Train Acc: 0.7294] [Valid Loss: 1.2601] [Valid Acc: 0.5067]\n",
      "Epoch    15: reducing learning rate of group 0 to 1.0000e-05.\n",
      "[Epoch 20/100] [Train Loss: 0.5664] [Train Acc: 0.8726] [Valid Loss: 1.1978] [Valid Acc: 0.5267]\n",
      "Epoch    27: reducing learning rate of group 0 to 2.0000e-06.\n",
      "[Epoch 30/100] [Train Loss: 0.4865] [Train Acc: 0.8979] [Valid Loss: 1.2002] [Valid Acc: 0.5400]\n",
      "Epoch    35: reducing learning rate of group 0 to 4.0000e-07.\n",
      "Epoch    39: reducing learning rate of group 0 to 8.0000e-08.\n",
      "[Epoch 40/100] [Train Loss: 0.4743] [Train Acc: 0.8960] [Valid Loss: 1.1605] [Valid Acc: 0.5533]\n",
      "Epoch    43: reducing learning rate of group 0 to 1.6000e-08.\n",
      "Epoch    47: reducing learning rate of group 0 to 3.2000e-09.\n",
      "[Epoch 50/100] [Train Loss: 0.4820] [Train Acc: 0.8946] [Valid Loss: 1.1734] [Valid Acc: 0.5600]\n",
      "[Epoch 60/100] [Train Loss: 0.4791] [Train Acc: 0.8988] [Valid Loss: 1.1229] [Valid Acc: 0.5667]\n",
      "[Epoch 70/100] [Train Loss: 0.4725] [Train Acc: 0.8995] [Valid Loss: 1.0785] [Valid Acc: 0.6067]\n",
      "[Epoch 80/100] [Train Loss: 0.4706] [Train Acc: 0.8983] [Valid Loss: 1.1357] [Valid Acc: 0.5533]\n",
      "[Epoch 90/100] [Train Loss: 0.4793] [Train Acc: 0.8945] [Valid Loss: 1.1400] [Valid Acc: 0.5733]\n",
      "[Epoch 100/100] [Train Loss: 0.4770] [Train Acc: 0.8990] [Valid Loss: 1.1051] [Valid Acc: 0.5933]\n",
      "Training Finished\n",
      "Test Accuracy: 69.60%\n"
     ]
    },
    {
     "data": {
      "image/png": "[encoded data removed]",
      "text/plain": [
       "<Figure size 432x288 with 1 Axes>"
      ]
     },
     "metadata": {
      "needs_background": "light"
     },
     "output_type": "display_data"
    }
   ],
   "source": [
    "main()"
   ]
  },
  {
   "cell_type": "code",
   "execution_count": 6,
   "metadata": {},
   "outputs": [],
   "source": [
    "# import argparse\n",
    "\n",
    "hparams.batch_size = 20\n",
    "hparams.num_epochs = 100\n",
    "hparams.learning_rate = 5*1e-5"
   ]
  },
  {
   "cell_type": "code",
   "execution_count": 7,
   "metadata": {},
   "outputs": [
    {
     "name": "stdout",
     "output_type": "stream",
     "text": [
      "Training on GPU:0\n",
      "[Epoch 10/100] [Train Loss: 1.1178] [Train Acc: 0.6949] [Valid Loss: 1.2811] [Valid Acc: 0.5133]\n",
      "[Epoch 20/100] [Train Loss: 0.4886] [Train Acc: 0.8907] [Valid Loss: 0.9370] [Valid Acc: 0.7000]\n",
      "Epoch    27: reducing learning rate of group 0 to 1.0000e-05.\n",
      "[Epoch 30/100] [Train Loss: 0.2633] [Train Acc: 0.9474] [Valid Loss: 0.9520] [Valid Acc: 0.6733]\n",
      "Epoch    32: reducing learning rate of group 0 to 2.0000e-06.\n",
      "Epoch    36: reducing learning rate of group 0 to 4.0000e-07.\n",
      "[Epoch 40/100] [Train Loss: 0.2537] [Train Acc: 0.9486] [Valid Loss: 0.8897] [Valid Acc: 0.7000]\n",
      "Epoch    44: reducing learning rate of group 0 to 8.0000e-08.\n",
      "Epoch    48: reducing learning rate of group 0 to 1.6000e-08.\n",
      "[Epoch 50/100] [Train Loss: 0.2534] [Train Acc: 0.9489] [Valid Loss: 0.9585] [Valid Acc: 0.6800]\n",
      "Epoch    52: reducing learning rate of group 0 to 3.2000e-09.\n",
      "[Epoch 60/100] [Train Loss: 0.2455] [Train Acc: 0.9520] [Valid Loss: 0.9428] [Valid Acc: 0.6933]\n",
      "[Epoch 70/100] [Train Loss: 0.2536] [Train Acc: 0.9529] [Valid Loss: 0.9579] [Valid Acc: 0.6867]\n",
      "[Epoch 80/100] [Train Loss: 0.2475] [Train Acc: 0.9531] [Valid Loss: 0.9432] [Valid Acc: 0.7000]\n",
      "[Epoch 90/100] [Train Loss: 0.2491] [Train Acc: 0.9500] [Valid Loss: 0.9260] [Valid Acc: 0.7000]\n",
      "[Epoch 100/100] [Train Loss: 0.2511] [Train Acc: 0.9508] [Valid Loss: 0.9235] [Valid Acc: 0.6933]\n",
      "Training Finished\n",
      "Test Accuracy: 74.45%\n"
     ]
    },
    {
     "data": {
      "image/png": "[encoded data removed]",
      "text/plain": [
       "<Figure size 432x288 with 1 Axes>"
      ]
     },
     "metadata": {
      "needs_background": "light"
     },
     "output_type": "display_data"
    }
   ],
   "source": [
    "main()"
   ]
  },
  {
   "cell_type": "code",
   "execution_count": 6,
   "metadata": {},
   "outputs": [],
   "source": [
    "hparams.learning_rate = 3*1e-5"
   ]
  },
  {
   "cell_type": "code",
   "execution_count": 7,
   "metadata": {},
   "outputs": [
    {
     "name": "stdout",
     "output_type": "stream",
     "text": [
      "Training on GPU:0\n",
      "[Epoch 10/100] [Train Loss: 1.4137] [Train Acc: 0.5904] [Valid Loss: 1.5293] [Valid Acc: 0.4067]\n",
      "[Epoch 20/100] [Train Loss: 0.8522] [Train Acc: 0.7895] [Valid Loss: 1.2194] [Valid Acc: 0.5267]\n",
      "[Epoch 30/100] [Train Loss: 0.4590] [Train Acc: 0.9063] [Valid Loss: 1.0834] [Valid Acc: 0.6133]\n",
      "Epoch    31: reducing learning rate of group 0 to 6.0000e-06.\n",
      "Epoch    38: reducing learning rate of group 0 to 1.2000e-06.\n",
      "[Epoch 40/100] [Train Loss: 0.3874] [Train Acc: 0.9208] [Valid Loss: 1.0956] [Valid Acc: 0.5933]\n",
      "Epoch    43: reducing learning rate of group 0 to 2.4000e-07.\n",
      "Epoch    47: reducing learning rate of group 0 to 4.8000e-08.\n",
      "[Epoch 50/100] [Train Loss: 0.3734] [Train Acc: 0.9306] [Valid Loss: 1.0116] [Valid Acc: 0.6333]\n",
      "Epoch    53: reducing learning rate of group 0 to 9.6000e-09.\n",
      "[Epoch 60/100] [Train Loss: 0.3782] [Train Acc: 0.9280] [Valid Loss: 1.0452] [Valid Acc: 0.6200]\n",
      "[Epoch 70/100] [Train Loss: 0.3815] [Train Acc: 0.9270] [Valid Loss: 1.0508] [Valid Acc: 0.6133]\n",
      "[Epoch 80/100] [Train Loss: 0.3839] [Train Acc: 0.9272] [Valid Loss: 1.0097] [Valid Acc: 0.6400]\n",
      "[Epoch 90/100] [Train Loss: 0.3744] [Train Acc: 0.9306] [Valid Loss: 1.0630] [Valid Acc: 0.6067]\n",
      "[Epoch 100/100] [Train Loss: 0.3863] [Train Acc: 0.9272] [Valid Loss: 0.9637] [Valid Acc: 0.6600]\n",
      "Training Finished\n",
      "Test Accuracy: 76.65%\n"
     ]
    },
    {
     "data": {
      "image/png": "[encoded data removed]",
      "text/plain": [
       "<Figure size 432x288 with 1 Axes>"
      ]
     },
     "metadata": {
      "needs_background": "light"
     },
     "output_type": "display_data"
    }
   ],
   "source": [
    "main()"
   ]
  },
  {
   "cell_type": "code",
   "execution_count": 6,
   "metadata": {},
   "outputs": [],
   "source": [
    "hparams.learning_rate = 2*1e-5"
   ]
  },
  {
   "cell_type": "code",
   "execution_count": 7,
   "metadata": {},
   "outputs": [
    {
     "name": "stdout",
     "output_type": "stream",
     "text": [
      "Training on GPU:0\n",
      "[Epoch 10/100] [Train Loss: 1.6672] [Train Acc: 0.5365] [Valid Loss: 1.7106] [Valid Acc: 0.4467]\n",
      "[Epoch 20/100] [Train Loss: 1.2661] [Train Acc: 0.6584] [Valid Loss: 1.3942] [Valid Acc: 0.4867]\n",
      "[Epoch 30/100] [Train Loss: 0.9171] [Train Acc: 0.7769] [Valid Loss: 1.2001] [Valid Acc: 0.5800]\n",
      "[Epoch 40/100] [Train Loss: 0.6180] [Train Acc: 0.8652] [Valid Loss: 1.0707] [Valid Acc: 0.6600]\n",
      "Epoch    43: reducing learning rate of group 0 to 4.0000e-06.\n",
      "[Epoch 50/100] [Train Loss: 0.5143] [Train Acc: 0.8927] [Valid Loss: 1.0503] [Valid Acc: 0.6467]\n",
      "Epoch    50: reducing learning rate of group 0 to 8.0000e-07.\n",
      "Epoch    54: reducing learning rate of group 0 to 1.6000e-07.\n",
      "Epoch    58: reducing learning rate of group 0 to 3.2000e-08.\n",
      "[Epoch 60/100] [Train Loss: 0.5021] [Train Acc: 0.8958] [Valid Loss: 1.0383] [Valid Acc: 0.6533]\n",
      "Epoch    62: reducing learning rate of group 0 to 6.4000e-09.\n",
      "[Epoch 70/100] [Train Loss: 0.5109] [Train Acc: 0.8907] [Valid Loss: 1.0462] [Valid Acc: 0.6467]\n",
      "[Epoch 80/100] [Train Loss: 0.5068] [Train Acc: 0.8955] [Valid Loss: 1.0430] [Valid Acc: 0.6467]\n",
      "[Epoch 90/100] [Train Loss: 0.5023] [Train Acc: 0.8978] [Valid Loss: 1.0376] [Valid Acc: 0.6533]\n",
      "[Epoch 100/100] [Train Loss: 0.5066] [Train Acc: 0.8975] [Valid Loss: 1.0568] [Valid Acc: 0.6533]\n",
      "Training Finished\n",
      "Test Accuracy: 72.25%\n"
     ]
    },
    {
     "data": {
      "image/png": "[encoded data removed]",
      "text/plain": [
       "<Figure size 432x288 with 1 Axes>"
      ]
     },
     "metadata": {
      "needs_background": "light"
     },
     "output_type": "display_data"
    }
   ],
   "source": [
    "main()"
   ]
  },
  {
   "cell_type": "code",
   "execution_count": 6,
   "metadata": {},
   "outputs": [],
   "source": [
    "hparams.learning_rate = 1e-5"
   ]
  },
  {
   "cell_type": "code",
   "execution_count": 7,
   "metadata": {},
   "outputs": [
    {
     "name": "stdout",
     "output_type": "stream",
     "text": [
      "Training on GPU:0\n",
      "[Epoch 10/100] [Train Loss: 1.7996] [Train Acc: 0.4467] [Valid Loss: 1.8334] [Valid Acc: 0.3933]\n",
      "[Epoch 20/100] [Train Loss: 1.5834] [Train Acc: 0.5244] [Valid Loss: 1.6455] [Valid Acc: 0.4067]\n",
      "[Epoch 30/100] [Train Loss: 1.3871] [Train Acc: 0.5938] [Valid Loss: 1.4728] [Valid Acc: 0.4667]\n",
      "[Epoch 40/100] [Train Loss: 1.2030] [Train Acc: 0.6636] [Valid Loss: 1.3383] [Valid Acc: 0.5333]\n",
      "[Epoch 50/100] [Train Loss: 1.0209] [Train Acc: 0.7399] [Valid Loss: 1.2515] [Valid Acc: 0.5400]\n",
      "[Epoch 60/100] [Train Loss: 0.8494] [Train Acc: 0.7948] [Valid Loss: 1.1590] [Valid Acc: 0.6133]\n",
      "[Epoch 70/100] [Train Loss: 0.7091] [Train Acc: 0.8356] [Valid Loss: 1.1007] [Valid Acc: 0.6133]\n",
      "Epoch    76: reducing learning rate of group 0 to 2.0000e-06.\n",
      "[Epoch 80/100] [Train Loss: 0.6119] [Train Acc: 0.8675] [Valid Loss: 1.0743] [Valid Acc: 0.6333]\n",
      "Epoch    81: reducing learning rate of group 0 to 4.0000e-07.\n",
      "Epoch    85: reducing learning rate of group 0 to 8.0000e-08.\n",
      "Epoch    89: reducing learning rate of group 0 to 1.6000e-08.\n",
      "[Epoch 90/100] [Train Loss: 0.6015] [Train Acc: 0.8694] [Valid Loss: 1.0652] [Valid Acc: 0.6400]\n",
      "Epoch    93: reducing learning rate of group 0 to 3.2000e-09.\n",
      "[Epoch 100/100] [Train Loss: 0.6050] [Train Acc: 0.8666] [Valid Loss: 1.0813] [Valid Acc: 0.6467]\n",
      "Training Finished\n",
      "Test Accuracy: 72.25%\n"
     ]
    },
    {
     "data": {
      "image/png": "[encoded data removed]",
      "text/plain": [
       "<Figure size 432x288 with 1 Axes>"
      ]
     },
     "metadata": {
      "needs_background": "light"
     },
     "output_type": "display_data"
    }
   ],
   "source": [
    "main()"
   ]
  },
  {
   "cell_type": "code",
   "execution_count": null,
   "metadata": {},
   "outputs": [],
   "source": []
  },
  {
   "cell_type": "code",
   "execution_count": null,
   "metadata": {},
   "outputs": [],
   "source": []
  },
  {
   "cell_type": "code",
   "execution_count": null,
   "metadata": {},
   "outputs": [],
   "source": []
  },
  {
   "cell_type": "code",
   "execution_count": 7,
   "metadata": {},
   "outputs": [],
   "source": [
    "hparams.learning_rate = 3*1e-5\n",
    "hparams.momentum = 0.9"
   ]
  },
  {
   "cell_type": "code",
   "execution_count": 8,
   "metadata": {},
   "outputs": [
    {
     "name": "stdout",
     "output_type": "stream",
     "text": [
      "Training on GPU:0\n",
      "[Epoch 10/100] [Train Loss: 1.5192] [Train Acc: 0.5078] [Valid Loss: 1.5490] [Valid Acc: 0.4067]\n",
      "[Epoch 20/100] [Train Loss: 1.0255] [Train Acc: 0.7257] [Valid Loss: 1.1943] [Valid Acc: 0.5600]\n",
      "[Epoch 30/100] [Train Loss: 0.6199] [Train Acc: 0.8558] [Valid Loss: 1.0516] [Valid Acc: 0.6800]\n",
      "[Epoch 40/100] [Train Loss: 0.3789] [Train Acc: 0.9176] [Valid Loss: 0.8910] [Valid Acc: 0.7333]\n",
      "Epoch    44: reducing learning rate of group 0 to 6.0000e-06.\n",
      "Epoch    48: reducing learning rate of group 0 to 1.2000e-06.\n",
      "[Epoch 50/100] [Train Loss: 0.2864] [Train Acc: 0.9422] [Valid Loss: 0.9483] [Valid Acc: 0.7067]\n",
      "Epoch    52: reducing learning rate of group 0 to 2.4000e-07.\n",
      "Epoch    56: reducing learning rate of group 0 to 4.8000e-08.\n",
      "[Epoch 60/100] [Train Loss: 0.2879] [Train Acc: 0.9426] [Valid Loss: 0.9248] [Valid Acc: 0.7067]\n",
      "Epoch    60: reducing learning rate of group 0 to 9.6000e-09.\n",
      "[Epoch 70/100] [Train Loss: 0.2921] [Train Acc: 0.9427] [Valid Loss: 0.8935] [Valid Acc: 0.7267]\n",
      "[Epoch 80/100] [Train Loss: 0.2865] [Train Acc: 0.9448] [Valid Loss: 0.9084] [Valid Acc: 0.7400]\n",
      "[Epoch 90/100] [Train Loss: 0.2816] [Train Acc: 0.9452] [Valid Loss: 0.9363] [Valid Acc: 0.7067]\n",
      "[Epoch 100/100] [Train Loss: 0.2911] [Train Acc: 0.9440] [Valid Loss: 0.9267] [Valid Acc: 0.6933]\n",
      "Training Finished\n",
      "Test Accuracy: 76.21%\n"
     ]
    },
    {
     "data": {
      "image/png": "[encoded data removed]",
      "text/plain": [
       "<Figure size 432x288 with 1 Axes>"
      ]
     },
     "metadata": {
      "needs_background": "light"
     },
     "output_type": "display_data"
    }
   ],
   "source": [
    "main()"
   ]
  },
  {
   "cell_type": "code",
   "execution_count": 9,
   "metadata": {},
   "outputs": [],
   "source": [
    "hparams.num_epochs = 100\n",
    "hparams.batch_size = 30\n",
    "hparams.learning_rate = 8*1e-5\n",
    "hparams.momentum = 0.9\n",
    "hparams.factor = 0.2\n",
    "hparams.weight_decay = 1e-6\n",
    "hparams.patience = 2.5"
   ]
  },
  {
   "cell_type": "code",
   "execution_count": 10,
   "metadata": {},
   "outputs": [
    {
     "name": "stdout",
     "output_type": "stream",
     "text": [
      "Training on GPU:0\n",
      "[Epoch 10/100] [Train Loss: 1.0383] [Train Acc: 0.7430] [Valid Loss: 1.2495] [Valid Acc: 0.5667]\n",
      "[Epoch 20/100] [Train Loss: 0.3812] [Train Acc: 0.9223] [Valid Loss: 0.9413] [Valid Acc: 0.6867]\n",
      "Epoch    29: reducing learning rate of group 0 to 1.6000e-05.\n",
      "[Epoch 30/100] [Train Loss: 0.1771] [Train Acc: 0.9673] [Valid Loss: 0.8850] [Valid Acc: 0.7467]\n",
      "Epoch    33: reducing learning rate of group 0 to 3.2000e-06.\n",
      "Epoch    36: reducing learning rate of group 0 to 6.4000e-07.\n",
      "Epoch    39: reducing learning rate of group 0 to 1.2800e-07.\n",
      "[Epoch 40/100] [Train Loss: 0.1618] [Train Acc: 0.9745] [Valid Loss: 0.9634] [Valid Acc: 0.6933]\n",
      "Epoch    42: reducing learning rate of group 0 to 2.5600e-08.\n",
      "Epoch    45: reducing learning rate of group 0 to 5.1200e-09.\n",
      "[Epoch 50/100] [Train Loss: 0.1569] [Train Acc: 0.9752] [Valid Loss: 0.9208] [Valid Acc: 0.7267]\n",
      "[Epoch 60/100] [Train Loss: 0.1622] [Train Acc: 0.9735] [Valid Loss: 0.9215] [Valid Acc: 0.7133]\n",
      "[Epoch 70/100] [Train Loss: 0.1639] [Train Acc: 0.9722] [Valid Loss: 0.9434] [Valid Acc: 0.7133]\n",
      "[Epoch 80/100] [Train Loss: 0.1601] [Train Acc: 0.9716] [Valid Loss: 0.9178] [Valid Acc: 0.7267]\n",
      "[Epoch 90/100] [Train Loss: 0.1611] [Train Acc: 0.9739] [Valid Loss: 0.9336] [Valid Acc: 0.7200]\n",
      "[Epoch 100/100] [Train Loss: 0.1672] [Train Acc: 0.9708] [Valid Loss: 0.9382] [Valid Acc: 0.7000]\n",
      "Training Finished\n",
      "Test Accuracy: 76.21%\n"
     ]
    },
    {
     "data": {
      "image/png": "[encoded data removed]",
      "text/plain": [
       "<Figure size 432x288 with 1 Axes>"
      ]
     },
     "metadata": {
      "needs_background": "light"
     },
     "output_type": "display_data"
    }
   ],
   "source": [
    "main()"
   ]
  },
  {
   "cell_type": "code",
   "execution_count": 11,
   "metadata": {},
   "outputs": [],
   "source": [
    "hparams.learning_rate = 5*1e-5\n",
    "hparams.patience = 3."
   ]
  },
  {
   "cell_type": "code",
   "execution_count": 12,
   "metadata": {},
   "outputs": [
    {
     "name": "stdout",
     "output_type": "stream",
     "text": [
      "Training on GPU:0\n",
      "[Epoch 10/100] [Train Loss: 1.4326] [Train Acc: 0.5788] [Valid Loss: 1.4956] [Valid Acc: 0.4267]\n",
      "[Epoch 20/100] [Train Loss: 0.8546] [Train Acc: 0.7970] [Valid Loss: 1.1799] [Valid Acc: 0.5533]\n",
      "[Epoch 30/100] [Train Loss: 0.4733] [Train Acc: 0.8975] [Valid Loss: 1.0480] [Valid Acc: 0.6200]\n",
      "[Epoch 40/100] [Train Loss: 0.2746] [Train Acc: 0.9428] [Valid Loss: 0.9622] [Valid Acc: 0.6533]\n",
      "Epoch    40: reducing learning rate of group 0 to 1.0000e-05.\n",
      "Epoch    44: reducing learning rate of group 0 to 2.0000e-06.\n",
      "Epoch    48: reducing learning rate of group 0 to 4.0000e-07.\n",
      "[Epoch 50/100] [Train Loss: 0.2492] [Train Acc: 0.9534] [Valid Loss: 0.9653] [Valid Acc: 0.6533]\n",
      "Epoch    53: reducing learning rate of group 0 to 8.0000e-08.\n",
      "Epoch    57: reducing learning rate of group 0 to 1.6000e-08.\n",
      "[Epoch 60/100] [Train Loss: 0.2513] [Train Acc: 0.9516] [Valid Loss: 1.0194] [Valid Acc: 0.6533]\n",
      "Epoch    61: reducing learning rate of group 0 to 3.2000e-09.\n",
      "[Epoch 70/100] [Train Loss: 0.2469] [Train Acc: 0.9551] [Valid Loss: 0.9863] [Valid Acc: 0.6467]\n",
      "[Epoch 80/100] [Train Loss: 0.2410] [Train Acc: 0.9571] [Valid Loss: 1.0048] [Valid Acc: 0.6467]\n",
      "[Epoch 90/100] [Train Loss: 0.2419] [Train Acc: 0.9554] [Valid Loss: 0.9708] [Valid Acc: 0.6533]\n",
      "[Epoch 100/100] [Train Loss: 0.2440] [Train Acc: 0.9547] [Valid Loss: 1.0096] [Valid Acc: 0.6533]\n",
      "Training Finished\n",
      "Test Accuracy: 73.57%\n"
     ]
    },
    {
     "data": {
      "image/png": "[encoded data removed]",
      "text/plain": [
       "<Figure size 432x288 with 1 Axes>"
      ]
     },
     "metadata": {
      "needs_background": "light"
     },
     "output_type": "display_data"
    }
   ],
   "source": [
    "main()"
   ]
  },
  {
   "cell_type": "code",
   "execution_count": 13,
   "metadata": {},
   "outputs": [],
   "source": [
    "\n",
    "class Baseline(nn.Module):\n",
    "    def __init__(self, hparams):\n",
    "        super(Baseline, self).__init__()\n",
    "        \n",
    "        self.conv0 = nn.Sequential(\n",
    "        nn.Conv1d(hparams.num_mels, 64, kernel_size=8, stride=1, padding=1),\n",
    "        nn.BatchNorm1d(64),\n",
    "        nn.ReLU(),\n",
    "        nn.MaxPool1d(4, stride=4)\n",
    "        )\n",
    "\n",
    "        self.conv1 = nn.Sequential(\n",
    "        nn.Conv1d(64, 128, kernel_size=4, stride=1, padding=1),\n",
    "        nn.ReLU(),\n",
    "        torch.nn.Dropout(p=0.3, inplace=False),\n",
    "        nn.MaxPool1d(4, stride=4)\n",
    "        \n",
    "        )\n",
    "        #Res 1\n",
    "        self.block0 = nn.Sequential(\n",
    "        nn.Conv1d(128,128, kernel_size=4, stride=1, padding=1),\n",
    "        nn.BatchNorm1d(128),\n",
    "        nn.ReLU(),\n",
    "        nn.MaxPool1d(16, stride=16)\n",
    "        )\n",
    "\n",
    "        #분할하여 다르게 처리\n",
    "        self.conv2_1 = nn.Sequential(\n",
    "        nn.Conv1d(128, 128, kernel_size=8, stride=1, padding=1),\n",
    "        nn.Dropout(p=0.3, inplace=False),\n",
    "        nn.ReLU(),\n",
    "        nn.MaxPool1d(4, stride=4)\n",
    "        )\n",
    "        \n",
    "        self.conv2_2 = nn.Sequential(\n",
    "        nn.Conv1d(128, 128, kernel_size=8, stride=1, padding=1),\n",
    "        nn.BatchNorm1d(128),\n",
    "        nn.ReLU(),\n",
    "        nn.AvgPool1d(4, stride=4)\n",
    "        )\n",
    "        \n",
    "        \n",
    "         \n",
    "        self.conv3 = nn.Sequential(\n",
    "        nn.Conv1d(256, 128, kernel_size=4, stride=1, padding=2),\n",
    "        nn.BatchNorm1d(128),\n",
    "        nn.ReLU(),\n",
    "        nn.MaxPool1d(4, stride=4)\n",
    "        )\n",
    "        \n",
    "        \n",
    "        ## ResNet2\n",
    "        self.block1 = nn.Sequential(\n",
    "        nn.Conv1d(128,128, kernel_size=8, stride=2, padding=1),\n",
    "        nn.BatchNorm1d(128),\n",
    "        nn.ReLU(),\n",
    "        nn.MaxPool1d(8, stride=8),\n",
    "        nn.Conv1d(128,128, kernel_size=8, stride=2, padding=1),\n",
    "        nn.BatchNorm1d(128),\n",
    "        nn.ReLU(),\n",
    "        nn.MaxPool1d(8, stride=8)\n",
    "        )\n",
    "        \n",
    "\n",
    "        self.linear0 = nn.Sequential(\n",
    "        nn.Dropout(p=0.4, inplace=False),\n",
    "        nn.Linear(128*14, 117),\n",
    "        nn.Dropout(p=0.4, inplace=False),\n",
    "        nn.ReLU(),\n",
    "        nn.Linear(117, len(hparams.genres))\n",
    "        )\n",
    "        \n",
    "\n",
    "    def forward(self, x):\n",
    "\n",
    "        x0 = x.transpose(1, 2)\n",
    "        x1 = self.block0(x0)\n",
    "        x2 = self.block1(x0)\n",
    "        x = self.conv0(x0)\n",
    "        x = self.conv1(x)+x1 #Resnet1\n",
    "        x = self.conv2_2(x)\n",
    "        #x = self.conv3(x)\n",
    "        #x = x+x2#Resnet 2  \n",
    "        #x = self.conv4(x)\n",
    "        x = x.view(x.size(0), x.size(1)*x.size(2))\n",
    "        x = self.linear0(x)\n",
    "\n",
    "        return x\n",
    "    "
   ]
  },
  {
   "cell_type": "code",
   "execution_count": 14,
   "metadata": {},
   "outputs": [
    {
     "name": "stdout",
     "output_type": "stream",
     "text": [
      "Training on GPU:0\n",
      "[Epoch 10/100] [Train Loss: 1.2380] [Train Acc: 0.6019] [Valid Loss: 1.3025] [Valid Acc: 0.5133]\n",
      "[Epoch 20/100] [Train Loss: 0.7541] [Train Acc: 0.7717] [Valid Loss: 0.9977] [Valid Acc: 0.6600]\n",
      "Epoch    28: reducing learning rate of group 0 to 1.0000e-05.\n",
      "[Epoch 30/100] [Train Loss: 0.4723] [Train Acc: 0.8662] [Valid Loss: 0.8814] [Valid Acc: 0.6867]\n",
      "Epoch    34: reducing learning rate of group 0 to 2.0000e-06.\n",
      "Epoch    38: reducing learning rate of group 0 to 4.0000e-07.\n",
      "[Epoch 40/100] [Train Loss: 0.4372] [Train Acc: 0.8798] [Valid Loss: 0.9052] [Valid Acc: 0.6800]\n",
      "Epoch    42: reducing learning rate of group 0 to 8.0000e-08.\n",
      "Epoch    46: reducing learning rate of group 0 to 1.6000e-08.\n",
      "[Epoch 50/100] [Train Loss: 0.4354] [Train Acc: 0.8812] [Valid Loss: 0.9089] [Valid Acc: 0.6867]\n",
      "Epoch    50: reducing learning rate of group 0 to 3.2000e-09.\n",
      "[Epoch 60/100] [Train Loss: 0.4340] [Train Acc: 0.8811] [Valid Loss: 0.9028] [Valid Acc: 0.7000]\n",
      "[Epoch 70/100] [Train Loss: 0.4463] [Train Acc: 0.8738] [Valid Loss: 0.8716] [Valid Acc: 0.6933]\n",
      "[Epoch 80/100] [Train Loss: 0.4380] [Train Acc: 0.8840] [Valid Loss: 0.9010] [Valid Acc: 0.6800]\n",
      "[Epoch 90/100] [Train Loss: 0.4389] [Train Acc: 0.8783] [Valid Loss: 0.9075] [Valid Acc: 0.6867]\n",
      "[Epoch 100/100] [Train Loss: 0.4368] [Train Acc: 0.8784] [Valid Loss: 0.9017] [Valid Acc: 0.7000]\n",
      "Training Finished\n",
      "Test Accuracy: 73.13%\n"
     ]
    },
    {
     "data": {
      "image/png": "[encoded data removed]",
      "text/plain": [
       "<Figure size 432x288 with 1 Axes>"
      ]
     },
     "metadata": {
      "needs_background": "light"
     },
     "output_type": "display_data"
    }
   ],
   "source": [
    "main()"
   ]
  },
  {
   "cell_type": "code",
   "execution_count": 15,
   "metadata": {},
   "outputs": [],
   "source": [
    "\n",
    "class Baseline(nn.Module):\n",
    "    def __init__(self, hparams):\n",
    "        super(Baseline, self).__init__()\n",
    "        \n",
    "        self.conv0 = nn.Sequential(\n",
    "        nn.Conv1d(hparams.num_mels, 64, kernel_size=8, stride=1, padding=1),\n",
    "        nn.BatchNorm1d(64),\n",
    "        nn.ReLU(),\n",
    "        nn.MaxPool1d(4, stride=4)\n",
    "        )\n",
    "\n",
    "        self.conv1 = nn.Sequential(\n",
    "        nn.Conv1d(64, 128, kernel_size=4, stride=1, padding=1),\n",
    "        nn.ReLU(),\n",
    "        torch.nn.Dropout(p=0.3, inplace=False),\n",
    "        nn.MaxPool1d(4, stride=4)\n",
    "        \n",
    "        )\n",
    "        #Res 1\n",
    "        self.block0 = nn.Sequential(\n",
    "        nn.Conv1d(128,128, kernel_size=4, stride=1, padding=1),\n",
    "        nn.BatchNorm1d(128),\n",
    "        nn.ReLU(),\n",
    "        nn.MaxPool1d(16, stride=16)\n",
    "        )\n",
    "\n",
    "        #분할하여 다르게 처리\n",
    "        self.conv2_1 = nn.Sequential(\n",
    "        nn.Conv1d(128, 128, kernel_size=8, stride=1, padding=1),\n",
    "        nn.Dropout(p=0.3, inplace=False),\n",
    "        nn.ReLU(),\n",
    "        nn.MaxPool1d(4, stride=4)\n",
    "        )\n",
    "        \n",
    "        self.conv2_2 = nn.Sequential(\n",
    "        nn.Conv1d(128, 128, kernel_size=8, stride=1, padding=1),\n",
    "        nn.BatchNorm1d(128),\n",
    "        nn.ReLU(),\n",
    "        nn.AvgPool1d(4, stride=4)\n",
    "        )\n",
    "        \n",
    "        \n",
    "         \n",
    "        self.conv3 = nn.Sequential(\n",
    "        nn.Conv1d(256, 128, kernel_size=4, stride=1, padding=2),\n",
    "        nn.BatchNorm1d(128),\n",
    "        nn.ReLU(),\n",
    "        nn.MaxPool1d(4, stride=4)\n",
    "        )\n",
    "        \n",
    "        \n",
    "        ## ResNet2\n",
    "        self.block1 = nn.Sequential(\n",
    "        nn.Conv1d(128,128, kernel_size=8, stride=2, padding=1),\n",
    "        nn.BatchNorm1d(128),\n",
    "        nn.ReLU(),\n",
    "        nn.MaxPool1d(8, stride=8),\n",
    "        nn.Conv1d(128,128, kernel_size=8, stride=2, padding=1),\n",
    "        nn.BatchNorm1d(128),\n",
    "        nn.ReLU(),\n",
    "        nn.MaxPool1d(8, stride=8)\n",
    "        )\n",
    "        \n",
    "\n",
    "        self.linear0 = nn.Sequential(\n",
    "        nn.Dropout(p=0.4, inplace=False),\n",
    "        nn.Linear(128*14, 117),\n",
    "        nn.Dropout(p=0.4, inplace=False),\n",
    "        nn.ReLU(),\n",
    "        nn.Linear(117, len(hparams.genres))\n",
    "        )\n",
    "        \n",
    "\n",
    "    def forward(self, x):\n",
    "\n",
    "        x0 = x.transpose(1, 2)\n",
    "        x1 = self.block0(x0)\n",
    "        x2 = self.block1(x0)\n",
    "        x = self.conv0(x0)\n",
    "        x = self.conv1(x)\n",
    "        x = self.conv2_2(x)\n",
    "        #x = self.conv3(x)\n",
    "        #x = x+x2#Resnet 2  \n",
    "        #x = self.conv4(x)\n",
    "        x = x.view(x.size(0), x.size(1)*x.size(2))\n",
    "        x = self.linear0(x)\n",
    "\n",
    "        return x\n",
    "    "
   ]
  },
  {
   "cell_type": "code",
   "execution_count": 16,
   "metadata": {},
   "outputs": [
    {
     "name": "stdout",
     "output_type": "stream",
     "text": [
      "Training on GPU:0\n",
      "[Epoch 10/100] [Train Loss: 1.2282] [Train Acc: 0.5890] [Valid Loss: 1.4077] [Valid Acc: 0.4333]\n",
      "[Epoch 20/100] [Train Loss: 0.7534] [Train Acc: 0.7637] [Valid Loss: 1.2935] [Valid Acc: 0.4600]\n",
      "Epoch    21: reducing learning rate of group 0 to 1.0000e-05.\n",
      "Epoch    27: reducing learning rate of group 0 to 2.0000e-06.\n",
      "[Epoch 30/100] [Train Loss: 0.6362] [Train Acc: 0.8140] [Valid Loss: 1.2854] [Valid Acc: 0.4733]\n",
      "Epoch    31: reducing learning rate of group 0 to 4.0000e-07.\n",
      "Epoch    35: reducing learning rate of group 0 to 8.0000e-08.\n",
      "Epoch    39: reducing learning rate of group 0 to 1.6000e-08.\n",
      "[Epoch 40/100] [Train Loss: 0.6257] [Train Acc: 0.8178] [Valid Loss: 1.2685] [Valid Acc: 0.4800]\n",
      "Epoch    43: reducing learning rate of group 0 to 3.2000e-09.\n",
      "[Epoch 50/100] [Train Loss: 0.6305] [Train Acc: 0.8145] [Valid Loss: 1.2161] [Valid Acc: 0.5200]\n",
      "[Epoch 60/100] [Train Loss: 0.6320] [Train Acc: 0.8140] [Valid Loss: 1.3100] [Valid Acc: 0.4533]\n",
      "[Epoch 70/100] [Train Loss: 0.6253] [Train Acc: 0.8145] [Valid Loss: 1.2197] [Valid Acc: 0.4933]\n",
      "[Epoch 80/100] [Train Loss: 0.6270] [Train Acc: 0.8168] [Valid Loss: 1.2563] [Valid Acc: 0.4867]\n",
      "[Epoch 90/100] [Train Loss: 0.6337] [Train Acc: 0.8110] [Valid Loss: 1.2501] [Valid Acc: 0.4933]\n",
      "[Epoch 100/100] [Train Loss: 0.6260] [Train Acc: 0.8130] [Valid Loss: 1.2967] [Valid Acc: 0.4733]\n",
      "Training Finished\n",
      "Test Accuracy: 52.86%\n"
     ]
    },
    {
     "data": {
      "image/png": "[encoded data removed]",
      "text/plain": [
       "<Figure size 432x288 with 1 Axes>"
      ]
     },
     "metadata": {
      "needs_background": "light"
     },
     "output_type": "display_data"
    }
   ],
   "source": [
    "main()"
   ]
  },
  {
   "cell_type": "code",
   "execution_count": 6,
   "metadata": {},
   "outputs": [
    {
     "ename": "MemoryError",
     "evalue": "",
     "output_type": "error",
     "traceback": [
      "\u001b[1;31m---------------------------------------------------------------------------\u001b[0m",
      "\u001b[1;31mMemoryError\u001b[0m                               Traceback (most recent call last)",
      "\u001b[1;32m<ipython-input-6-263240bbee7e>\u001b[0m in \u001b[0;36m<module>\u001b[1;34m\u001b[0m\n\u001b[1;32m----> 1\u001b[1;33m \u001b[0mmain\u001b[0m\u001b[1;33m(\u001b[0m\u001b[1;33m)\u001b[0m\u001b[1;33m\u001b[0m\u001b[1;33m\u001b[0m\u001b[0m\n\u001b[0m",
      "\u001b[1;32m<ipython-input-3-20a2a2dda2de>\u001b[0m in \u001b[0;36mmain\u001b[1;34m()\u001b[0m\n\u001b[0;32m     92\u001b[0m \u001b[1;33m\u001b[0m\u001b[0m\n\u001b[0;32m     93\u001b[0m \u001b[1;32mdef\u001b[0m \u001b[0mmain\u001b[0m\u001b[1;33m(\u001b[0m\u001b[1;33m)\u001b[0m\u001b[1;33m:\u001b[0m\u001b[1;33m\u001b[0m\u001b[1;33m\u001b[0m\u001b[0m\n\u001b[1;32m---> 94\u001b[1;33m     \u001b[0mtrain_loader\u001b[0m\u001b[1;33m,\u001b[0m \u001b[0mvalid_loader\u001b[0m\u001b[1;33m,\u001b[0m \u001b[0mtest_loader\u001b[0m \u001b[1;33m=\u001b[0m \u001b[0mget_dataloader\u001b[0m\u001b[1;33m(\u001b[0m\u001b[0mhparams\u001b[0m\u001b[1;33m)\u001b[0m\u001b[1;33m\u001b[0m\u001b[1;33m\u001b[0m\u001b[0m\n\u001b[0m\u001b[0;32m     95\u001b[0m     \u001b[0mrunner\u001b[0m \u001b[1;33m=\u001b[0m \u001b[0mRunner\u001b[0m\u001b[1;33m(\u001b[0m\u001b[0mhparams\u001b[0m\u001b[1;33m)\u001b[0m\u001b[1;33m\u001b[0m\u001b[1;33m\u001b[0m\u001b[0m\n\u001b[0;32m     96\u001b[0m \u001b[1;33m\u001b[0m\u001b[0m\n",
      "\u001b[1;32m<ipython-input-1-edfe2a154512>\u001b[0m in \u001b[0;36mget_dataloader\u001b[1;34m(hparams)\u001b[0m\n\u001b[0;32m     44\u001b[0m     \u001b[0mmean\u001b[0m \u001b[1;33m=\u001b[0m \u001b[0mnp\u001b[0m\u001b[1;33m.\u001b[0m\u001b[0mmean\u001b[0m\u001b[1;33m(\u001b[0m\u001b[0mx_train\u001b[0m\u001b[1;33m)\u001b[0m\u001b[1;33m\u001b[0m\u001b[1;33m\u001b[0m\u001b[0m\n\u001b[0;32m     45\u001b[0m     \u001b[0mstd\u001b[0m \u001b[1;33m=\u001b[0m \u001b[0mnp\u001b[0m\u001b[1;33m.\u001b[0m\u001b[0mstd\u001b[0m\u001b[1;33m(\u001b[0m\u001b[0mx_train\u001b[0m\u001b[1;33m)\u001b[0m\u001b[1;33m\u001b[0m\u001b[1;33m\u001b[0m\u001b[0m\n\u001b[1;32m---> 46\u001b[1;33m     \u001b[0mx_train\u001b[0m \u001b[1;33m=\u001b[0m \u001b[1;33m(\u001b[0m\u001b[0mx_train\u001b[0m \u001b[1;33m-\u001b[0m \u001b[0mmean\u001b[0m\u001b[1;33m)\u001b[0m\u001b[1;33m/\u001b[0m\u001b[0mstd\u001b[0m\u001b[1;33m\u001b[0m\u001b[1;33m\u001b[0m\u001b[0m\n\u001b[0m\u001b[0;32m     47\u001b[0m     \u001b[0mx_valid\u001b[0m \u001b[1;33m=\u001b[0m \u001b[1;33m(\u001b[0m\u001b[0mx_valid\u001b[0m \u001b[1;33m-\u001b[0m \u001b[0mmean\u001b[0m\u001b[1;33m)\u001b[0m\u001b[1;33m/\u001b[0m\u001b[0mstd\u001b[0m\u001b[1;33m\u001b[0m\u001b[1;33m\u001b[0m\u001b[0m\n\u001b[0;32m     48\u001b[0m     \u001b[0mx_test\u001b[0m \u001b[1;33m=\u001b[0m \u001b[1;33m(\u001b[0m\u001b[0mx_test\u001b[0m \u001b[1;33m-\u001b[0m \u001b[0mmean\u001b[0m\u001b[1;33m)\u001b[0m\u001b[1;33m/\u001b[0m\u001b[0mstd\u001b[0m\u001b[1;33m\u001b[0m\u001b[1;33m\u001b[0m\u001b[0m\n",
      "\u001b[1;31mMemoryError\u001b[0m: "
     ]
    }
   ],
   "source": [
    "main()"
   ]
  },
  {
   "cell_type": "code",
   "execution_count": 17,
   "metadata": {},
   "outputs": [],
   "source": [
    "hparams.num_epochs = 100\n",
    "hparams.batch_size = 30\n",
    "hparams.learning_rate = 1e-5\n",
    "hparams.momentum = 0.9\n",
    "hparams.factor = 0.2\n",
    "hparams.weight_decay = 1e-6\n",
    "hparams.patience = 3."
   ]
  },
  {
   "cell_type": "code",
   "execution_count": 18,
   "metadata": {},
   "outputs": [
    {
     "ename": "MemoryError",
     "evalue": "",
     "output_type": "error",
     "traceback": [
      "\u001b[1;31m---------------------------------------------------------------------------\u001b[0m",
      "\u001b[1;31mMemoryError\u001b[0m                               Traceback (most recent call last)",
      "\u001b[1;32m<ipython-input-18-263240bbee7e>\u001b[0m in \u001b[0;36m<module>\u001b[1;34m\u001b[0m\n\u001b[1;32m----> 1\u001b[1;33m \u001b[0mmain\u001b[0m\u001b[1;33m(\u001b[0m\u001b[1;33m)\u001b[0m\u001b[1;33m\u001b[0m\u001b[1;33m\u001b[0m\u001b[0m\n\u001b[0m",
      "\u001b[1;32m<ipython-input-4-20a2a2dda2de>\u001b[0m in \u001b[0;36mmain\u001b[1;34m()\u001b[0m\n\u001b[0;32m     92\u001b[0m \u001b[1;33m\u001b[0m\u001b[0m\n\u001b[0;32m     93\u001b[0m \u001b[1;32mdef\u001b[0m \u001b[0mmain\u001b[0m\u001b[1;33m(\u001b[0m\u001b[1;33m)\u001b[0m\u001b[1;33m:\u001b[0m\u001b[1;33m\u001b[0m\u001b[1;33m\u001b[0m\u001b[0m\n\u001b[1;32m---> 94\u001b[1;33m     \u001b[0mtrain_loader\u001b[0m\u001b[1;33m,\u001b[0m \u001b[0mvalid_loader\u001b[0m\u001b[1;33m,\u001b[0m \u001b[0mtest_loader\u001b[0m \u001b[1;33m=\u001b[0m \u001b[0mget_dataloader\u001b[0m\u001b[1;33m(\u001b[0m\u001b[0mhparams\u001b[0m\u001b[1;33m)\u001b[0m\u001b[1;33m\u001b[0m\u001b[1;33m\u001b[0m\u001b[0m\n\u001b[0m\u001b[0;32m     95\u001b[0m     \u001b[0mrunner\u001b[0m \u001b[1;33m=\u001b[0m \u001b[0mRunner\u001b[0m\u001b[1;33m(\u001b[0m\u001b[0mhparams\u001b[0m\u001b[1;33m)\u001b[0m\u001b[1;33m\u001b[0m\u001b[1;33m\u001b[0m\u001b[0m\n\u001b[0;32m     96\u001b[0m \u001b[1;33m\u001b[0m\u001b[0m\n",
      "\u001b[1;32m<ipython-input-2-edfe2a154512>\u001b[0m in \u001b[0;36mget_dataloader\u001b[1;34m(hparams)\u001b[0m\n\u001b[0;32m     44\u001b[0m     \u001b[0mmean\u001b[0m \u001b[1;33m=\u001b[0m \u001b[0mnp\u001b[0m\u001b[1;33m.\u001b[0m\u001b[0mmean\u001b[0m\u001b[1;33m(\u001b[0m\u001b[0mx_train\u001b[0m\u001b[1;33m)\u001b[0m\u001b[1;33m\u001b[0m\u001b[1;33m\u001b[0m\u001b[0m\n\u001b[0;32m     45\u001b[0m     \u001b[0mstd\u001b[0m \u001b[1;33m=\u001b[0m \u001b[0mnp\u001b[0m\u001b[1;33m.\u001b[0m\u001b[0mstd\u001b[0m\u001b[1;33m(\u001b[0m\u001b[0mx_train\u001b[0m\u001b[1;33m)\u001b[0m\u001b[1;33m\u001b[0m\u001b[1;33m\u001b[0m\u001b[0m\n\u001b[1;32m---> 46\u001b[1;33m     \u001b[0mx_train\u001b[0m \u001b[1;33m=\u001b[0m \u001b[1;33m(\u001b[0m\u001b[0mx_train\u001b[0m \u001b[1;33m-\u001b[0m \u001b[0mmean\u001b[0m\u001b[1;33m)\u001b[0m\u001b[1;33m/\u001b[0m\u001b[0mstd\u001b[0m\u001b[1;33m\u001b[0m\u001b[1;33m\u001b[0m\u001b[0m\n\u001b[0m\u001b[0;32m     47\u001b[0m     \u001b[0mx_valid\u001b[0m \u001b[1;33m=\u001b[0m \u001b[1;33m(\u001b[0m\u001b[0mx_valid\u001b[0m \u001b[1;33m-\u001b[0m \u001b[0mmean\u001b[0m\u001b[1;33m)\u001b[0m\u001b[1;33m/\u001b[0m\u001b[0mstd\u001b[0m\u001b[1;33m\u001b[0m\u001b[1;33m\u001b[0m\u001b[0m\n\u001b[0;32m     48\u001b[0m     \u001b[0mx_test\u001b[0m \u001b[1;33m=\u001b[0m \u001b[1;33m(\u001b[0m\u001b[0mx_test\u001b[0m \u001b[1;33m-\u001b[0m \u001b[0mmean\u001b[0m\u001b[1;33m)\u001b[0m\u001b[1;33m/\u001b[0m\u001b[0mstd\u001b[0m\u001b[1;33m\u001b[0m\u001b[1;33m\u001b[0m\u001b[0m\n",
      "\u001b[1;31mMemoryError\u001b[0m: "
     ]
    }
   ],
   "source": [
    "main()"
   ]
  },
  {
   "cell_type": "code",
   "execution_count": 19,
   "metadata": {},
   "outputs": [],
   "source": [
    "hparams.num_epochs = 100\n",
    "hparams.batch_size = 40\n",
    "hparams.learning_rate = 2*1e-5\n",
    "hparams.momentum = 0.9\n",
    "hparams.factor = 0.2\n",
    "hparams.weight_decay = 1e-6\n",
    "hparams.patience = 3."
   ]
  },
  {
   "cell_type": "code",
   "execution_count": 20,
   "metadata": {},
   "outputs": [
    {
     "ename": "MemoryError",
     "evalue": "",
     "output_type": "error",
     "traceback": [
      "\u001b[1;31m---------------------------------------------------------------------------\u001b[0m",
      "\u001b[1;31mMemoryError\u001b[0m                               Traceback (most recent call last)",
      "\u001b[1;32m<ipython-input-20-263240bbee7e>\u001b[0m in \u001b[0;36m<module>\u001b[1;34m\u001b[0m\n\u001b[1;32m----> 1\u001b[1;33m \u001b[0mmain\u001b[0m\u001b[1;33m(\u001b[0m\u001b[1;33m)\u001b[0m\u001b[1;33m\u001b[0m\u001b[1;33m\u001b[0m\u001b[0m\n\u001b[0m",
      "\u001b[1;32m<ipython-input-4-20a2a2dda2de>\u001b[0m in \u001b[0;36mmain\u001b[1;34m()\u001b[0m\n\u001b[0;32m     92\u001b[0m \u001b[1;33m\u001b[0m\u001b[0m\n\u001b[0;32m     93\u001b[0m \u001b[1;32mdef\u001b[0m \u001b[0mmain\u001b[0m\u001b[1;33m(\u001b[0m\u001b[1;33m)\u001b[0m\u001b[1;33m:\u001b[0m\u001b[1;33m\u001b[0m\u001b[1;33m\u001b[0m\u001b[0m\n\u001b[1;32m---> 94\u001b[1;33m     \u001b[0mtrain_loader\u001b[0m\u001b[1;33m,\u001b[0m \u001b[0mvalid_loader\u001b[0m\u001b[1;33m,\u001b[0m \u001b[0mtest_loader\u001b[0m \u001b[1;33m=\u001b[0m \u001b[0mget_dataloader\u001b[0m\u001b[1;33m(\u001b[0m\u001b[0mhparams\u001b[0m\u001b[1;33m)\u001b[0m\u001b[1;33m\u001b[0m\u001b[1;33m\u001b[0m\u001b[0m\n\u001b[0m\u001b[0;32m     95\u001b[0m     \u001b[0mrunner\u001b[0m \u001b[1;33m=\u001b[0m \u001b[0mRunner\u001b[0m\u001b[1;33m(\u001b[0m\u001b[0mhparams\u001b[0m\u001b[1;33m)\u001b[0m\u001b[1;33m\u001b[0m\u001b[1;33m\u001b[0m\u001b[0m\n\u001b[0;32m     96\u001b[0m \u001b[1;33m\u001b[0m\u001b[0m\n",
      "\u001b[1;32m<ipython-input-2-edfe2a154512>\u001b[0m in \u001b[0;36mget_dataloader\u001b[1;34m(hparams)\u001b[0m\n\u001b[0;32m     38\u001b[0m \u001b[1;33m\u001b[0m\u001b[0m\n\u001b[0;32m     39\u001b[0m \u001b[1;32mdef\u001b[0m \u001b[0mget_dataloader\u001b[0m\u001b[1;33m(\u001b[0m\u001b[0mhparams\u001b[0m\u001b[1;33m)\u001b[0m\u001b[1;33m:\u001b[0m\u001b[1;33m\u001b[0m\u001b[1;33m\u001b[0m\u001b[0m\n\u001b[1;32m---> 40\u001b[1;33m     \u001b[0mx_train\u001b[0m\u001b[1;33m,\u001b[0m \u001b[0my_train\u001b[0m \u001b[1;33m=\u001b[0m \u001b[0mload_dataset\u001b[0m\u001b[1;33m(\u001b[0m\u001b[1;34m'train'\u001b[0m\u001b[1;33m,\u001b[0m \u001b[0mhparams\u001b[0m\u001b[1;33m)\u001b[0m\u001b[1;33m\u001b[0m\u001b[1;33m\u001b[0m\u001b[0m\n\u001b[0m\u001b[0;32m     41\u001b[0m     \u001b[0mx_valid\u001b[0m\u001b[1;33m,\u001b[0m \u001b[0my_valid\u001b[0m \u001b[1;33m=\u001b[0m \u001b[0mload_dataset\u001b[0m\u001b[1;33m(\u001b[0m\u001b[1;34m'valid'\u001b[0m\u001b[1;33m,\u001b[0m \u001b[0mhparams\u001b[0m\u001b[1;33m)\u001b[0m\u001b[1;33m\u001b[0m\u001b[1;33m\u001b[0m\u001b[0m\n\u001b[0;32m     42\u001b[0m     \u001b[0mx_test\u001b[0m\u001b[1;33m,\u001b[0m \u001b[0my_test\u001b[0m \u001b[1;33m=\u001b[0m \u001b[0mload_dataset\u001b[0m\u001b[1;33m(\u001b[0m\u001b[1;34m'test'\u001b[0m\u001b[1;33m,\u001b[0m \u001b[0mhparams\u001b[0m\u001b[1;33m)\u001b[0m\u001b[1;33m\u001b[0m\u001b[1;33m\u001b[0m\u001b[0m\n",
      "\u001b[1;32m<ipython-input-2-edfe2a154512>\u001b[0m in \u001b[0;36mload_dataset\u001b[1;34m(set_name, hparams)\u001b[0m\n\u001b[0;32m     32\u001b[0m             \u001b[0my\u001b[0m\u001b[1;33m.\u001b[0m\u001b[0mappend\u001b[0m\u001b[1;33m(\u001b[0m\u001b[0mlabel\u001b[0m\u001b[1;33m)\u001b[0m\u001b[1;33m\u001b[0m\u001b[1;33m\u001b[0m\u001b[0m\n\u001b[0;32m     33\u001b[0m \u001b[1;33m\u001b[0m\u001b[0m\n\u001b[1;32m---> 34\u001b[1;33m     \u001b[0mx\u001b[0m \u001b[1;33m=\u001b[0m \u001b[0mnp\u001b[0m\u001b[1;33m.\u001b[0m\u001b[0mstack\u001b[0m\u001b[1;33m(\u001b[0m\u001b[0mx\u001b[0m\u001b[1;33m)\u001b[0m\u001b[1;33m\u001b[0m\u001b[1;33m\u001b[0m\u001b[0m\n\u001b[0m\u001b[0;32m     35\u001b[0m     \u001b[0my\u001b[0m \u001b[1;33m=\u001b[0m \u001b[0mnp\u001b[0m\u001b[1;33m.\u001b[0m\u001b[0mstack\u001b[0m\u001b[1;33m(\u001b[0m\u001b[0my\u001b[0m\u001b[1;33m)\u001b[0m\u001b[1;33m\u001b[0m\u001b[1;33m\u001b[0m\u001b[0m\n\u001b[0;32m     36\u001b[0m \u001b[1;33m\u001b[0m\u001b[0m\n",
      "\u001b[1;32mD:\\anaconda\\lib\\site-packages\\numpy\\core\\shape_base.py\u001b[0m in \u001b[0;36mstack\u001b[1;34m(arrays, axis, out)\u001b[0m\n\u001b[0;32m    421\u001b[0m     \u001b[0msl\u001b[0m \u001b[1;33m=\u001b[0m \u001b[1;33m(\u001b[0m\u001b[0mslice\u001b[0m\u001b[1;33m(\u001b[0m\u001b[1;32mNone\u001b[0m\u001b[1;33m)\u001b[0m\u001b[1;33m,\u001b[0m\u001b[1;33m)\u001b[0m \u001b[1;33m*\u001b[0m \u001b[0maxis\u001b[0m \u001b[1;33m+\u001b[0m \u001b[1;33m(\u001b[0m\u001b[0m_nx\u001b[0m\u001b[1;33m.\u001b[0m\u001b[0mnewaxis\u001b[0m\u001b[1;33m,\u001b[0m\u001b[1;33m)\u001b[0m\u001b[1;33m\u001b[0m\u001b[1;33m\u001b[0m\u001b[0m\n\u001b[0;32m    422\u001b[0m     \u001b[0mexpanded_arrays\u001b[0m \u001b[1;33m=\u001b[0m \u001b[1;33m[\u001b[0m\u001b[0marr\u001b[0m\u001b[1;33m[\u001b[0m\u001b[0msl\u001b[0m\u001b[1;33m]\u001b[0m \u001b[1;32mfor\u001b[0m \u001b[0marr\u001b[0m \u001b[1;32min\u001b[0m \u001b[0marrays\u001b[0m\u001b[1;33m]\u001b[0m\u001b[1;33m\u001b[0m\u001b[1;33m\u001b[0m\u001b[0m\n\u001b[1;32m--> 423\u001b[1;33m     \u001b[1;32mreturn\u001b[0m \u001b[0m_nx\u001b[0m\u001b[1;33m.\u001b[0m\u001b[0mconcatenate\u001b[0m\u001b[1;33m(\u001b[0m\u001b[0mexpanded_arrays\u001b[0m\u001b[1;33m,\u001b[0m \u001b[0maxis\u001b[0m\u001b[1;33m=\u001b[0m\u001b[0maxis\u001b[0m\u001b[1;33m,\u001b[0m \u001b[0mout\u001b[0m\u001b[1;33m=\u001b[0m\u001b[0mout\u001b[0m\u001b[1;33m)\u001b[0m\u001b[1;33m\u001b[0m\u001b[1;33m\u001b[0m\u001b[0m\n\u001b[0m\u001b[0;32m    424\u001b[0m \u001b[1;33m\u001b[0m\u001b[0m\n\u001b[0;32m    425\u001b[0m \u001b[1;33m\u001b[0m\u001b[0m\n",
      "\u001b[1;31mMemoryError\u001b[0m: "
     ]
    }
   ],
   "source": [
    "main()"
   ]
  },
  {
   "cell_type": "code",
   "execution_count": null,
   "metadata": {},
   "outputs": [],
   "source": [
    "hparams.num_epochs = 100\n",
    "hparams.batch_size = 10\n",
    "hparams.learning_rate = 4*1e-5\n",
    "hparams.momentum = 0.9\n",
    "hparams.factor = 0.2\n",
    "hparams.weight_decay = 1e-6\n",
    "hparams.patience = 3."
   ]
  },
  {
   "cell_type": "code",
   "execution_count": null,
   "metadata": {},
   "outputs": [],
   "source": [
    "main()"
   ]
  },
  {
   "cell_type": "code",
   "execution_count": null,
   "metadata": {},
   "outputs": [],
   "source": [
    "\n",
    "class Baseline(nn.Module):\n",
    "    def __init__(self, hparams):\n",
    "        super(Baseline, self).__init__()\n",
    "        \n",
    "        self.conv0 = nn.Sequential(\n",
    "        nn.Conv1d(hparams.num_mels, 64, kernel_size=8, stride=1, padding=1),\n",
    "        nn.BatchNorm1d(64),\n",
    "        nn.ReLU(),\n",
    "        nn.MaxPool1d(4, stride=4)\n",
    "        )\n",
    "\n",
    "        self.conv1 = nn.Sequential(\n",
    "        nn.Conv1d(64, 128, kernel_size=4, stride=1, padding=1),\n",
    "        nn.ReLU(),\n",
    "        torch.nn.Dropout(p=0.3, inplace=False),\n",
    "        nn.MaxPool1d(4, stride=4)\n",
    "        \n",
    "        )\n",
    "        #Res 1\n",
    "        self.block0 = nn.Sequential(\n",
    "        nn.Conv1d(128,128, kernel_size=4, stride=1, padding=1),\n",
    "        nn.BatchNorm1d(128),\n",
    "        nn.ReLU(),\n",
    "        nn.MaxPool1d(16, stride=16)\n",
    "        )\n",
    "\n",
    "        #분할하여 다르게 처리\n",
    "        self.conv2_1 = nn.Sequential(\n",
    "        nn.Conv1d(128, 128, kernel_size=8, stride=1, padding=1),\n",
    "        nn.Dropout(p=0.3, inplace=False),\n",
    "        nn.ReLU(),\n",
    "        nn.MaxPool1d(4, stride=4)\n",
    "        )\n",
    "        \n",
    "        self.conv2_2 = nn.Sequential(\n",
    "        nn.Conv1d(128, 128, kernel_size=8, stride=1, padding=1),\n",
    "        nn.BatchNorm1d(128),\n",
    "        nn.ReLU(),\n",
    "        nn.AvgPool1d(4, stride=4)\n",
    "        )\n",
    "        \n",
    "        \n",
    "         \n",
    "        self.conv3 = nn.Sequential(\n",
    "        nn.Conv1d(256, 128, kernel_size=4, stride=1, padding=2),\n",
    "        nn.BatchNorm1d(128),\n",
    "        nn.ReLU(),\n",
    "        nn.MaxPool1d(4, stride=4)\n",
    "        )\n",
    "        \n",
    "        \n",
    "        ## ResNet2\n",
    "        self.block1 = nn.Sequential(\n",
    "        nn.Conv1d(128,128, kernel_size=8, stride=2, padding=1),\n",
    "        nn.BatchNorm1d(128),\n",
    "        nn.ReLU(),\n",
    "        nn.MaxPool1d(8, stride=8),\n",
    "        nn.Conv1d(128,128, kernel_size=8, stride=2, padding=1),\n",
    "        nn.BatchNorm1d(128),\n",
    "        nn.ReLU(),\n",
    "        nn.MaxPool1d(8, stride=8)\n",
    "        )\n",
    "        \n",
    "\n",
    "        self.linear0 = nn.Sequential(\n",
    "        nn.Dropout(p=0.4, inplace=False),\n",
    "        nn.Linear(128*14, 117),\n",
    "        nn.Dropout(p=0.4, inplace=False),\n",
    "        nn.ReLU(),\n",
    "        nn.Linear(117, len(hparams.genres))\n",
    "        )\n",
    "        \n",
    "\n",
    "    def forward(self, x):\n",
    "\n",
    "        x0 = x.transpose(1, 2)\n",
    "        x1 = self.block0(x0)\n",
    "        x2 = self.block1(x0)\n",
    "        x = self.conv0(x0)\n",
    "        x = self.conv1(x)\n",
    "        x = self.conv2_1(x)\n",
    "        #x = self.conv3(x)\n",
    "        #x = x+x2#Resnet 2  \n",
    "        #x = self.conv4(x)\n",
    "        x = x.view(x.size(0), x.size(1)*x.size(2))\n",
    "        x = self.linear0(x)\n",
    "\n",
    "        return x\n",
    "    "
   ]
  },
  {
   "cell_type": "code",
   "execution_count": null,
   "metadata": {},
   "outputs": [],
   "source": [
    "main()"
   ]
  },
  {
   "cell_type": "code",
   "execution_count": null,
   "metadata": {},
   "outputs": [],
   "source": []
  }
 ],
 "metadata": {
  "kernelspec": {
   "display_name": "Python 3",
   "language": "python",
   "name": "python3"
  },
  "language_info": {
   "codemirror_mode": {
    "name": "ipython",
    "version": 3
   },
   "file_extension": ".py",
   "mimetype": "text/x-python",
   "name": "python",
   "nbconvert_exporter": "python",
   "pygments_lexer": "ipython3",
   "version": "3.7.3"
  }
 },
 "nbformat": 4,
 "nbformat_minor": 2
}
