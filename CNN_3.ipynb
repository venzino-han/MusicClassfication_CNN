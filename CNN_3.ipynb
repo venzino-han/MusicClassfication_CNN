{
 "cells": [
  {
   "cell_type": "code",
   "execution_count": 32,
   "metadata": {},
   "outputs": [],
   "source": [
    "# import argparse\n",
    "\n",
    "class HParams(object):\n",
    "\tdef __init__(self):\n",
    "\t\t# Dataset Settings\n",
    "\t\tself.dataset_path = 'd:/다운로드/gtzan'\n",
    "\t\tself.feature_path = 'feature4'\n",
    "\t\tself.genres = ['classical', 'country', 'disco', 'hiphop', 'jazz', 'metal', 'pop', 'reggae']\n",
    "\n",
    "\t\t# Feature Parameters\n",
    "\t\tself.sample_rate = 22050\n",
    "\t\tself.fft_size = 1024\n",
    "\t\tself.win_size = 1024\n",
    "\t\tself.hop_size = 512\n",
    "\t\tself.num_mels = 128\n",
    "\t\tself.feature_length = 1024  # audio length = feature_length*hop_size/sample_rate (s)\n",
    "\n",
    "\t\t# Training Parameters\n",
    "\t\tself.device = 1  # 0: CPU, 1: GPU0, 2: GPU1, ...\n",
    "\t\tself.batch_size = 20\n",
    "\t\tself.num_epochs = 100\n",
    "\t\tself.learning_rate = 3*1e-5\n",
    "\t\tself.stopping_rate = 1e-12\n",
    "\t\tself.weight_decay = 1e-6\n",
    "\t\tself.momentum = 0.9\n",
    "\t\tself.factor = 0.2\n",
    "\t\tself.patience = 3.\n",
    "\n",
    "hparams = HParams()"
   ]
  },
  {
   "cell_type": "code",
   "execution_count": 33,
   "metadata": {},
   "outputs": [],
   "source": [
    "import os\n",
    "import numpy as np\n",
    "from torch.utils.data import Dataset, DataLoader\n",
    "\n",
    "class GTZANDataset(Dataset):\n",
    "    def __init__(self, x, y):\n",
    "        self.x = x\n",
    "        self.y = y\n",
    "\n",
    "    def __getitem__(self, index):\n",
    "        return self.x[index], self.y[index]\n",
    "\n",
    "    def __len__(self):\n",
    "        return self.x.shape[0]\n",
    "\n",
    "# Function to get genre index for the give file\n",
    "def get_label(file_name, hparams):\n",
    "    genre = file_name.split('.')[0]\n",
    "    label = hparams.genres.index(genre)\n",
    "    return label\n",
    "\n",
    "def load_dataset(set_name, hparams): #모든 데이터 읽어오기, \n",
    "    x = []\n",
    "    y = []\n",
    "\n",
    "    dataset_path = os.path.join(hparams.feature_path, set_name)\n",
    "    for root,dirs,files in os.walk(dataset_path):\n",
    "        for file in files:\n",
    "            data = np.load(os.path.join(root,file))\n",
    "            label = get_label(file, hparams)\n",
    "            x.append(data)\n",
    "            y.append(label)\n",
    "            torch.cuda.empty_cache() \n",
    "\n",
    "    x = np.stack(x)\n",
    "    y = np.stack(y)\n",
    "\n",
    "    return x,y\n",
    "\n",
    "def get_dataloader(hparams):\n",
    "    x_train, y_train = load_dataset('train', hparams)\n",
    "    torch.cuda.empty_cache() \n",
    "    x_valid, y_valid = load_dataset('valid', hparams)\n",
    "    x_test, y_test = load_dataset('test', hparams)\n",
    "\n",
    "    mean = np.mean(x_train)\n",
    "    std = np.std(x_train)\n",
    "    x_train = (x_train - mean)/std\n",
    "    x_valid = (x_valid - mean)/std\n",
    "    x_test = (x_test - mean)/std\n",
    "\n",
    "    train_set = GTZANDataset(x_train, y_train)\n",
    "    vaild_set = GTZANDataset(x_valid, y_valid)\n",
    "    test_set = GTZANDataset(x_test, y_test)\n",
    "\n",
    "    train_loader = DataLoader(train_set, batch_size=hparams.batch_size, shuffle=True, drop_last=False)\n",
    "    valid_loader = DataLoader(vaild_set, batch_size=hparams.batch_size, shuffle=False, drop_last=False)\n",
    "    test_loader = DataLoader(test_set, batch_size=hparams.batch_size, shuffle=False, drop_last=False)\n",
    "\n",
    "    return train_loader, valid_loader, test_loader"
   ]
  },
  {
   "cell_type": "code",
   "execution_count": 16,
   "metadata": {},
   "outputs": [],
   "source": [
    "x_valid, y_valid = load_dataset('valid', hparams)"
   ]
  },
  {
   "cell_type": "code",
   "execution_count": 23,
   "metadata": {},
   "outputs": [],
   "source": [
    "torch.cuda.empty_cache() "
   ]
  },
  {
   "cell_type": "code",
   "execution_count": 27,
   "metadata": {},
   "outputs": [],
   "source": [
    "x_train, y_train = load_dataset('train', hparams)"
   ]
  },
  {
   "cell_type": "code",
   "execution_count": 28,
   "metadata": {},
   "outputs": [
    {
     "ename": "NameError",
     "evalue": "name 'x_train' is not defined",
     "output_type": "error",
     "traceback": [
      "\u001b[1;31m---------------------------------------------------------------------------\u001b[0m",
      "\u001b[1;31mNameError\u001b[0m                                 Traceback (most recent call last)",
      "\u001b[1;32m<ipython-input-28-2132a220a582>\u001b[0m in \u001b[0;36m<module>\u001b[1;34m\u001b[0m\n\u001b[1;32m----> 1\u001b[1;33m \u001b[0mx_train\u001b[0m\u001b[1;33m.\u001b[0m\u001b[0mshape\u001b[0m\u001b[1;33m\u001b[0m\u001b[1;33m\u001b[0m\u001b[0m\n\u001b[0m",
      "\u001b[1;31mNameError\u001b[0m: name 'x_train' is not defined"
     ]
    }
   ],
   "source": [
    "x_train.shape"
   ]
  },
  {
   "cell_type": "code",
   "execution_count": 28,
   "metadata": {},
   "outputs": [
    {
     "data": {
      "text/plain": [
       "(3840, 1536, 128)"
      ]
     },
     "execution_count": 28,
     "metadata": {},
     "output_type": "execute_result"
    }
   ],
   "source": [
    "x_train.shape"
   ]
  },
  {
   "cell_type": "code",
   "execution_count": null,
   "metadata": {},
   "outputs": [],
   "source": []
  },
  {
   "cell_type": "code",
   "execution_count": 24,
   "metadata": {},
   "outputs": [],
   "source": []
  },
  {
   "cell_type": "code",
   "execution_count": 4,
   "metadata": {},
   "outputs": [],
   "source": [
    "# train_loader, valid_loader, test_loader = get_dataloader(hparams)"
   ]
  },
  {
   "cell_type": "code",
   "execution_count": 34,
   "metadata": {},
   "outputs": [],
   "source": [
    "'''\n",
    "train_test.py\n",
    "A file for training model for genre classification.\n",
    "Please check the device in hparams.py before you run this code.\n",
    "'''\n",
    "import torch\n",
    "import torch.nn as nn\n",
    "from torch.optim.lr_scheduler import ReduceLROnPlateau\n",
    "from matplotlib import pyplot as plt\n",
    "\n",
    "# import data_manager\n",
    "# import models\n",
    "# from hparams import hparams\n",
    "\n",
    "# Wrapper class to run PyTorch model\n",
    "class Runner(object):\n",
    "    def __init__(self, hparams):\n",
    "        self.model = Baseline(hparams)\n",
    "        self.criterion = nn.CrossEntropyLoss()\n",
    "        \n",
    "        #self.optimizer = torch.optim.Adam(self.model.parameters(), lr=hparams.learning_rate)\n",
    "        self.optimizer = torch.optim.SGD(self.model.parameters(), lr=hparams.learning_rate, momentum=hparams.momentum)\n",
    "        self.scheduler = ReduceLROnPlateau(self.optimizer, mode='min', factor=hparams.factor, patience=hparams.patience, verbose=True)\n",
    "        self.learning_rate = hparams.learning_rate\n",
    "        self.stopping_rate = hparams.stopping_rate\n",
    "        self.device = torch.device(\"cpu\")\n",
    "\n",
    "        if hparams.device > 0:\n",
    "            torch.cuda.set_device(hparams.device - 1)##\n",
    "            self.model.cuda(hparams.device - 1)\n",
    "            self.criterion.cuda(hparams.device - 1)\n",
    "            self.device = torch.device(\"cuda:\" + str(hparams.device - 1))\n",
    "            \n",
    "#         device = torch.device('cuda:0' if torch.cuda.is_available() else 'cpu')\n",
    "#         self.model = Baseline(hparams).to(device)\n",
    "#         if torch.cuda.device_count() > 1:\n",
    "#             print('\\n===> Training on GPU!')\n",
    "#             self.model = nn.DataParallel(net)\n",
    "\n",
    "    # Accuracy function works like loss function in PyTorch\n",
    "    def accuracy(self, source, target):\n",
    "        source = source.max(1)[1].long().cpu()\n",
    "        target = target.cpu()\n",
    "        correct = (source == target).sum().item()\n",
    "\n",
    "        return correct/float(source.size(0))\n",
    "\n",
    "    # Running model for train, test and validation. mode: 'train' for training, 'eval' for validation and test\n",
    "    def run(self, dataloader, mode='train'):\n",
    "        self.model.train() if mode is 'train' else self.model.eval()\n",
    "\n",
    "        epoch_loss = 0.0\n",
    "        epoch_acc = 0.0\n",
    "        \n",
    "        for batch, (x, y) in enumerate(dataloader):\n",
    "            x = x.to(self.device)\n",
    "            y = y.to(self.device).type(torch.long)\n",
    "            \n",
    "            #print(y)\n",
    "\n",
    "            prediction = self.model(x)\n",
    "            loss = self.criterion(prediction, y)\n",
    "            acc = self.accuracy(prediction, y)\n",
    "\n",
    "            if mode is 'train':\n",
    "                loss.backward()\n",
    "                self.optimizer.step()\n",
    "                self.optimizer.zero_grad()\n",
    "\n",
    "            epoch_loss += prediction.size(0)*loss.item()\n",
    "            epoch_acc += prediction.size(0)*acc\n",
    "\n",
    "        epoch_loss = epoch_loss/len(dataloader.dataset)\n",
    "        epoch_acc = epoch_acc/len(dataloader.dataset)\n",
    "\n",
    "        return epoch_loss, epoch_acc\n",
    "\n",
    "    # Early stopping function for given validation loss\n",
    "    def early_stop(self, loss, epoch):\n",
    "        self.scheduler.step(loss, epoch)\n",
    "        self.learning_rate = self.optimizer.param_groups[0]['lr']\n",
    "        stop = self.learning_rate < self.stopping_rate\n",
    "\n",
    "        return stop\n",
    "\n",
    "def device_name(device):\n",
    "    if device == 0:\n",
    "        device_name = 'CPU'\n",
    "    else:\n",
    "        device_name = 'GPU:' + str(device - 1)\n",
    "\n",
    "    return device_name\n",
    "\n",
    "def main():  \n",
    "    train_loader, valid_loader, test_loader = get_dataloader(hparams)\n",
    "    runner = Runner(hparams)\n",
    "    val_loss_ls =[]\n",
    "    train_loss_ls =[]\n",
    "\n",
    "    print('Training on ' + device_name(hparams.device))\n",
    "    for epoch in range(hparams.num_epochs):\n",
    "        train_loss, train_acc = runner.run(train_loader, 'train')\n",
    "        valid_loss, valid_acc = runner.run(valid_loader, 'eval')\n",
    "        if((epoch+1)%10==0):\n",
    "            print(\"[Epoch %d/%d] [Train Loss: %.4f] [Train Acc: %.4f] [Valid Loss: %.4f] [Valid Acc: %.4f]\" %\n",
    "                  (epoch + 1, hparams.num_epochs, train_loss, train_acc, valid_loss, valid_acc))\n",
    "            \n",
    "        val_loss_ls.append(valid_loss)\n",
    "        train_loss_ls.append(train_loss)\n",
    "        \n",
    "        if runner.early_stop(valid_loss, epoch + 1):\n",
    "            break\n",
    "\n",
    "    test_loss, test_acc = runner.run(test_loader, 'eval')\n",
    "    print(\"Training Finished\")\n",
    "    print(\"Test Accuracy: %.2f%%\" % (100*test_acc))\n",
    "    \n",
    "    plt.plot(val_loss_ls,'r')\n",
    "    plt.plot(train_loss_ls,'b')\n",
    "    plt.show()\n",
    "    "
   ]
  },
  {
   "cell_type": "code",
   "execution_count": 35,
   "metadata": {},
   "outputs": [],
   "source": [
    "'''\n",
    "CNN 계층 증가\n",
    "Dropout 추가 1, 6\n",
    "'''\n",
    "import torch.nn as nn\n",
    "\n",
    "class Baseline(nn.Module):\n",
    "    def __init__(self, hparams):\n",
    "        super(Baseline, self).__init__()\n",
    "        self._initialize_weights()\n",
    "        \n",
    "        self.conv0 = nn.Sequential(\n",
    "        nn.Conv1d(hparams.num_mels, 64, kernel_size=8, stride=1, padding=1),\n",
    "        nn.BatchNorm1d(64),\n",
    "        nn.ReLU(),\n",
    "        nn.MaxPool1d(4, stride=4)\n",
    "        )\n",
    "\n",
    "        self.conv1 = nn.Sequential(\n",
    "        nn.Conv1d(64, 128, kernel_size=4, stride=1, padding=1),\n",
    "        nn.ReLU(),\n",
    "        torch.nn.Dropout(p=0.3, inplace=False),\n",
    "        nn.MaxPool1d(4, stride=4)\n",
    "        \n",
    "        )\n",
    "        #Res 1\n",
    "        self.block0 = nn.Sequential(\n",
    "        nn.Conv1d(128,128, kernel_size=4, stride=1, padding=1),\n",
    "        nn.BatchNorm1d(128),\n",
    "        nn.ReLU(),\n",
    "        nn.MaxPool1d(16, stride=16)\n",
    "        )\n",
    "\n",
    "        #분할하여 다르게 처리\n",
    "        self.conv2_1 = nn.Sequential(\n",
    "        nn.Conv1d(128, 256, kernel_size=8, stride=1, padding=1),\n",
    "        nn.Dropout(p=0.3, inplace=False),\n",
    "        nn.ReLU(),\n",
    "        nn.MaxPool1d(4, stride=4)\n",
    "        )\n",
    "        \n",
    "        self.conv2_2 = nn.Sequential(\n",
    "        nn.Conv1d(128, 256, kernel_size=8, stride=1, padding=1),\n",
    "        nn.BatchNorm1d(256),\n",
    "        nn.ReLU(),\n",
    "        nn.AvgPool1d(4, stride=4)\n",
    "        )\n",
    "        \n",
    "        \n",
    "         \n",
    "        self.conv3 = nn.Sequential(\n",
    "        nn.Conv1d(256, 128, kernel_size=4, stride=1, padding=2),\n",
    "        nn.BatchNorm1d(128),\n",
    "        nn.ReLU(),\n",
    "        nn.MaxPool1d(4, stride=4)\n",
    "        )\n",
    "        \n",
    "        \n",
    "        ## ResNet2\n",
    "        self.block1 = nn.Sequential(\n",
    "        nn.Conv1d(128,128, kernel_size=8, stride=2, padding=1),\n",
    "        nn.BatchNorm1d(128),\n",
    "        nn.ReLU(),\n",
    "        nn.MaxPool1d(4, stride=4),\n",
    "        nn.Conv1d(128,128, kernel_size=8, stride=2, padding=1),\n",
    "        nn.BatchNorm1d(128),\n",
    "        nn.ReLU(),\n",
    "        nn.MaxPool1d(8, stride=8)\n",
    "        )\n",
    "        \n",
    "        \n",
    "        self.conv4 = nn.Sequential(\n",
    "        nn.Conv1d(128, 96, kernel_size=3, stride=1, padding=1),\n",
    "        nn.BatchNorm1d(96),\n",
    "        nn.ReLU(),\n",
    "        nn.MaxPool1d(6, stride=6)\n",
    "        )\n",
    "\n",
    "        self.linear0 = nn.Sequential(\n",
    "        nn.Dropout(p=0.4, inplace=False),\n",
    "        nn.Linear(96, 117),\n",
    "        nn.ReLU(),\n",
    "        nn.Linear(117, len(hparams.genres))\n",
    "        )\n",
    "        \n",
    "\n",
    "    def forward(self, x):\n",
    "\n",
    "        x0 = x.transpose(1, 2)\n",
    "        x1 = self.block0(x0)\n",
    "        x2 = self.block1(x0)\n",
    "        x = self.conv0(x0)\n",
    "        x = self.conv1(x)+x1 #Resnet1\n",
    "        x = torch.cat((self.conv2_1(x)+self.conv2_2(x),self.conv2_2(x)+self.conv2_1(x)),2)\n",
    "        x = self.conv3(x)\n",
    "        x = x+x2#Resnet 2  \n",
    "        x = self.conv4(x)\n",
    "        x = x.view(x.size(0), x.size(1)*x.size(2))\n",
    "        x = self.linear0(x)\n",
    "\n",
    "        return x\n",
    "    \n",
    "    def _initialize_weights(self):\n",
    "        for m in self.modules():\n",
    "            if isinstance(m, nn.Conv1d):\n",
    "                nn.init.kaiming_normal_(m.weight, mode='fand_out', nonlinearity='relu')\n",
    "                if m.bias is not None:\n",
    "                    nn.init.constant_(m.bias,0.8)\n",
    "                elif isinstance(m, nn.BatchNorm1d):\n",
    "                    nn.init.constant_(m.weight, 1)\n",
    "                    nn.init.constant_(m.bias, 0.8)\n",
    "                elif isinstance(m, nn.Linear):\n",
    "                    nn.init.normal_(m.weight, 0, 0.01)\n",
    "                    nn.init.constant_(m.bias,0.8)"
   ]
  },
  {
   "cell_type": "code",
   "execution_count": 6,
   "metadata": {},
   "outputs": [
    {
     "name": "stdout",
     "output_type": "stream",
     "text": [
      "Training on GPU:0\n",
      "[Epoch 10/100] [Train Loss: 1.9137] [Train Acc: 0.3133] [Valid Loss: 1.9728] [Valid Acc: 0.2562]\n",
      "[Epoch 20/100] [Train Loss: 1.8139] [Train Acc: 0.5078] [Valid Loss: 1.9116] [Valid Acc: 0.3563]\n",
      "[Epoch 30/100] [Train Loss: 1.7266] [Train Acc: 0.5969] [Valid Loss: 1.8385] [Valid Acc: 0.4562]\n",
      "[Epoch 40/100] [Train Loss: 1.6415] [Train Acc: 0.6180] [Valid Loss: 1.7628] [Valid Acc: 0.4813]\n",
      "[Epoch 50/100] [Train Loss: 1.5349] [Train Acc: 0.6648] [Valid Loss: 1.6780] [Valid Acc: 0.5125]\n",
      "[Epoch 60/100] [Train Loss: 1.4436] [Train Acc: 0.6797] [Valid Loss: 1.6014] [Valid Acc: 0.5500]\n",
      "[Epoch 70/100] [Train Loss: 1.3350] [Train Acc: 0.7008] [Valid Loss: 1.5121] [Valid Acc: 0.5687]\n",
      "[Epoch 80/100] [Train Loss: 1.2151] [Train Acc: 0.7242] [Valid Loss: 1.4259] [Valid Acc: 0.6188]\n",
      "[Epoch 90/100] [Train Loss: 1.1272] [Train Acc: 0.7648] [Valid Loss: 1.3427] [Valid Acc: 0.6625]\n",
      "[Epoch 100/100] [Train Loss: 1.0412] [Train Acc: 0.7828] [Valid Loss: 1.2748] [Valid Acc: 0.6813]\n",
      "Training Finished\n",
      "Test Accuracy: 60.62%\n"
     ]
    },
    {
     "data": {
      "image/png": "[encoded data removed]",
      "text/plain": [
       "<Figure size 432x288 with 1 Axes>"
      ]
     },
     "metadata": {
      "needs_background": "light"
     },
     "output_type": "display_data"
    }
   ],
   "source": [
    "main()"
   ]
  },
  {
   "cell_type": "code",
   "execution_count": 7,
   "metadata": {},
   "outputs": [],
   "source": [
    "hparams.learning_rate = 5*1e-6\n",
    "hparams.momentum = 0.9\n",
    "hparams.factor = 0.2\n",
    "hparams.weight_decay = 1e-6\n",
    "hparams.patience = 3."
   ]
  },
  {
   "cell_type": "code",
   "execution_count": 8,
   "metadata": {},
   "outputs": [
    {
     "name": "stdout",
     "output_type": "stream",
     "text": [
      "Training on GPU:0\n",
      "[Epoch 10/100] [Train Loss: 2.0584] [Train Acc: 0.2250] [Valid Loss: 2.0671] [Valid Acc: 0.2188]\n",
      "[Epoch 20/100] [Train Loss: 2.0273] [Train Acc: 0.2633] [Valid Loss: 2.0369] [Valid Acc: 0.2562]\n",
      "[Epoch 30/100] [Train Loss: 2.0029] [Train Acc: 0.3039] [Valid Loss: 2.0153] [Valid Acc: 0.2750]\n",
      "[Epoch 40/100] [Train Loss: 1.9771] [Train Acc: 0.3352] [Valid Loss: 1.9983] [Valid Acc: 0.2938]\n",
      "[Epoch 50/100] [Train Loss: 1.9598] [Train Acc: 0.3508] [Valid Loss: 1.9866] [Valid Acc: 0.2938]\n",
      "[Epoch 60/100] [Train Loss: 1.9467] [Train Acc: 0.3523] [Valid Loss: 1.9741] [Valid Acc: 0.2938]\n",
      "[Epoch 70/100] [Train Loss: 1.9283] [Train Acc: 0.3805] [Valid Loss: 1.9609] [Valid Acc: 0.3000]\n",
      "[Epoch 80/100] [Train Loss: 1.9090] [Train Acc: 0.3805] [Valid Loss: 1.9512] [Valid Acc: 0.3250]\n",
      "[Epoch 90/100] [Train Loss: 1.8963] [Train Acc: 0.3961] [Valid Loss: 1.9384] [Valid Acc: 0.3063]\n",
      "[Epoch 100/100] [Train Loss: 1.8841] [Train Acc: 0.4117] [Valid Loss: 1.9283] [Valid Acc: 0.3187]\n",
      "Training Finished\n",
      "Test Accuracy: 31.25%\n"
     ]
    },
    {
     "data": {
      "image/png": "[encoded data removed]",
      "text/plain": [
       "<Figure size 432x288 with 1 Axes>"
      ]
     },
     "metadata": {
      "needs_background": "light"
     },
     "output_type": "display_data"
    }
   ],
   "source": [
    "main()"
   ]
  },
  {
   "cell_type": "code",
   "execution_count": 9,
   "metadata": {},
   "outputs": [],
   "source": [
    "hparams.learning_rate = 1e-4"
   ]
  },
  {
   "cell_type": "code",
   "execution_count": 10,
   "metadata": {},
   "outputs": [
    {
     "name": "stdout",
     "output_type": "stream",
     "text": [
      "Training on GPU:0\n",
      "[Epoch 10/100] [Train Loss: 1.7666] [Train Acc: 0.5273] [Valid Loss: 1.8324] [Valid Acc: 0.4500]\n",
      "[Epoch 20/100] [Train Loss: 1.4716] [Train Acc: 0.6492] [Valid Loss: 1.5819] [Valid Acc: 0.5500]\n",
      "[Epoch 30/100] [Train Loss: 1.1428] [Train Acc: 0.7594] [Valid Loss: 1.3350] [Valid Acc: 0.6062]\n",
      "[Epoch 40/100] [Train Loss: 0.8797] [Train Acc: 0.8195] [Valid Loss: 1.1329] [Valid Acc: 0.6937]\n",
      "[Epoch 50/100] [Train Loss: 0.6394] [Train Acc: 0.8875] [Valid Loss: 0.9597] [Valid Acc: 0.7250]\n",
      "[Epoch 60/100] [Train Loss: 0.4816] [Train Acc: 0.9125] [Valid Loss: 0.8872] [Valid Acc: 0.7438]\n",
      "[Epoch 70/100] [Train Loss: 0.3748] [Train Acc: 0.9414] [Valid Loss: 0.8370] [Valid Acc: 0.7562]\n",
      "Epoch    79: reducing learning rate of group 0 to 2.0000e-05.\n",
      "[Epoch 80/100] [Train Loss: 0.2822] [Train Acc: 0.9609] [Valid Loss: 0.8140] [Valid Acc: 0.7375]\n",
      "Epoch    85: reducing learning rate of group 0 to 4.0000e-06.\n",
      "Epoch    89: reducing learning rate of group 0 to 8.0000e-07.\n",
      "[Epoch 90/100] [Train Loss: 0.2656] [Train Acc: 0.9563] [Valid Loss: 0.7913] [Valid Acc: 0.7562]\n",
      "Epoch    93: reducing learning rate of group 0 to 1.6000e-07.\n",
      "Epoch    97: reducing learning rate of group 0 to 3.2000e-08.\n",
      "[Epoch 100/100] [Train Loss: 0.2720] [Train Acc: 0.9633] [Valid Loss: 0.7925] [Valid Acc: 0.7562]\n",
      "Training Finished\n",
      "Test Accuracy: 68.12%\n"
     ]
    },
    {
     "data": {
      "image/png": "[encoded data removed]",
      "text/plain": [
       "<Figure size 432x288 with 1 Axes>"
      ]
     },
     "metadata": {
      "needs_background": "light"
     },
     "output_type": "display_data"
    }
   ],
   "source": [
    "main()"
   ]
  },
  {
   "cell_type": "code",
   "execution_count": 11,
   "metadata": {},
   "outputs": [],
   "source": [
    "hparams.learning_rate = 3*1e-4"
   ]
  },
  {
   "cell_type": "code",
   "execution_count": 12,
   "metadata": {},
   "outputs": [
    {
     "name": "stdout",
     "output_type": "stream",
     "text": [
      "Training on GPU:0\n",
      "[Epoch 10/100] [Train Loss: 1.2071] [Train Acc: 0.7359] [Valid Loss: 1.3838] [Valid Acc: 0.5938]\n",
      "[Epoch 20/100] [Train Loss: 0.5449] [Train Acc: 0.8930] [Valid Loss: 0.9193] [Valid Acc: 0.7375]\n",
      "[Epoch 30/100] [Train Loss: 0.2553] [Train Acc: 0.9578] [Valid Loss: 0.8437] [Valid Acc: 0.7625]\n",
      "Epoch    31: reducing learning rate of group 0 to 6.0000e-05.\n",
      "Epoch    38: reducing learning rate of group 0 to 1.2000e-05.\n",
      "[Epoch 40/100] [Train Loss: 0.1747] [Train Acc: 0.9836] [Valid Loss: 0.8298] [Valid Acc: 0.7500]\n",
      "Epoch    42: reducing learning rate of group 0 to 2.4000e-06.\n",
      "Epoch    46: reducing learning rate of group 0 to 4.8000e-07.\n",
      "[Epoch 50/100] [Train Loss: 0.1926] [Train Acc: 0.9781] [Valid Loss: 0.8532] [Valid Acc: 0.7625]\n",
      "Epoch    50: reducing learning rate of group 0 to 9.6000e-08.\n",
      "Epoch    54: reducing learning rate of group 0 to 1.9200e-08.\n",
      "Epoch    58: reducing learning rate of group 0 to 3.8400e-09.\n",
      "[Epoch 60/100] [Train Loss: 0.1933] [Train Acc: 0.9711] [Valid Loss: 0.7985] [Valid Acc: 0.7750]\n",
      "[Epoch 70/100] [Train Loss: 0.1804] [Train Acc: 0.9758] [Valid Loss: 0.8371] [Valid Acc: 0.7625]\n",
      "[Epoch 80/100] [Train Loss: 0.1905] [Train Acc: 0.9742] [Valid Loss: 0.8666] [Valid Acc: 0.7562]\n",
      "[Epoch 90/100] [Train Loss: 0.1887] [Train Acc: 0.9711] [Valid Loss: 0.8083] [Valid Acc: 0.7625]\n",
      "[Epoch 100/100] [Train Loss: 0.1966] [Train Acc: 0.9734] [Valid Loss: 0.7960] [Valid Acc: 0.7688]\n",
      "Training Finished\n",
      "Test Accuracy: 75.00%\n"
     ]
    },
    {
     "data": {
      "image/png": "[encoded data removed]",
      "text/plain": [
       "<Figure size 432x288 with 1 Axes>"
      ]
     },
     "metadata": {
      "needs_background": "light"
     },
     "output_type": "display_data"
    }
   ],
   "source": [
    "main()"
   ]
  },
  {
   "cell_type": "code",
   "execution_count": 13,
   "metadata": {},
   "outputs": [],
   "source": [
    "hparams.learning_rate = 2*1e-4"
   ]
  },
  {
   "cell_type": "code",
   "execution_count": 14,
   "metadata": {},
   "outputs": [
    {
     "name": "stdout",
     "output_type": "stream",
     "text": [
      "Training on GPU:0\n",
      "[Epoch 10/100] [Train Loss: 1.4410] [Train Acc: 0.6664] [Valid Loss: 1.5834] [Valid Acc: 0.4437]\n",
      "[Epoch 20/100] [Train Loss: 0.8435] [Train Acc: 0.8203] [Valid Loss: 1.1558] [Valid Acc: 0.6813]\n",
      "[Epoch 30/100] [Train Loss: 0.4604] [Train Acc: 0.9227] [Valid Loss: 0.9609] [Valid Acc: 0.6687]\n",
      "Epoch    39: reducing learning rate of group 0 to 4.0000e-05.\n",
      "[Epoch 40/100] [Train Loss: 0.2816] [Train Acc: 0.9594] [Valid Loss: 0.8873] [Valid Acc: 0.7000]\n",
      "Epoch    43: reducing learning rate of group 0 to 8.0000e-06.\n",
      "Epoch    47: reducing learning rate of group 0 to 1.6000e-06.\n",
      "[Epoch 50/100] [Train Loss: 0.2614] [Train Acc: 0.9547] [Valid Loss: 0.9144] [Valid Acc: 0.6750]\n",
      "Epoch    58: reducing learning rate of group 0 to 3.2000e-07.\n",
      "[Epoch 60/100] [Train Loss: 0.2493] [Train Acc: 0.9648] [Valid Loss: 0.8843] [Valid Acc: 0.7000]\n",
      "Epoch    62: reducing learning rate of group 0 to 6.4000e-08.\n",
      "Epoch    66: reducing learning rate of group 0 to 1.2800e-08.\n",
      "[Epoch 70/100] [Train Loss: 0.2470] [Train Acc: 0.9680] [Valid Loss: 0.8741] [Valid Acc: 0.6875]\n",
      "Epoch    70: reducing learning rate of group 0 to 2.5600e-09.\n",
      "[Epoch 80/100] [Train Loss: 0.2394] [Train Acc: 0.9656] [Valid Loss: 0.8840] [Valid Acc: 0.6875]\n",
      "[Epoch 90/100] [Train Loss: 0.2451] [Train Acc: 0.9742] [Valid Loss: 0.9108] [Valid Acc: 0.6937]\n",
      "[Epoch 100/100] [Train Loss: 0.2460] [Train Acc: 0.9672] [Valid Loss: 0.9458] [Valid Acc: 0.6687]\n",
      "Training Finished\n",
      "Test Accuracy: 62.50%\n"
     ]
    },
    {
     "data": {
      "image/png": "[encoded data removed]",
      "text/plain": [
       "<Figure size 432x288 with 1 Axes>"
      ]
     },
     "metadata": {
      "needs_background": "light"
     },
     "output_type": "display_data"
    }
   ],
   "source": [
    "main()"
   ]
  },
  {
   "cell_type": "code",
   "execution_count": 6,
   "metadata": {},
   "outputs": [],
   "source": [
    "hparams.learning_rate = 6*1e-4"
   ]
  },
  {
   "cell_type": "code",
   "execution_count": 16,
   "metadata": {},
   "outputs": [
    {
     "name": "stdout",
     "output_type": "stream",
     "text": [
      "Training on GPU:0\n",
      "[Epoch 10/100] [Train Loss: 0.5909] [Train Acc: 0.8828] [Valid Loss: 0.9920] [Valid Acc: 0.7125]\n",
      "Epoch    19: reducing learning rate of group 0 to 1.2000e-04.\n",
      "[Epoch 20/100] [Train Loss: 0.1659] [Train Acc: 0.9750] [Valid Loss: 0.6926] [Valid Acc: 0.7688]\n",
      "[Epoch 30/100] [Train Loss: 0.1003] [Train Acc: 0.9938] [Valid Loss: 0.6624] [Valid Acc: 0.7937]\n",
      "Epoch    30: reducing learning rate of group 0 to 2.4000e-05.\n",
      "Epoch    34: reducing learning rate of group 0 to 4.8000e-06.\n",
      "Epoch    38: reducing learning rate of group 0 to 9.6000e-07.\n",
      "[Epoch 40/100] [Train Loss: 0.1096] [Train Acc: 0.9883] [Valid Loss: 0.6657] [Valid Acc: 0.8000]\n",
      "Epoch    45: reducing learning rate of group 0 to 1.9200e-07.\n",
      "Epoch    49: reducing learning rate of group 0 to 3.8400e-08.\n",
      "[Epoch 50/100] [Train Loss: 0.1155] [Train Acc: 0.9828] [Valid Loss: 0.6718] [Valid Acc: 0.8063]\n",
      "Epoch    53: reducing learning rate of group 0 to 7.6800e-09.\n",
      "[Epoch 60/100] [Train Loss: 0.1066] [Train Acc: 0.9891] [Valid Loss: 0.6880] [Valid Acc: 0.7875]\n",
      "[Epoch 70/100] [Train Loss: 0.1054] [Train Acc: 0.9875] [Valid Loss: 0.6447] [Valid Acc: 0.8000]\n",
      "[Epoch 80/100] [Train Loss: 0.1068] [Train Acc: 0.9898] [Valid Loss: 0.6770] [Valid Acc: 0.7937]\n",
      "[Epoch 90/100] [Train Loss: 0.1085] [Train Acc: 0.9844] [Valid Loss: 0.6589] [Valid Acc: 0.8000]\n",
      "[Epoch 100/100] [Train Loss: 0.1127] [Train Acc: 0.9875] [Valid Loss: 0.6630] [Valid Acc: 0.8063]\n",
      "Training Finished\n",
      "Test Accuracy: 78.75%\n"
     ]
    },
    {
     "data": {
      "image/png": "[encoded data removed]",
      "text/plain": [
       "<Figure size 432x288 with 1 Axes>"
      ]
     },
     "metadata": {
      "needs_background": "light"
     },
     "output_type": "display_data"
    }
   ],
   "source": [
    "main()"
   ]
  },
  {
   "cell_type": "code",
   "execution_count": 17,
   "metadata": {},
   "outputs": [],
   "source": [
    "\n",
    "class Baseline(nn.Module):\n",
    "    def __init__(self, hparams):\n",
    "        super(Baseline, self).__init__()\n",
    "        \n",
    "        self.conv0 = nn.Sequential(\n",
    "        nn.Conv1d(hparams.num_mels, 64, kernel_size=8, stride=1, padding=1),\n",
    "        nn.BatchNorm1d(64),\n",
    "        nn.ReLU(),\n",
    "        nn.MaxPool1d(4, stride=4)\n",
    "        )\n",
    "\n",
    "        self.conv1 = nn.Sequential(\n",
    "        nn.Conv1d(64, 128, kernel_size=4, stride=1, padding=1),\n",
    "        nn.ReLU(),\n",
    "        torch.nn.Dropout(p=0.3, inplace=False),\n",
    "        nn.MaxPool1d(4, stride=4)\n",
    "        \n",
    "        )\n",
    "        #Res 1\n",
    "        self.block0 = nn.Sequential(\n",
    "        nn.Conv1d(128,128, kernel_size=4, stride=1, padding=1),\n",
    "        nn.BatchNorm1d(128),\n",
    "        nn.ReLU(),\n",
    "        nn.MaxPool1d(16, stride=16)\n",
    "        )\n",
    "\n",
    "        #분할하여 다르게 처리\n",
    "        self.conv2_1 = nn.Sequential(\n",
    "        nn.Conv1d(128, 128, kernel_size=8, stride=1, padding=1),\n",
    "        nn.Dropout(p=0.3, inplace=False),\n",
    "        nn.ReLU(),\n",
    "        nn.MaxPool1d(4, stride=4)\n",
    "        )\n",
    "        \n",
    "        self.conv2_2 = nn.Sequential(\n",
    "        nn.Conv1d(128, 128, kernel_size=8, stride=1, padding=1),\n",
    "        nn.BatchNorm1d(128),\n",
    "        nn.ReLU(),\n",
    "        nn.AvgPool1d(4, stride=4)\n",
    "        )\n",
    "        \n",
    "        \n",
    "         \n",
    "        self.conv3 = nn.Sequential(\n",
    "        nn.Conv1d(256, 128, kernel_size=4, stride=1, padding=2),\n",
    "        nn.BatchNorm1d(128),\n",
    "        nn.ReLU(),\n",
    "        nn.MaxPool1d(4, stride=4)\n",
    "        )\n",
    "        \n",
    "        \n",
    "        ## ResNet2\n",
    "        self.block1 = nn.Sequential(\n",
    "        nn.Conv1d(128,128, kernel_size=8, stride=2, padding=1),\n",
    "        nn.BatchNorm1d(128),\n",
    "        nn.ReLU(),\n",
    "        nn.MaxPool1d(8, stride=8),\n",
    "        nn.Conv1d(128,128, kernel_size=8, stride=2, padding=1),\n",
    "        nn.BatchNorm1d(128),\n",
    "        nn.ReLU(),\n",
    "        nn.MaxPool1d(8, stride=8)\n",
    "        )\n",
    "        \n",
    "\n",
    "        self.linear0 = nn.Sequential(\n",
    "        nn.Dropout(p=0.4, inplace=False),\n",
    "        nn.Linear(128*14, 117),\n",
    "        nn.Dropout(p=0.4, inplace=False),\n",
    "        nn.ReLU(),\n",
    "        nn.Linear(117, len(hparams.genres))\n",
    "        )\n",
    "        \n",
    "\n",
    "    def forward(self, x):\n",
    "\n",
    "        x0 = x.transpose(1, 2)\n",
    "        x1 = self.block0(x0)\n",
    "        x2 = self.block1(x0)\n",
    "        x = self.conv0(x0)\n",
    "        x = self.conv1(x)+x1 #Resnet1\n",
    "        x = self.conv2_2(x)\n",
    "        #x = self.conv3(x)\n",
    "        #x = x+x2#Resnet 2  \n",
    "        #x = self.conv4(x)\n",
    "        x = x.view(x.size(0), x.size(1)*x.size(2))\n",
    "        x = self.linear0(x)\n",
    "\n",
    "        return x\n",
    "    "
   ]
  },
  {
   "cell_type": "code",
   "execution_count": 18,
   "metadata": {},
   "outputs": [
    {
     "name": "stdout",
     "output_type": "stream",
     "text": [
      "Training on GPU:0\n",
      "[Epoch 10/100] [Train Loss: 0.6304] [Train Acc: 0.8031] [Valid Loss: 0.9848] [Valid Acc: 0.6250]\n",
      "Epoch    18: reducing learning rate of group 0 to 1.2000e-04.\n",
      "[Epoch 20/100] [Train Loss: 0.2774] [Train Acc: 0.9258] [Valid Loss: 0.7718] [Valid Acc: 0.7188]\n",
      "[Epoch 30/100] [Train Loss: 0.2455] [Train Acc: 0.9313] [Valid Loss: 0.7765] [Valid Acc: 0.7063]\n",
      "Epoch    30: reducing learning rate of group 0 to 2.4000e-05.\n",
      "Epoch    34: reducing learning rate of group 0 to 4.8000e-06.\n",
      "Epoch    39: reducing learning rate of group 0 to 9.6000e-07.\n",
      "[Epoch 40/100] [Train Loss: 0.2226] [Train Acc: 0.9453] [Valid Loss: 0.7465] [Valid Acc: 0.7500]\n",
      "Epoch    43: reducing learning rate of group 0 to 1.9200e-07.\n",
      "Epoch    47: reducing learning rate of group 0 to 3.8400e-08.\n",
      "[Epoch 50/100] [Train Loss: 0.2285] [Train Acc: 0.9352] [Valid Loss: 0.7434] [Valid Acc: 0.7438]\n",
      "Epoch    51: reducing learning rate of group 0 to 7.6800e-09.\n",
      "[Epoch 60/100] [Train Loss: 0.2165] [Train Acc: 0.9437] [Valid Loss: 0.7564] [Valid Acc: 0.7562]\n",
      "[Epoch 70/100] [Train Loss: 0.2137] [Train Acc: 0.9391] [Valid Loss: 0.7558] [Valid Acc: 0.7438]\n",
      "[Epoch 80/100] [Train Loss: 0.2264] [Train Acc: 0.9430] [Valid Loss: 0.7535] [Valid Acc: 0.7438]\n",
      "[Epoch 90/100] [Train Loss: 0.1962] [Train Acc: 0.9516] [Valid Loss: 0.7588] [Valid Acc: 0.7312]\n",
      "[Epoch 100/100] [Train Loss: 0.2132] [Train Acc: 0.9445] [Valid Loss: 0.7476] [Valid Acc: 0.7500]\n",
      "Training Finished\n",
      "Test Accuracy: 74.38%\n"
     ]
    },
    {
     "data": {
      "image/png": "[encoded data removed]",
      "text/plain": [
       "<Figure size 432x288 with 1 Axes>"
      ]
     },
     "metadata": {
      "needs_background": "light"
     },
     "output_type": "display_data"
    }
   ],
   "source": [
    "main()"
   ]
  },
  {
   "cell_type": "code",
   "execution_count": 19,
   "metadata": {},
   "outputs": [],
   "source": [
    "\n",
    "class Baseline(nn.Module):\n",
    "    def __init__(self, hparams):\n",
    "        super(Baseline, self).__init__()\n",
    "        \n",
    "        self.conv0 = nn.Sequential(\n",
    "        nn.Conv1d(hparams.num_mels, 64, kernel_size=8, stride=1, padding=1),\n",
    "        nn.BatchNorm1d(64),\n",
    "        nn.ReLU(),\n",
    "        nn.MaxPool1d(4, stride=4)\n",
    "        )\n",
    "\n",
    "        self.conv1 = nn.Sequential(\n",
    "        nn.Conv1d(64, 128, kernel_size=4, stride=1, padding=1),\n",
    "        nn.ReLU(),\n",
    "        torch.nn.Dropout(p=0.3, inplace=False),\n",
    "        nn.MaxPool1d(4, stride=4)\n",
    "        \n",
    "        )\n",
    "        #Res 1\n",
    "        self.block0 = nn.Sequential(\n",
    "        nn.Conv1d(128,128, kernel_size=4, stride=1, padding=1),\n",
    "        nn.BatchNorm1d(128),\n",
    "        nn.ReLU(),\n",
    "        nn.MaxPool1d(16, stride=16)\n",
    "        )\n",
    "\n",
    "        #분할하여 다르게 처리\n",
    "        self.conv2_1 = nn.Sequential(\n",
    "        nn.Conv1d(128, 128, kernel_size=8, stride=1, padding=1),\n",
    "        nn.Dropout(p=0.3, inplace=False),\n",
    "        nn.ReLU(),\n",
    "        nn.MaxPool1d(4, stride=4)\n",
    "        )\n",
    "        \n",
    "        self.conv2_2 = nn.Sequential(\n",
    "        nn.Conv1d(128, 128, kernel_size=8, stride=1, padding=1),\n",
    "        nn.BatchNorm1d(128),\n",
    "        nn.ReLU(),\n",
    "        nn.AvgPool1d(4, stride=4)\n",
    "        )\n",
    "        \n",
    "        \n",
    "         \n",
    "        self.conv3 = nn.Sequential(\n",
    "        nn.Conv1d(256, 128, kernel_size=4, stride=1, padding=2),\n",
    "        nn.BatchNorm1d(128),\n",
    "        nn.ReLU(),\n",
    "        nn.MaxPool1d(4, stride=4)\n",
    "        )\n",
    "        \n",
    "        \n",
    "        ## ResNet2\n",
    "        self.block1 = nn.Sequential(\n",
    "        nn.Conv1d(128,128, kernel_size=8, stride=2, padding=1),\n",
    "        nn.BatchNorm1d(128),\n",
    "        nn.ReLU(),\n",
    "        nn.MaxPool1d(8, stride=8),\n",
    "        nn.Conv1d(128,128, kernel_size=8, stride=2, padding=1),\n",
    "        nn.BatchNorm1d(128),\n",
    "        nn.ReLU(),\n",
    "        nn.MaxPool1d(8, stride=8)\n",
    "        )\n",
    "        \n",
    "\n",
    "        self.linear0 = nn.Sequential(\n",
    "        nn.Dropout(p=0.4, inplace=False),\n",
    "        nn.Linear(128*14, 117),\n",
    "        nn.Dropout(p=0.4, inplace=False),\n",
    "        nn.ReLU(),\n",
    "        nn.Linear(117, len(hparams.genres))\n",
    "        )\n",
    "        \n",
    "\n",
    "    def forward(self, x):\n",
    "\n",
    "        x0 = x.transpose(1, 2)\n",
    "        x1 = self.block0(x0)\n",
    "        x2 = self.block1(x0)\n",
    "        x = self.conv0(x0)\n",
    "        x = self.conv1(x)\n",
    "        x = self.conv2_2(x)\n",
    "        #x = self.conv3(x)\n",
    "        #x = x+x2#Resnet 2  \n",
    "        #x = self.conv4(x)\n",
    "        x = x.view(x.size(0), x.size(1)*x.size(2))\n",
    "        x = self.linear0(x)\n",
    "\n",
    "        return x\n",
    "    "
   ]
  },
  {
   "cell_type": "code",
   "execution_count": 6,
   "metadata": {},
   "outputs": [],
   "source": [
    "\n",
    "class Baseline(nn.Module):\n",
    "    def __init__(self, hparams):\n",
    "        super(Baseline, self).__init__()\n",
    "        \n",
    "        self.conv0 = nn.Sequential(\n",
    "        nn.Conv1d(hparams.num_mels, 64, kernel_size=8, stride=1, padding=1),\n",
    "        nn.BatchNorm1d(64),\n",
    "        nn.ReLU(),\n",
    "        nn.MaxPool1d(4, stride=4)\n",
    "        )\n",
    "\n",
    "        self.conv1 = nn.Sequential(\n",
    "        nn.Conv1d(64, 128, kernel_size=4, stride=1, padding=1),\n",
    "        nn.ReLU(),\n",
    "        torch.nn.Dropout(p=0.3, inplace=False),\n",
    "        nn.MaxPool1d(4, stride=4)\n",
    "        \n",
    "        )\n",
    "        #Res 1\n",
    "        self.block0 = nn.Sequential(\n",
    "        nn.Conv1d(128,128, kernel_size=4, stride=1, padding=1),\n",
    "        nn.BatchNorm1d(128),\n",
    "        nn.ReLU(),\n",
    "        nn.MaxPool1d(16, stride=16)\n",
    "        )\n",
    "\n",
    "        #분할하여 다르게 처리\n",
    "        self.conv2_1 = nn.Sequential(\n",
    "        nn.Conv1d(128, 128, kernel_size=8, stride=1, padding=1),\n",
    "        nn.Dropout(p=0.3, inplace=False),\n",
    "        nn.ReLU(),\n",
    "        nn.MaxPool1d(4, stride=4)\n",
    "        )\n",
    "        \n",
    "        self.conv2_2 = nn.Sequential(\n",
    "        nn.Conv1d(128, 128, kernel_size=8, stride=1, padding=1),\n",
    "        nn.BatchNorm1d(128),\n",
    "        nn.ReLU(),\n",
    "        nn.AvgPool1d(4, stride=4)\n",
    "        )\n",
    "        \n",
    "        \n",
    "         \n",
    "        self.conv3 = nn.Sequential(\n",
    "        nn.Conv1d(256, 128, kernel_size=4, stride=1, padding=2),\n",
    "        nn.BatchNorm1d(128),\n",
    "        nn.ReLU(),\n",
    "        nn.MaxPool1d(4, stride=4)\n",
    "        )\n",
    "        \n",
    "        \n",
    "        ## ResNet2\n",
    "        self.block1 = nn.Sequential(\n",
    "        nn.Conv1d(128,128, kernel_size=8, stride=2, padding=1),\n",
    "        nn.BatchNorm1d(128),\n",
    "        nn.ReLU(),\n",
    "        nn.MaxPool1d(8, stride=8),\n",
    "        nn.Conv1d(128,128, kernel_size=8, stride=2, padding=1),\n",
    "        nn.BatchNorm1d(128),\n",
    "        nn.ReLU(),\n",
    "        nn.MaxPool1d(8, stride=8)\n",
    "        )\n",
    "        \n",
    "\n",
    "        self.linear0 = nn.Sequential(\n",
    "        nn.Dropout(p=0.4, inplace=False),\n",
    "        nn.Linear(128*14, 117),\n",
    "        nn.Dropout(p=0.4, inplace=False),\n",
    "        nn.ReLU(),\n",
    "        nn.Linear(117, len(hparams.genres))\n",
    "        )\n",
    "        \n",
    "\n",
    "    def forward(self, x):\n",
    "\n",
    "        x0 = x.transpose(1, 2)\n",
    "        x1 = self.block0(x0)\n",
    "        x2 = self.block1(x0)\n",
    "        x = self.conv0(x0)\n",
    "        x = self.conv1(x)\n",
    "        x = self.conv2_1(x)\n",
    "        #x = self.conv3(x)\n",
    "        #x = x+x2#Resnet 2  \n",
    "        #x = self.conv4(x)\n",
    "        x = x.view(x.size(0), x.size(1)*x.size(2))\n",
    "        x = self.linear0(x)\n",
    "\n",
    "        return x\n",
    "    "
   ]
  },
  {
   "cell_type": "code",
   "execution_count": 22,
   "metadata": {},
   "outputs": [
    {
     "name": "stdout",
     "output_type": "stream",
     "text": [
      "Training on GPU:0\n",
      "[Epoch 10/100] [Train Loss: 0.8855] [Train Acc: 0.6992] [Valid Loss: 1.2802] [Valid Acc: 0.5500]\n",
      "[Epoch 20/100] [Train Loss: 0.5612] [Train Acc: 0.8273] [Valid Loss: 0.9621] [Valid Acc: 0.6813]\n",
      "Epoch    28: reducing learning rate of group 0 to 1.2000e-04.\n",
      "[Epoch 30/100] [Train Loss: 0.2916] [Train Acc: 0.9164] [Valid Loss: 0.8600] [Valid Acc: 0.7500]\n",
      "[Epoch 40/100] [Train Loss: 0.2531] [Train Acc: 0.9266] [Valid Loss: 0.8309] [Valid Acc: 0.7250]\n",
      "Epoch    42: reducing learning rate of group 0 to 2.4000e-05.\n",
      "Epoch    46: reducing learning rate of group 0 to 4.8000e-06.\n",
      "[Epoch 50/100] [Train Loss: 0.2245] [Train Acc: 0.9445] [Valid Loss: 0.8194] [Valid Acc: 0.7625]\n",
      "Epoch    50: reducing learning rate of group 0 to 9.6000e-07.\n",
      "Epoch    54: reducing learning rate of group 0 to 1.9200e-07.\n",
      "Epoch    58: reducing learning rate of group 0 to 3.8400e-08.\n",
      "[Epoch 60/100] [Train Loss: 0.2318] [Train Acc: 0.9305] [Valid Loss: 0.8185] [Valid Acc: 0.7562]\n",
      "Epoch    62: reducing learning rate of group 0 to 7.6800e-09.\n",
      "[Epoch 70/100] [Train Loss: 0.2214] [Train Acc: 0.9320] [Valid Loss: 0.8186] [Valid Acc: 0.7562]\n",
      "[Epoch 80/100] [Train Loss: 0.2285] [Train Acc: 0.9359] [Valid Loss: 0.8182] [Valid Acc: 0.7625]\n",
      "[Epoch 90/100] [Train Loss: 0.2280] [Train Acc: 0.9398] [Valid Loss: 0.8225] [Valid Acc: 0.7625]\n",
      "[Epoch 100/100] [Train Loss: 0.2245] [Train Acc: 0.9328] [Valid Loss: 0.8149] [Valid Acc: 0.7688]\n",
      "Training Finished\n",
      "Test Accuracy: 71.25%\n"
     ]
    },
    {
     "data": {
      "image/png": "[encoded data removed]",
      "text/plain": [
       "<Figure size 432x288 with 1 Axes>"
      ]
     },
     "metadata": {
      "needs_background": "light"
     },
     "output_type": "display_data"
    }
   ],
   "source": [
    "main()"
   ]
  },
  {
   "cell_type": "code",
   "execution_count": 23,
   "metadata": {},
   "outputs": [],
   "source": [
    "hparams.feature_path = 'feature3'"
   ]
  },
  {
   "cell_type": "code",
   "execution_count": 24,
   "metadata": {},
   "outputs": [
    {
     "name": "stdout",
     "output_type": "stream",
     "text": [
      "Training on GPU:0\n",
      "[Epoch 10/100] [Train Loss: 0.5822] [Train Acc: 0.8090] [Valid Loss: 1.0514] [Valid Acc: 0.6813]\n",
      "[Epoch 20/100] [Train Loss: 0.3487] [Train Acc: 0.8895] [Valid Loss: 0.8150] [Valid Acc: 0.7750]\n",
      "Epoch    24: reducing learning rate of group 0 to 1.2000e-04.\n",
      "[Epoch 30/100] [Train Loss: 0.1895] [Train Acc: 0.9430] [Valid Loss: 0.7156] [Valid Acc: 0.7812]\n",
      "[Epoch 40/100] [Train Loss: 0.1672] [Train Acc: 0.9496] [Valid Loss: 0.6970] [Valid Acc: 0.7875]\n",
      "Epoch    42: reducing learning rate of group 0 to 2.4000e-05.\n",
      "Epoch    46: reducing learning rate of group 0 to 4.8000e-06.\n",
      "[Epoch 50/100] [Train Loss: 0.1460] [Train Acc: 0.9578] [Valid Loss: 0.6917] [Valid Acc: 0.7812]\n",
      "Epoch    50: reducing learning rate of group 0 to 9.6000e-07.\n",
      "Epoch    54: reducing learning rate of group 0 to 1.9200e-07.\n",
      "Epoch    58: reducing learning rate of group 0 to 3.8400e-08.\n",
      "[Epoch 60/100] [Train Loss: 0.1366] [Train Acc: 0.9613] [Valid Loss: 0.6999] [Valid Acc: 0.7750]\n",
      "Epoch    62: reducing learning rate of group 0 to 7.6800e-09.\n",
      "[Epoch 70/100] [Train Loss: 0.1357] [Train Acc: 0.9641] [Valid Loss: 0.6941] [Valid Acc: 0.7688]\n",
      "[Epoch 80/100] [Train Loss: 0.1346] [Train Acc: 0.9574] [Valid Loss: 0.6942] [Valid Acc: 0.7812]\n",
      "[Epoch 90/100] [Train Loss: 0.1387] [Train Acc: 0.9598] [Valid Loss: 0.7011] [Valid Acc: 0.7688]\n",
      "[Epoch 100/100] [Train Loss: 0.1439] [Train Acc: 0.9547] [Valid Loss: 0.6891] [Valid Acc: 0.7812]\n",
      "Training Finished\n",
      "Test Accuracy: 77.50%\n"
     ]
    },
    {
     "data": {
      "image/png": "[encoded data removed]",
      "text/plain": [
       "<Figure size 432x288 with 1 Axes>"
      ]
     },
     "metadata": {
      "needs_background": "light"
     },
     "output_type": "display_data"
    }
   ],
   "source": [
    "main()"
   ]
  },
  {
   "cell_type": "code",
   "execution_count": 6,
   "metadata": {},
   "outputs": [],
   "source": [
    "hparams.feature_path = 'feature4'"
   ]
  },
  {
   "cell_type": "code",
   "execution_count": 7,
   "metadata": {},
   "outputs": [],
   "source": [
    "hparams.learning_rate=6*1e-4"
   ]
  },
  {
   "cell_type": "code",
   "execution_count": 8,
   "metadata": {},
   "outputs": [
    {
     "name": "stdout",
     "output_type": "stream",
     "text": [
      "Training on GPU:0\n",
      "[Epoch 10/100] [Train Loss: 0.2153] [Train Acc: 0.9445] [Valid Loss: 0.6809] [Valid Acc: 0.7875]\n",
      "Epoch    14: reducing learning rate of group 0 to 1.2000e-04.\n",
      "Epoch    18: reducing learning rate of group 0 to 2.4000e-05.\n",
      "[Epoch 20/100] [Train Loss: 0.0562] [Train Acc: 0.9917] [Valid Loss: 0.7367] [Valid Acc: 0.8125]\n",
      "Epoch    22: reducing learning rate of group 0 to 4.8000e-06.\n",
      "Epoch    26: reducing learning rate of group 0 to 9.6000e-07.\n",
      "[Epoch 30/100] [Train Loss: 0.0548] [Train Acc: 0.9893] [Valid Loss: 0.6831] [Valid Acc: 0.8125]\n",
      "Epoch    30: reducing learning rate of group 0 to 1.9200e-07.\n",
      "Epoch    34: reducing learning rate of group 0 to 3.8400e-08.\n",
      "Epoch    38: reducing learning rate of group 0 to 7.6800e-09.\n",
      "[Epoch 40/100] [Train Loss: 0.0534] [Train Acc: 0.9906] [Valid Loss: 0.7249] [Valid Acc: 0.8063]\n",
      "[Epoch 50/100] [Train Loss: 0.0528] [Train Acc: 0.9922] [Valid Loss: 0.6986] [Valid Acc: 0.8063]\n",
      "[Epoch 60/100] [Train Loss: 0.0511] [Train Acc: 0.9917] [Valid Loss: 0.6930] [Valid Acc: 0.8063]\n",
      "[Epoch 70/100] [Train Loss: 0.0568] [Train Acc: 0.9875] [Valid Loss: 0.7251] [Valid Acc: 0.7937]\n",
      "[Epoch 80/100] [Train Loss: 0.0553] [Train Acc: 0.9914] [Valid Loss: 0.6953] [Valid Acc: 0.8125]\n",
      "[Epoch 90/100] [Train Loss: 0.0424] [Train Acc: 0.9945] [Valid Loss: 0.6994] [Valid Acc: 0.8125]\n",
      "[Epoch 100/100] [Train Loss: 0.0513] [Train Acc: 0.9930] [Valid Loss: 0.7009] [Valid Acc: 0.8125]\n",
      "Training Finished\n",
      "Test Accuracy: 80.62%\n"
     ]
    },
    {
     "data": {
      "image/png": "[encoded data removed]",
      "text/plain": [
       "<Figure size 432x288 with 1 Axes>"
      ]
     },
     "metadata": {
      "needs_background": "light"
     },
     "output_type": "display_data"
    }
   ],
   "source": [
    "main()"
   ]
  },
  {
   "cell_type": "code",
   "execution_count": 6,
   "metadata": {},
   "outputs": [],
   "source": [
    "'''\n",
    "kaiming He init\n",
    "'''\n",
    "import torch.nn as nn\n",
    "\n",
    "class Baseline(nn.Module):\n",
    "    def __init__(self, hparams):\n",
    "        super(Baseline, self).__init__()\n",
    "        self._initialize_weights()\n",
    "        \n",
    "        self.conv0 = nn.Sequential(\n",
    "        nn.Conv1d(hparams.num_mels, 64, kernel_size=8, stride=1, padding=1),\n",
    "        nn.BatchNorm1d(64),\n",
    "        nn.ReLU(),\n",
    "        nn.MaxPool1d(4, stride=4)\n",
    "        )\n",
    "\n",
    "        self.conv1 = nn.Sequential(\n",
    "        nn.Conv1d(64, 128, kernel_size=4, stride=1, padding=1),\n",
    "        nn.ReLU(),\n",
    "        torch.nn.Dropout(p=0.3, inplace=False),\n",
    "        nn.MaxPool1d(4, stride=4)\n",
    "        \n",
    "        )\n",
    "        #Res 1\n",
    "        self.block0 = nn.Sequential(\n",
    "        nn.Conv1d(128,128, kernel_size=4, stride=1, padding=1),\n",
    "        nn.BatchNorm1d(128),\n",
    "        nn.ReLU(),\n",
    "        nn.MaxPool1d(16, stride=16)\n",
    "        )\n",
    "\n",
    "        #분할하여 다르게 처리\n",
    "        self.conv2_1 = nn.Sequential(\n",
    "        nn.Conv1d(128, 256, kernel_size=8, stride=1, padding=1),\n",
    "        nn.Dropout(p=0.3, inplace=False),\n",
    "        nn.ReLU(),\n",
    "        nn.MaxPool1d(4, stride=4)\n",
    "        )\n",
    "        \n",
    "        self.conv2_2 = nn.Sequential(\n",
    "        nn.Conv1d(128, 256, kernel_size=8, stride=1, padding=1),\n",
    "        nn.BatchNorm1d(256),\n",
    "        nn.ReLU(),\n",
    "        nn.AvgPool1d(4, stride=4)\n",
    "        )\n",
    "        \n",
    "        \n",
    "         \n",
    "        self.conv3 = nn.Sequential(\n",
    "        nn.Conv1d(256, 128, kernel_size=4, stride=1, padding=2),\n",
    "        nn.BatchNorm1d(128),\n",
    "        nn.ReLU(),\n",
    "        nn.MaxPool1d(4, stride=4)\n",
    "        )\n",
    "        \n",
    "        \n",
    "        ## ResNet2\n",
    "        self.block1 = nn.Sequential(\n",
    "        nn.Conv1d(128,128, kernel_size=8, stride=2, padding=1),\n",
    "        nn.BatchNorm1d(128),\n",
    "        nn.ReLU(),\n",
    "        nn.MaxPool1d(4, stride=4),\n",
    "        nn.Conv1d(128,128, kernel_size=8, stride=2, padding=1),\n",
    "        nn.BatchNorm1d(128),\n",
    "        nn.ReLU(),\n",
    "        nn.MaxPool1d(8, stride=8)\n",
    "        )\n",
    "        \n",
    "        \n",
    "        self.conv4 = nn.Sequential(\n",
    "        nn.Conv1d(128, 96, kernel_size=3, stride=1, padding=1),\n",
    "        nn.BatchNorm1d(96),\n",
    "        nn.ReLU(),\n",
    "        nn.MaxPool1d(6, stride=6)\n",
    "        )\n",
    "\n",
    "        self.linear0 = nn.Sequential(\n",
    "        nn.Dropout(p=0.4, inplace=False),\n",
    "        nn.Linear(96, 117),\n",
    "        nn.ReLU(),\n",
    "        nn.Linear(117, len(hparams.genres))\n",
    "        )\n",
    "        \n",
    "\n",
    "    def forward(self, x):\n",
    "\n",
    "        x0 = x.transpose(1, 2)\n",
    "        x1 = self.block0(x0)\n",
    "        x2 = self.block1(x0)\n",
    "        x = self.conv0(x0)\n",
    "        x = self.conv1(x)+x1 #Resnet1\n",
    "        x = torch.cat((self.conv2_1(x)+self.conv2_2(x),self.conv2_2(x)+self.conv2_1(x)),2)\n",
    "        x = self.conv3(x)\n",
    "        x = x+x2#Resnet 2  \n",
    "        x = self.conv4(x)\n",
    "        x = x.view(x.size(0), x.size(1)*x.size(2))\n",
    "        x = self.linear0(x)\n",
    "\n",
    "        return x\n",
    "    \n",
    "    def _initialize_weights(self):\n",
    "        for m in self.modules():\n",
    "            if isinstance(m, nn.Conv1d):\n",
    "                init.kaiming_normal(m.weight)\n",
    "                if m.bias is not None:\n",
    "                    init.constant(m.bias, 0)\n",
    "            elif isinstance(m, nn.BatchNorm1d):\n",
    "                init.constant(m.weight, 1)\n",
    "                init.constant(m.bias, 0)\n",
    "            elif isinstance(m, nn.Linear):\n",
    "                init.normal(m.weight, std=1e-3)\n",
    "                if m.bias is not None:\n",
    "                    init.constant(m.bias, 0)\n"
   ]
  },
  {
   "cell_type": "code",
   "execution_count": 8,
   "metadata": {},
   "outputs": [],
   "source": [
    "hparams.learning_rate=1e-4\n",
    "hparams.feature_path = 'feature4'"
   ]
  },
  {
   "cell_type": "code",
   "execution_count": 9,
   "metadata": {},
   "outputs": [
    {
     "name": "stdout",
     "output_type": "stream",
     "text": [
      "Training on GPU:0\n",
      "[Epoch 10/100] [Train Loss: 1.1643] [Train Acc: 0.7174] [Valid Loss: 1.3175] [Valid Acc: 0.5312]\n",
      "[Epoch 20/100] [Train Loss: 0.5518] [Train Acc: 0.8719] [Valid Loss: 0.9449] [Valid Acc: 0.6500]\n",
      "[Epoch 30/100] [Train Loss: 0.2927] [Train Acc: 0.9411] [Valid Loss: 0.8139] [Valid Acc: 0.7438]\n",
      "Epoch    36: reducing learning rate of group 0 to 2.0000e-05.\n",
      "[Epoch 40/100] [Train Loss: 0.1858] [Train Acc: 0.9648] [Valid Loss: 0.7972] [Valid Acc: 0.7562]\n",
      "Epoch    41: reducing learning rate of group 0 to 4.0000e-06.\n",
      "Epoch    47: reducing learning rate of group 0 to 8.0000e-07.\n",
      "[Epoch 50/100] [Train Loss: 0.1818] [Train Acc: 0.9659] [Valid Loss: 0.7630] [Valid Acc: 0.7625]\n",
      "Epoch    51: reducing learning rate of group 0 to 1.6000e-07.\n",
      "Epoch    55: reducing learning rate of group 0 to 3.2000e-08.\n",
      "Epoch    59: reducing learning rate of group 0 to 6.4000e-09.\n",
      "[Epoch 60/100] [Train Loss: 0.1779] [Train Acc: 0.9685] [Valid Loss: 0.7933] [Valid Acc: 0.7438]\n",
      "[Epoch 70/100] [Train Loss: 0.1640] [Train Acc: 0.9753] [Valid Loss: 0.7802] [Valid Acc: 0.7500]\n",
      "[Epoch 80/100] [Train Loss: 0.1677] [Train Acc: 0.9721] [Valid Loss: 0.7667] [Valid Acc: 0.7500]\n",
      "[Epoch 90/100] [Train Loss: 0.1739] [Train Acc: 0.9714] [Valid Loss: 0.7605] [Valid Acc: 0.7500]\n",
      "[Epoch 100/100] [Train Loss: 0.1718] [Train Acc: 0.9693] [Valid Loss: 0.7864] [Valid Acc: 0.7562]\n",
      "Training Finished\n",
      "Test Accuracy: 76.25%\n"
     ]
    },
    {
     "data": {
      "image/png": "[encoded data removed]",
      "text/plain": [
       "<Figure size 432x288 with 1 Axes>"
      ]
     },
     "metadata": {
      "needs_background": "light"
     },
     "output_type": "display_data"
    }
   ],
   "source": [
    "main()"
   ]
  },
  {
   "cell_type": "code",
   "execution_count": 9,
   "metadata": {},
   "outputs": [],
   "source": [
    "hparams.learning_rate=2*1e-4"
   ]
  },
  {
   "cell_type": "code",
   "execution_count": 10,
   "metadata": {},
   "outputs": [
    {
     "name": "stdout",
     "output_type": "stream",
     "text": [
      "Training on GPU:0\n",
      "[Epoch 10/100] [Train Loss: 0.6001] [Train Acc: 0.8534] [Valid Loss: 0.9137] [Valid Acc: 0.6937]\n",
      "[Epoch 20/100] [Train Loss: 0.1904] [Train Acc: 0.9628] [Valid Loss: 0.7245] [Valid Acc: 0.7250]\n",
      "Epoch    25: reducing learning rate of group 0 to 4.0000e-05.\n",
      "Epoch    29: reducing learning rate of group 0 to 8.0000e-06.\n",
      "[Epoch 30/100] [Train Loss: 0.0897] [Train Acc: 0.9859] [Valid Loss: 0.7429] [Valid Acc: 0.7312]\n",
      "Epoch    37: reducing learning rate of group 0 to 1.6000e-06.\n",
      "[Epoch 40/100] [Train Loss: 0.0856] [Train Acc: 0.9878] [Valid Loss: 0.7294] [Valid Acc: 0.7375]\n",
      "Epoch    41: reducing learning rate of group 0 to 3.2000e-07.\n",
      "Epoch    45: reducing learning rate of group 0 to 6.4000e-08.\n",
      "Epoch    49: reducing learning rate of group 0 to 1.2800e-08.\n",
      "[Epoch 50/100] [Train Loss: 0.0903] [Train Acc: 0.9867] [Valid Loss: 0.6716] [Valid Acc: 0.7438]\n",
      "Epoch    54: reducing learning rate of group 0 to 2.5600e-09.\n",
      "[Epoch 60/100] [Train Loss: 0.0903] [Train Acc: 0.9872] [Valid Loss: 0.7123] [Valid Acc: 0.7250]\n",
      "[Epoch 70/100] [Train Loss: 0.0839] [Train Acc: 0.9883] [Valid Loss: 0.7708] [Valid Acc: 0.7312]\n",
      "[Epoch 80/100] [Train Loss: 0.0920] [Train Acc: 0.9854] [Valid Loss: 0.6997] [Valid Acc: 0.7250]\n",
      "[Epoch 90/100] [Train Loss: 0.0901] [Train Acc: 0.9872] [Valid Loss: 0.7399] [Valid Acc: 0.7375]\n",
      "[Epoch 100/100] [Train Loss: 0.0817] [Train Acc: 0.9901] [Valid Loss: 0.7072] [Valid Acc: 0.7375]\n",
      "Training Finished\n",
      "Test Accuracy: 76.25%\n"
     ]
    },
    {
     "data": {
      "image/png": "[encoded data removed]",
      "text/plain": [
       "<Figure size 432x288 with 1 Axes>"
      ]
     },
     "metadata": {
      "needs_background": "light"
     },
     "output_type": "display_data"
    }
   ],
   "source": [
    "main()"
   ]
  },
  {
   "cell_type": "code",
   "execution_count": 7,
   "metadata": {},
   "outputs": [],
   "source": [
    "hparams.feature_path = 'feature5'\n",
    "hparams.learning_rate=5*1e-5"
   ]
  },
  {
   "cell_type": "code",
   "execution_count": 8,
   "metadata": {},
   "outputs": [
    {
     "name": "stdout",
     "output_type": "stream",
     "text": [
      "Training on GPU:0\n",
      "[Epoch 10/100] [Train Loss: 1.3442] [Train Acc: 0.6579] [Valid Loss: 1.4179] [Valid Acc: 0.5750]\n",
      "[Epoch 20/100] [Train Loss: 0.7536] [Train Acc: 0.8220] [Valid Loss: 1.0285] [Valid Acc: 0.6438]\n",
      "Epoch    28: reducing learning rate of group 0 to 1.0000e-05.\n",
      "[Epoch 30/100] [Train Loss: 0.4542] [Train Acc: 0.8977] [Valid Loss: 0.9378] [Valid Acc: 0.6625]\n",
      "Epoch    39: reducing learning rate of group 0 to 2.0000e-06.\n",
      "[Epoch 40/100] [Train Loss: 0.4111] [Train Acc: 0.9059] [Valid Loss: 0.9379] [Valid Acc: 0.6500]\n",
      "Epoch    46: reducing learning rate of group 0 to 4.0000e-07.\n",
      "[Epoch 50/100] [Train Loss: 0.4045] [Train Acc: 0.9094] [Valid Loss: 0.8872] [Valid Acc: 0.6687]\n",
      "Epoch    50: reducing learning rate of group 0 to 8.0000e-08.\n",
      "[Epoch 60/100] [Train Loss: 0.3970] [Train Acc: 0.9083] [Valid Loss: 0.8907] [Valid Acc: 0.6625]\n",
      "Epoch    61: reducing learning rate of group 0 to 1.6000e-08.\n",
      "Epoch    65: reducing learning rate of group 0 to 3.2000e-09.\n",
      "[Epoch 70/100] [Train Loss: 0.4058] [Train Acc: 0.9087] [Valid Loss: 0.9060] [Valid Acc: 0.6625]\n",
      "[Epoch 80/100] [Train Loss: 0.4037] [Train Acc: 0.9081] [Valid Loss: 0.8864] [Valid Acc: 0.6937]\n",
      "[Epoch 90/100] [Train Loss: 0.3971] [Train Acc: 0.9102] [Valid Loss: 0.8804] [Valid Acc: 0.6875]\n",
      "[Epoch 100/100] [Train Loss: 0.4171] [Train Acc: 0.9036] [Valid Loss: 0.8744] [Valid Acc: 0.7000]\n",
      "Training Finished\n",
      "Test Accuracy: 69.38%\n"
     ]
    },
    {
     "data": {
      "image/png": "[encoded data removed]",
      "text/plain": [
       "<Figure size 432x288 with 1 Axes>"
      ]
     },
     "metadata": {
      "needs_background": "light"
     },
     "output_type": "display_data"
    }
   ],
   "source": [
    "main()"
   ]
  },
  {
   "cell_type": "code",
   "execution_count": 6,
   "metadata": {},
   "outputs": [],
   "source": [
    "torch.cuda.empty_cache() "
   ]
  },
  {
   "cell_type": "code",
   "execution_count": 9,
   "metadata": {},
   "outputs": [],
   "source": [
    "hparams.learning_rate=1e-4"
   ]
  },
  {
   "cell_type": "code",
   "execution_count": 10,
   "metadata": {},
   "outputs": [
    {
     "name": "stdout",
     "output_type": "stream",
     "text": [
      "Training on GPU:0\n",
      "[Epoch 10/100] [Train Loss: 0.8660] [Train Acc: 0.7031] [Valid Loss: 1.1782] [Valid Acc: 0.6188]\n",
      "[Epoch 20/100] [Train Loss: 0.5428] [Train Acc: 0.8220] [Valid Loss: 0.9598] [Valid Acc: 0.7000]\n",
      "[Epoch 30/100] [Train Loss: 0.3962] [Train Acc: 0.8725] [Valid Loss: 0.7854] [Valid Acc: 0.7812]\n",
      "[Epoch 40/100] [Train Loss: 0.3024] [Train Acc: 0.9033] [Valid Loss: 0.7348] [Valid Acc: 0.7500]\n",
      "[Epoch 50/100] [Train Loss: 0.2549] [Train Acc: 0.9176] [Valid Loss: 0.7004] [Valid Acc: 0.7500]\n",
      "Epoch    56: reducing learning rate of group 0 to 2.0000e-05.\n",
      "[Epoch 60/100] [Train Loss: 0.1771] [Train Acc: 0.9457] [Valid Loss: 0.6254] [Valid Acc: 0.7937]\n",
      "Epoch    61: reducing learning rate of group 0 to 4.0000e-06.\n",
      "Epoch    65: reducing learning rate of group 0 to 8.0000e-07.\n",
      "Epoch    69: reducing learning rate of group 0 to 1.6000e-07.\n",
      "[Epoch 70/100] [Train Loss: 0.1630] [Train Acc: 0.9523] [Valid Loss: 0.6234] [Valid Acc: 0.7937]\n",
      "Epoch    73: reducing learning rate of group 0 to 3.2000e-08.\n",
      "Epoch    77: reducing learning rate of group 0 to 6.4000e-09.\n",
      "[Epoch 80/100] [Train Loss: 0.1661] [Train Acc: 0.9503] [Valid Loss: 0.6263] [Valid Acc: 0.7937]\n",
      "[Epoch 90/100] [Train Loss: 0.1588] [Train Acc: 0.9499] [Valid Loss: 0.6252] [Valid Acc: 0.7937]\n",
      "[Epoch 100/100] [Train Loss: 0.1599] [Train Acc: 0.9513] [Valid Loss: 0.5980] [Valid Acc: 0.8125]\n",
      "Training Finished\n",
      "Test Accuracy: 78.12%\n"
     ]
    },
    {
     "data": {
      "image/png": "[encoded data removed]",
      "text/plain": [
       "<Figure size 432x288 with 1 Axes>"
      ]
     },
     "metadata": {
      "needs_background": "light"
     },
     "output_type": "display_data"
    }
   ],
   "source": [
    "main()"
   ]
  },
  {
   "cell_type": "code",
   "execution_count": 12,
   "metadata": {},
   "outputs": [],
   "source": [
    "torch.cuda.empty_cache()\n",
    "hparams.feature_path = 'feature5'\n",
    "hparams.learning_rate= 9*1e-5"
   ]
  },
  {
   "cell_type": "code",
   "execution_count": 13,
   "metadata": {},
   "outputs": [
    {
     "name": "stdout",
     "output_type": "stream",
     "text": [
      "Training on GPU:0\n",
      "[Epoch 10/100] [Train Loss: 0.8856] [Train Acc: 0.7759] [Valid Loss: 1.0337] [Valid Acc: 0.7000]\n",
      "[Epoch 20/100] [Train Loss: 0.3541] [Train Acc: 0.9148] [Valid Loss: 0.7865] [Valid Acc: 0.7438]\n",
      "Epoch    20: reducing learning rate of group 0 to 1.8000e-05.\n",
      "[Epoch 30/100] [Train Loss: 0.2681] [Train Acc: 0.9427] [Valid Loss: 0.6656] [Valid Acc: 0.8375]\n",
      "Epoch    31: reducing learning rate of group 0 to 3.6000e-06.\n",
      "Epoch    35: reducing learning rate of group 0 to 7.2000e-07.\n",
      "[Epoch 40/100] [Train Loss: 0.2509] [Train Acc: 0.9491] [Valid Loss: 0.6616] [Valid Acc: 0.8063]\n",
      "Epoch    40: reducing learning rate of group 0 to 1.4400e-07.\n",
      "Epoch    44: reducing learning rate of group 0 to 2.8800e-08.\n",
      "Epoch    49: reducing learning rate of group 0 to 5.7600e-09.\n",
      "[Epoch 50/100] [Train Loss: 0.2447] [Train Acc: 0.9504] [Valid Loss: 0.6384] [Valid Acc: 0.8375]\n",
      "[Epoch 60/100] [Train Loss: 0.2501] [Train Acc: 0.9473] [Valid Loss: 0.6820] [Valid Acc: 0.8125]\n",
      "[Epoch 70/100] [Train Loss: 0.2505] [Train Acc: 0.9491] [Valid Loss: 0.7036] [Valid Acc: 0.8063]\n",
      "[Epoch 80/100] [Train Loss: 0.2464] [Train Acc: 0.9513] [Valid Loss: 0.6751] [Valid Acc: 0.8125]\n",
      "[Epoch 90/100] [Train Loss: 0.2460] [Train Acc: 0.9523] [Valid Loss: 0.7217] [Valid Acc: 0.8063]\n",
      "[Epoch 100/100] [Train Loss: 0.2453] [Train Acc: 0.9505] [Valid Loss: 0.7012] [Valid Acc: 0.8000]\n",
      "Training Finished\n",
      "Test Accuracy: 75.00%\n"
     ]
    },
    {
     "data": {
      "image/png": "[encoded data removed]",
      "text/plain": [
       "<Figure size 432x288 with 1 Axes>"
      ]
     },
     "metadata": {
      "needs_background": "light"
     },
     "output_type": "display_data"
    }
   ],
   "source": [
    "main()"
   ]
  },
  {
   "cell_type": "code",
   "execution_count": 8,
   "metadata": {},
   "outputs": [],
   "source": [
    "torch.cuda.empty_cache()\n",
    "hparams.batch_size = 30\n",
    "hparams.learning_rate= 8*1e-5"
   ]
  },
  {
   "cell_type": "code",
   "execution_count": 15,
   "metadata": {},
   "outputs": [
    {
     "name": "stdout",
     "output_type": "stream",
     "text": [
      "Training on GPU:0\n",
      "[Epoch 10/100] [Train Loss: 1.1255] [Train Acc: 0.7311] [Valid Loss: 1.2308] [Valid Acc: 0.6250]\n",
      "[Epoch 20/100] [Train Loss: 0.5445] [Train Acc: 0.8688] [Valid Loss: 0.8420] [Valid Acc: 0.7438]\n",
      "[Epoch 30/100] [Train Loss: 0.2902] [Train Acc: 0.9370] [Valid Loss: 0.7378] [Valid Acc: 0.7688]\n",
      "Epoch    37: reducing learning rate of group 0 to 1.6000e-05.\n",
      "[Epoch 40/100] [Train Loss: 0.1892] [Train Acc: 0.9622] [Valid Loss: 0.7020] [Valid Acc: 0.7812]\n",
      "Epoch    48: reducing learning rate of group 0 to 3.2000e-06.\n",
      "[Epoch 50/100] [Train Loss: 0.1704] [Train Acc: 0.9684] [Valid Loss: 0.6995] [Valid Acc: 0.7875]\n",
      "Epoch    55: reducing learning rate of group 0 to 6.4000e-07.\n",
      "[Epoch 60/100] [Train Loss: 0.1644] [Train Acc: 0.9699] [Valid Loss: 0.6811] [Valid Acc: 0.7812]\n",
      "Epoch    60: reducing learning rate of group 0 to 1.2800e-07.\n",
      "Epoch    64: reducing learning rate of group 0 to 2.5600e-08.\n",
      "Epoch    68: reducing learning rate of group 0 to 5.1200e-09.\n",
      "[Epoch 70/100] [Train Loss: 0.1636] [Train Acc: 0.9694] [Valid Loss: 0.6873] [Valid Acc: 0.7688]\n",
      "[Epoch 80/100] [Train Loss: 0.1683] [Train Acc: 0.9671] [Valid Loss: 0.6920] [Valid Acc: 0.7625]\n",
      "[Epoch 90/100] [Train Loss: 0.1710] [Train Acc: 0.9701] [Valid Loss: 0.6558] [Valid Acc: 0.8063]\n",
      "[Epoch 100/100] [Train Loss: 0.1655] [Train Acc: 0.9686] [Valid Loss: 0.6747] [Valid Acc: 0.7937]\n",
      "Training Finished\n",
      "Test Accuracy: 83.12%\n"
     ]
    },
    {
     "data": {
      "image/png": "[encoded data removed]",
      "text/plain": [
       "<Figure size 432x288 with 1 Axes>"
      ]
     },
     "metadata": {
      "needs_background": "light"
     },
     "output_type": "display_data"
    }
   ],
   "source": [
    "main()"
   ]
  },
  {
   "cell_type": "code",
   "execution_count": 26,
   "metadata": {},
   "outputs": [],
   "source": [
    "# Wrapper class to run PyTorch model\n",
    "class Runner(object):\n",
    "    def __init__(self, hparams):\n",
    "        self.model = Baseline(hparams)\n",
    "        self.criterion = nn.CrossEntropyLoss()\n",
    "        \n",
    "       # self.optimizer = torch.optim.Adam(self.model.parameters(), lr=hparams.learning_rate)\n",
    "        self.optimizer = torch.optim.SGD(self.model.parameters(), lr=hparams.learning_rate, momentum=hparams.momentum)\n",
    "        self.scheduler = ReduceLROnPlateau(self.optimizer, mode='min', factor=hparams.factor, patience=hparams.patience, verbose=True)\n",
    "        self.learning_rate = hparams.learning_rate\n",
    "        self.stopping_rate = hparams.stopping_rate\n",
    "        self.device = torch.device(\"cpu\")\n",
    "\n",
    "        if hparams.device > 0:\n",
    "            torch.cuda.set_device(hparams.device - 1)##\n",
    "            self.model.cuda(hparams.device - 1)\n",
    "            self.criterion.cuda(hparams.device - 1)\n",
    "            self.device = torch.device(\"cuda:\" + str(hparams.device - 1))\n",
    "            \n",
    "#         device = torch.device('cuda:0' if torch.cuda.is_available() else 'cpu')\n",
    "#         self.model = Baseline(hparams).to(device)\n",
    "#         if torch.cuda.device_count() > 1:\n",
    "#             print('\\n===> Training on GPU!')\n",
    "#             self.model = nn.DataParallel(net)\n",
    "\n",
    "    # Accuracy function works like loss function in PyTorch\n",
    "    def accuracy(self, source, target):\n",
    "        source = source.max(1)[1].long().cpu()\n",
    "        target = target.cpu()\n",
    "        correct = (source == target).sum().item()\n",
    "\n",
    "        return correct/float(source.size(0))\n",
    "\n",
    "    # Running model for train, test and validation. mode: 'train' for training, 'eval' for validation and test\n",
    "    def run(self, dataloader, mode='train'):\n",
    "        self.model.train() if mode is 'train' else self.model.eval()\n",
    "\n",
    "        epoch_loss = 0.0\n",
    "        epoch_acc = 0.0\n",
    "        \n",
    "        for batch, (x, y) in enumerate(dataloader):\n",
    "            x = x.to(self.device)\n",
    "            y = y.to(self.device).type(torch.long)\n",
    "            \n",
    "            #print(y)\n",
    "\n",
    "            prediction = self.model(x)\n",
    "            loss = self.criterion(prediction, y)\n",
    "            acc = self.accuracy(prediction, y)\n",
    "\n",
    "            if mode is 'train':\n",
    "                loss.backward()\n",
    "                self.optimizer.step()\n",
    "                self.optimizer.zero_grad()\n",
    "\n",
    "            epoch_loss += prediction.size(0)*loss.item()\n",
    "            epoch_acc += prediction.size(0)*acc\n",
    "\n",
    "        epoch_loss = epoch_loss/len(dataloader.dataset)\n",
    "        epoch_acc = epoch_acc/len(dataloader.dataset)\n",
    "\n",
    "        return epoch_loss, epoch_acc\n",
    "\n",
    "    # Early stopping function for given validation loss\n",
    "    def early_stop(self, loss, epoch):\n",
    "        self.scheduler.step(loss, epoch)\n",
    "        self.learning_rate = self.optimizer.param_groups[0]['lr']\n",
    "        stop = self.learning_rate < self.stopping_rate\n",
    "\n",
    "        return stop\n"
   ]
  },
  {
   "cell_type": "code",
   "execution_count": 28,
   "metadata": {},
   "outputs": [],
   "source": [
    "torch.cuda.empty_cache()\n",
    "hparams.feature_path = 'feature5'\n",
    "hparams.batch_size = 30\n",
    "hparams.learning_rate= 8*1e-5"
   ]
  },
  {
   "cell_type": "code",
   "execution_count": 31,
   "metadata": {},
   "outputs": [
    {
     "name": "stdout",
     "output_type": "stream",
     "text": [
      "Training on GPU:0\n",
      "Epoch     9: reducing learning rate of group 0 to 1.6000e-05.\n",
      "[Epoch 10/100] [Train Loss: 0.0571] [Train Acc: 0.9901] [Valid Loss: 0.6438] [Valid Acc: 0.7937]\n",
      "Epoch    13: reducing learning rate of group 0 to 3.2000e-06.\n",
      "[Epoch 20/100] [Train Loss: 0.0296] [Train Acc: 0.9964] [Valid Loss: 0.6656] [Valid Acc: 0.7875]\n",
      "Epoch    21: reducing learning rate of group 0 to 6.4000e-07.\n",
      "Epoch    25: reducing learning rate of group 0 to 1.2800e-07.\n",
      "Epoch    29: reducing learning rate of group 0 to 2.5600e-08.\n",
      "[Epoch 30/100] [Train Loss: 0.0267] [Train Acc: 0.9967] [Valid Loss: 0.6243] [Valid Acc: 0.8000]\n",
      "Epoch    34: reducing learning rate of group 0 to 5.1200e-09.\n",
      "[Epoch 40/100] [Train Loss: 0.0277] [Train Acc: 0.9969] [Valid Loss: 0.6467] [Valid Acc: 0.7875]\n",
      "[Epoch 50/100] [Train Loss: 0.0264] [Train Acc: 0.9973] [Valid Loss: 0.6598] [Valid Acc: 0.7875]\n",
      "[Epoch 60/100] [Train Loss: 0.0277] [Train Acc: 0.9967] [Valid Loss: 0.6407] [Valid Acc: 0.7875]\n",
      "[Epoch 70/100] [Train Loss: 0.0274] [Train Acc: 0.9965] [Valid Loss: 0.6585] [Valid Acc: 0.8000]\n",
      "[Epoch 80/100] [Train Loss: 0.0286] [Train Acc: 0.9966] [Valid Loss: 0.6779] [Valid Acc: 0.7937]\n",
      "[Epoch 90/100] [Train Loss: 0.0268] [Train Acc: 0.9978] [Valid Loss: 0.6719] [Valid Acc: 0.8063]\n",
      "[Epoch 100/100] [Train Loss: 0.0275] [Train Acc: 0.9957] [Valid Loss: 0.6550] [Valid Acc: 0.8063]\n",
      "Training Finished\n",
      "Test Accuracy: 83.75%\n"
     ]
    },
    {
     "data": {
      "image/png": "[encoded data removed]",
      "text/plain": [
       "<Figure size 432x288 with 1 Axes>"
      ]
     },
     "metadata": {
      "needs_background": "light"
     },
     "output_type": "display_data"
    }
   ],
   "source": [
    "main()"
   ]
  },
  {
   "cell_type": "code",
   "execution_count": 38,
   "metadata": {},
   "outputs": [],
   "source": [
    "seed = torch.initial_seed()\n",
    "cuda_seed = torch.cuda.initial_seed()"
   ]
  },
  {
   "cell_type": "code",
   "execution_count": 23,
   "metadata": {},
   "outputs": [],
   "source": [
    "seed = 1563868121\n",
    "cuda_seed = 381692953686369\n",
    "torch.manual_seed(seed)\n",
    "torch.cuda.manual_seed_all(cuda_seed)"
   ]
  },
  {
   "cell_type": "code",
   "execution_count": 39,
   "metadata": {},
   "outputs": [
    {
     "data": {
      "text/plain": [
       "(1563868121, 381692953686369)"
      ]
     },
     "execution_count": 39,
     "metadata": {},
     "output_type": "execute_result"
    }
   ],
   "source": [
    "seed, cuda_seed"
   ]
  },
  {
   "cell_type": "code",
   "execution_count": 30,
   "metadata": {},
   "outputs": [],
   "source": [
    "torch.cuda.empty_cache()\n",
    "hparams.feature_path = 'feature5'\n",
    "hparams.batch_size = 30\n",
    "hparams.learning_rate= 1e-5"
   ]
  },
  {
   "cell_type": "code",
   "execution_count": 13,
   "metadata": {},
   "outputs": [
    {
     "name": "stdout",
     "output_type": "stream",
     "text": [
      "Training on GPU:0\n",
      "[Epoch 10/100] [Train Loss: 0.9782] [Train Acc: 0.8286] [Valid Loss: 1.1746] [Valid Acc: 0.6687]\n",
      "[Epoch 20/100] [Train Loss: 0.4047] [Train Acc: 0.9362] [Valid Loss: 0.8157] [Valid Acc: 0.7562]\n",
      "[Epoch 30/100] [Train Loss: 0.1894] [Train Acc: 0.9723] [Valid Loss: 0.6627] [Valid Acc: 0.8000]\n",
      "Epoch    34: reducing learning rate of group 0 to 2.0000e-06.\n",
      "Epoch    39: reducing learning rate of group 0 to 4.0000e-07.\n",
      "[Epoch 40/100] [Train Loss: 0.1204] [Train Acc: 0.9848] [Valid Loss: 0.6402] [Valid Acc: 0.8125]\n",
      "Epoch    43: reducing learning rate of group 0 to 8.0000e-08.\n",
      "[Epoch 50/100] [Train Loss: 0.1183] [Train Acc: 0.9842] [Valid Loss: 0.6801] [Valid Acc: 0.7688]\n",
      "Epoch    50: reducing learning rate of group 0 to 1.6000e-08.\n",
      "Epoch    54: reducing learning rate of group 0 to 3.2000e-09.\n",
      "[Epoch 60/100] [Train Loss: 0.1167] [Train Acc: 0.9840] [Valid Loss: 0.6431] [Valid Acc: 0.8000]\n",
      "[Epoch 70/100] [Train Loss: 0.1174] [Train Acc: 0.9849] [Valid Loss: 0.6314] [Valid Acc: 0.7937]\n",
      "[Epoch 80/100] [Train Loss: 0.1153] [Train Acc: 0.9872] [Valid Loss: 0.6420] [Valid Acc: 0.8063]\n",
      "[Epoch 90/100] [Train Loss: 0.1146] [Train Acc: 0.9871] [Valid Loss: 0.6321] [Valid Acc: 0.8063]\n",
      "[Epoch 100/100] [Train Loss: 0.1137] [Train Acc: 0.9867] [Valid Loss: 0.6501] [Valid Acc: 0.8000]\n",
      "Training Finished\n",
      "Test Accuracy: 82.50%\n"
     ]
    },
    {
     "data": {
      "image/png": "[encoded data removed]",
      "text/plain": [
       "<Figure size 432x288 with 1 Axes>"
      ]
     },
     "metadata": {
      "needs_background": "light"
     },
     "output_type": "display_data"
    }
   ],
   "source": [
    "main()"
   ]
  },
  {
   "cell_type": "code",
   "execution_count": 42,
   "metadata": {},
   "outputs": [],
   "source": [
    "torch.cuda.empty_cache()"
   ]
  },
  {
   "cell_type": "code",
   "execution_count": 43,
   "metadata": {},
   "outputs": [
    {
     "name": "stdout",
     "output_type": "stream",
     "text": [
      "Training on GPU:0\n",
      "[Epoch 10/100] [Train Loss: 0.9757] [Train Acc: 0.8262] [Valid Loss: 1.1628] [Valid Acc: 0.6687]\n",
      "[Epoch 20/100] [Train Loss: 0.4038] [Train Acc: 0.9345] [Valid Loss: 0.8031] [Valid Acc: 0.7562]\n",
      "[Epoch 30/100] [Train Loss: 0.1891] [Train Acc: 0.9721] [Valid Loss: 0.6468] [Valid Acc: 0.8125]\n",
      "[Epoch 40/100] [Train Loss: 0.0995] [Train Acc: 0.9859] [Valid Loss: 0.6643] [Valid Acc: 0.8187]\n",
      "[Epoch 50/100] [Train Loss: 0.0597] [Train Acc: 0.9914] [Valid Loss: 0.6961] [Valid Acc: 0.7688]\n",
      "[Epoch 60/100] [Train Loss: 0.0351] [Train Acc: 0.9954] [Valid Loss: 0.6477] [Valid Acc: 0.8187]\n",
      "[Epoch 70/100] [Train Loss: 0.0261] [Train Acc: 0.9953] [Valid Loss: 0.7098] [Valid Acc: 0.7937]\n",
      "[Epoch 80/100] [Train Loss: 0.0170] [Train Acc: 0.9979] [Valid Loss: 0.6707] [Valid Acc: 0.8000]\n",
      "[Epoch 90/100] [Train Loss: 0.0119] [Train Acc: 0.9986] [Valid Loss: 0.7739] [Valid Acc: 0.7750]\n",
      "[Epoch 100/100] [Train Loss: 0.0085] [Train Acc: 0.9990] [Valid Loss: 0.7937] [Valid Acc: 0.7875]\n",
      "Training Finished\n",
      "Test Accuracy: 82.50%\n"
     ]
    },
    {
     "data": {
      "image/png": "[encoded data removed]",
      "text/plain": [
       "<Figure size 432x288 with 1 Axes>"
      ]
     },
     "metadata": {
      "needs_background": "light"
     },
     "output_type": "display_data"
    }
   ],
   "source": [
    "main()"
   ]
  },
  {
   "cell_type": "code",
   "execution_count": 38,
   "metadata": {},
   "outputs": [
    {
     "data": {
      "text/plain": [
       "0"
      ]
     },
     "execution_count": 38,
     "metadata": {},
     "output_type": "execute_result"
    }
   ],
   "source": [
    "torch.cuda.max_memory_allocated()"
   ]
  },
  {
   "cell_type": "code",
   "execution_count": 32,
   "metadata": {},
   "outputs": [
    {
     "data": {
      "text/plain": [
       "0"
      ]
     },
     "execution_count": 32,
     "metadata": {},
     "output_type": "execute_result"
    }
   ],
   "source": [
    "torch.cuda.memory_allocated()"
   ]
  },
  {
   "cell_type": "code",
   "execution_count": 33,
   "metadata": {},
   "outputs": [
    {
     "data": {
      "text/plain": [
       "0"
      ]
     },
     "execution_count": 33,
     "metadata": {},
     "output_type": "execute_result"
    }
   ],
   "source": [
    "torch.cuda.memory_cached()"
   ]
  },
  {
   "cell_type": "code",
   "execution_count": 34,
   "metadata": {},
   "outputs": [
    {
     "data": {
      "text/plain": [
       "0"
      ]
     },
     "execution_count": 34,
     "metadata": {},
     "output_type": "execute_result"
    }
   ],
   "source": [
    "torch.cuda.max_memory_cached()"
   ]
  },
  {
   "cell_type": "code",
   "execution_count": 31,
   "metadata": {},
   "outputs": [],
   "source": [
    "torch.backends.cuda.cufft_plan_cache.clear()"
   ]
  },
  {
   "cell_type": "code",
   "execution_count": 6,
   "metadata": {},
   "outputs": [],
   "source": [
    "\n",
    "class Baseline(nn.Module):\n",
    "    def __init__(self, hparams):\n",
    "        super(Baseline, self).__init__()\n",
    "        \n",
    "        self.conv0 = nn.Sequential(\n",
    "        nn.Conv1d(hparams.num_mels, 64, kernel_size=8, stride=1, padding=1),\n",
    "        nn.BatchNorm1d(64),\n",
    "        nn.ReLU(),\n",
    "        nn.MaxPool1d(4, stride=4)\n",
    "        )\n",
    "\n",
    "        self.conv1 = nn.Sequential(\n",
    "        nn.Conv1d(64, 128, kernel_size=4, stride=1, padding=1),\n",
    "        nn.ReLU(),\n",
    "        torch.nn.Dropout(p=0.3, inplace=False),\n",
    "        nn.MaxPool1d(4, stride=4)\n",
    "        \n",
    "        )\n",
    "        #Res 1\n",
    "        self.block0 = nn.Sequential(\n",
    "        nn.Conv1d(128,128, kernel_size=4, stride=1, padding=1),\n",
    "        nn.BatchNorm1d(128),\n",
    "        nn.ReLU(),\n",
    "        nn.MaxPool1d(16, stride=16)\n",
    "        )\n",
    "\n",
    "        #분할하여 다르게 처리\n",
    "        self.conv2_1 = nn.Sequential(\n",
    "        nn.Conv1d(128, 128, kernel_size=8, stride=1, padding=1),\n",
    "        nn.Dropout(p=0.3, inplace=False),\n",
    "        nn.ReLU(),\n",
    "        nn.MaxPool1d(4, stride=4)\n",
    "        )\n",
    "        \n",
    "        self.conv2_2 = nn.Sequential(\n",
    "        nn.Conv1d(128, 128, kernel_size=8, stride=1, padding=1),\n",
    "        nn.BatchNorm1d(128),\n",
    "        nn.ReLU(),\n",
    "        nn.AvgPool1d(4, stride=4)\n",
    "        )\n",
    "        \n",
    "        \n",
    "         \n",
    "        self.conv3 = nn.Sequential(\n",
    "        nn.Conv1d(256, 128, kernel_size=4, stride=1, padding=2),\n",
    "        nn.BatchNorm1d(128),\n",
    "        nn.ReLU(),\n",
    "        nn.MaxPool1d(4, stride=4)\n",
    "        )\n",
    "        \n",
    "        \n",
    "        ## ResNet2\n",
    "        self.block1 = nn.Sequential(\n",
    "        nn.Conv1d(128,128, kernel_size=8, stride=2, padding=1),\n",
    "        nn.BatchNorm1d(128),\n",
    "        nn.ReLU(),\n",
    "        nn.MaxPool1d(8, stride=8),\n",
    "        nn.Conv1d(128,128, kernel_size=8, stride=2, padding=1),\n",
    "        nn.BatchNorm1d(128),\n",
    "        nn.ReLU(),\n",
    "        nn.MaxPool1d(8, stride=8)\n",
    "        )\n",
    "        \n",
    "\n",
    "        self.linear0 = nn.Sequential(\n",
    "        nn.Dropout(p=0.4, inplace=False),\n",
    "        nn.Linear(128*14, 117),\n",
    "        nn.Dropout(p=0.4, inplace=False),\n",
    "        nn.ReLU(),\n",
    "        nn.Linear(117, len(hparams.genres))\n",
    "        )\n",
    "        \n",
    "\n",
    "    def forward(self, x):\n",
    "\n",
    "        x0 = x.transpose(1, 2)\n",
    "        x1 = self.block0(x0)\n",
    "        x2 = self.block1(x0)\n",
    "        x = self.conv0(x0)\n",
    "        x = self.conv1(x)\n",
    "        x = self.conv2_1(x)\n",
    "        #x = self.conv3(x)\n",
    "        #x = x+x2#Resnet 2  \n",
    "        #x = self.conv4(x)\n",
    "        x = x.view(x.size(0), x.size(1)*x.size(2))\n",
    "        x = self.linear0(x)\n",
    "\n",
    "        return x\n",
    "    "
   ]
  },
  {
   "cell_type": "code",
   "execution_count": 7,
   "metadata": {},
   "outputs": [],
   "source": [
    "torch.cuda.empty_cache()\n",
    "hparams.feature_path = 'feature5'\n",
    "hparams.batch_size = 40\n",
    "hparams.learning_rate= 5*1e-5"
   ]
  },
  {
   "cell_type": "code",
   "execution_count": 8,
   "metadata": {},
   "outputs": [
    {
     "name": "stdout",
     "output_type": "stream",
     "text": [
      "Training on GPU:0\n",
      "[Epoch 10/100] [Train Loss: 0.4210] [Train Acc: 0.8618] [Valid Loss: 0.9211] [Valid Acc: 0.7125]\n",
      "[Epoch 20/100] [Train Loss: 0.2449] [Train Acc: 0.9246] [Valid Loss: 0.7479] [Valid Acc: 0.7750]\n",
      "[Epoch 30/100] [Train Loss: 0.1727] [Train Acc: 0.9469] [Valid Loss: 0.7212] [Valid Acc: 0.7937]\n",
      "[Epoch 40/100] [Train Loss: 0.1182] [Train Acc: 0.9626] [Valid Loss: 0.6745] [Valid Acc: 0.7875]\n",
      "[Epoch 50/100] [Train Loss: 0.0943] [Train Acc: 0.9711] [Valid Loss: 0.7082] [Valid Acc: 0.7750]\n",
      "[Epoch 60/100] [Train Loss: 0.0693] [Train Acc: 0.9775] [Valid Loss: 0.6915] [Valid Acc: 0.7750]\n",
      "[Epoch 70/100] [Train Loss: 0.0551] [Train Acc: 0.9815] [Valid Loss: 0.7897] [Valid Acc: 0.7438]\n",
      "[Epoch 80/100] [Train Loss: 0.0446] [Train Acc: 0.9858] [Valid Loss: 0.6649] [Valid Acc: 0.8125]\n",
      "[Epoch 90/100] [Train Loss: 0.0410] [Train Acc: 0.9874] [Valid Loss: 0.7226] [Valid Acc: 0.8000]\n",
      "[Epoch 100/100] [Train Loss: 0.0320] [Train Acc: 0.9911] [Valid Loss: 0.7098] [Valid Acc: 0.8187]\n",
      "Training Finished\n",
      "Test Accuracy: 78.12%\n"
     ]
    },
    {
     "data": {
      "image/png": "[encoded data removed]",
      "text/plain": [
       "<Figure size 432x288 with 1 Axes>"
      ]
     },
     "metadata": {
      "needs_background": "light"
     },
     "output_type": "display_data"
    }
   ],
   "source": [
    "main()"
   ]
  },
  {
   "cell_type": "code",
   "execution_count": 9,
   "metadata": {},
   "outputs": [],
   "source": [
    "torch.cuda.empty_cache()\n",
    "hparams.feature_path = 'feature5'\n",
    "hparams.batch_size = 30\n",
    "hparams.learning_rate= 2*1e-5"
   ]
  },
  {
   "cell_type": "code",
   "execution_count": 11,
   "metadata": {},
   "outputs": [
    {
     "name": "stdout",
     "output_type": "stream",
     "text": [
      "Training on GPU:0\n",
      "[Epoch 10/100] [Train Loss: 0.6182] [Train Acc: 0.7983] [Valid Loss: 1.0345] [Valid Acc: 0.6500]\n",
      "[Epoch 20/100] [Train Loss: 0.4136] [Train Acc: 0.8646] [Valid Loss: 0.9419] [Valid Acc: 0.7000]\n",
      "[Epoch 30/100] [Train Loss: 0.3119] [Train Acc: 0.8997] [Valid Loss: 0.8251] [Valid Acc: 0.7750]\n",
      "[Epoch 40/100] [Train Loss: 0.2351] [Train Acc: 0.9288] [Valid Loss: 0.7699] [Valid Acc: 0.7500]\n",
      "[Epoch 50/100] [Train Loss: 0.1916] [Train Acc: 0.9375] [Valid Loss: 0.7175] [Valid Acc: 0.7625]\n",
      "[Epoch 60/100] [Train Loss: 0.1570] [Train Acc: 0.9492] [Valid Loss: 0.7229] [Valid Acc: 0.7438]\n",
      "[Epoch 70/100] [Train Loss: 0.1316] [Train Acc: 0.9594] [Valid Loss: 0.7009] [Valid Acc: 0.7812]\n",
      "[Epoch 80/100] [Train Loss: 0.1057] [Train Acc: 0.9654] [Valid Loss: 0.6882] [Valid Acc: 0.7625]\n",
      "[Epoch 90/100] [Train Loss: 0.0948] [Train Acc: 0.9701] [Valid Loss: 0.6412] [Valid Acc: 0.8125]\n",
      "[Epoch 100/100] [Train Loss: 0.0845] [Train Acc: 0.9714] [Valid Loss: 0.6404] [Valid Acc: 0.8000]\n",
      "Training Finished\n",
      "Test Accuracy: 75.00%\n"
     ]
    },
    {
     "data": {
      "image/png": "[encoded data removed]",
      "text/plain": [
       "<Figure size 432x288 with 1 Axes>"
      ]
     },
     "metadata": {
      "needs_background": "light"
     },
     "output_type": "display_data"
    }
   ],
   "source": [
    "main()"
   ]
  },
  {
   "cell_type": "code",
   "execution_count": 13,
   "metadata": {},
   "outputs": [],
   "source": [
    "hparams.batch_size = 30\n",
    "hparams.learning_rate= 8*1e-6"
   ]
  },
  {
   "cell_type": "code",
   "execution_count": 14,
   "metadata": {},
   "outputs": [],
   "source": [
    "torch.cuda.empty_cache()"
   ]
  },
  {
   "cell_type": "code",
   "execution_count": 15,
   "metadata": {},
   "outputs": [
    {
     "name": "stdout",
     "output_type": "stream",
     "text": [
      "Training on GPU:0\n",
      "[Epoch 10/100] [Train Loss: 0.8727] [Train Acc: 0.7010] [Valid Loss: 1.2192] [Valid Acc: 0.6125]\n",
      "[Epoch 20/100] [Train Loss: 0.6527] [Train Acc: 0.7803] [Valid Loss: 1.1041] [Valid Acc: 0.6438]\n",
      "[Epoch 30/100] [Train Loss: 0.5498] [Train Acc: 0.8253] [Valid Loss: 1.0250] [Valid Acc: 0.6687]\n",
      "[Epoch 40/100] [Train Loss: 0.4703] [Train Acc: 0.8490] [Valid Loss: 0.9679] [Valid Acc: 0.7063]\n",
      "[Epoch 50/100] [Train Loss: 0.4086] [Train Acc: 0.8708] [Valid Loss: 0.9211] [Valid Acc: 0.7063]\n",
      "[Epoch 60/100] [Train Loss: 0.3558] [Train Acc: 0.8871] [Valid Loss: 0.8533] [Valid Acc: 0.7188]\n",
      "[Epoch 70/100] [Train Loss: 0.3127] [Train Acc: 0.8995] [Valid Loss: 0.7846] [Valid Acc: 0.7562]\n",
      "Epoch    75: reducing learning rate of group 0 to 1.6000e-06.\n",
      "[Epoch 80/100] [Train Loss: 0.2801] [Train Acc: 0.9108] [Valid Loss: 0.7744] [Valid Acc: 0.7562]\n",
      "Epoch    80: reducing learning rate of group 0 to 3.2000e-07.\n",
      "Epoch    84: reducing learning rate of group 0 to 6.4000e-08.\n",
      "Epoch    88: reducing learning rate of group 0 to 1.2800e-08.\n",
      "[Epoch 90/100] [Train Loss: 0.2803] [Train Acc: 0.9107] [Valid Loss: 0.7719] [Valid Acc: 0.7625]\n",
      "Epoch    92: reducing learning rate of group 0 to 2.5600e-09.\n",
      "[Epoch 100/100] [Train Loss: 0.2720] [Train Acc: 0.9172] [Valid Loss: 0.7763] [Valid Acc: 0.7625]\n",
      "Training Finished\n",
      "Test Accuracy: 74.38%\n"
     ]
    },
    {
     "data": {
      "image/png": "[encoded data removed]",
      "text/plain": [
       "<Figure size 432x288 with 1 Axes>"
      ]
     },
     "metadata": {
      "needs_background": "light"
     },
     "output_type": "display_data"
    }
   ],
   "source": [
    "main()"
   ]
  },
  {
   "cell_type": "code",
   "execution_count": 16,
   "metadata": {},
   "outputs": [],
   "source": [
    "torch.cuda.empty_cache()"
   ]
  },
  {
   "cell_type": "code",
   "execution_count": 18,
   "metadata": {},
   "outputs": [],
   "source": [
    "class Baseline(nn.Module):\n",
    "    def __init__(self, hparams):\n",
    "        super(Baseline, self).__init__()\n",
    "        self._initialize_weights()\n",
    "        \n",
    "        self.conv0 = nn.Sequential(\n",
    "        nn.Conv1d(hparams.num_mels, 64, kernel_size=8, stride=1, padding=1),\n",
    "        nn.BatchNorm1d(64),\n",
    "        nn.ReLU(),\n",
    "        nn.MaxPool1d(4, stride=4)\n",
    "        )\n",
    "\n",
    "        self.conv1 = nn.Sequential(\n",
    "        nn.Conv1d(64, 128, kernel_size=4, stride=1, padding=1),\n",
    "        nn.ReLU(),\n",
    "        torch.nn.Dropout(p=0.3, inplace=False),\n",
    "        nn.MaxPool1d(4, stride=4)\n",
    "        \n",
    "        )\n",
    "        #Res 1\n",
    "        self.block0 = nn.Sequential(\n",
    "        nn.Conv1d(128,128, kernel_size=4, stride=1, padding=1),\n",
    "        nn.BatchNorm1d(128),\n",
    "        nn.ReLU(),\n",
    "        nn.MaxPool1d(16, stride=16)\n",
    "        )\n",
    "\n",
    "        #분할하여 다르게 처리\n",
    "        self.conv2_1 = nn.Sequential(\n",
    "        nn.Conv1d(128, 128, kernel_size=8, stride=1, padding=1),\n",
    "        nn.Dropout(p=0.3, inplace=False),\n",
    "        nn.ReLU(),\n",
    "        nn.MaxPool1d(4, stride=4)\n",
    "        )\n",
    "        \n",
    "        self.conv2_2 = nn.Sequential(\n",
    "        nn.Conv1d(128, 128, kernel_size=8, stride=1, padding=1),\n",
    "        nn.BatchNorm1d(128),\n",
    "        nn.ReLU(),\n",
    "        nn.AvgPool1d(4, stride=4)\n",
    "        )\n",
    "        \n",
    "        \n",
    "         \n",
    "        self.conv3 = nn.Sequential(\n",
    "        nn.Conv1d(256, 128, kernel_size=4, stride=1, padding=2),\n",
    "        nn.BatchNorm1d(128),\n",
    "        nn.ReLU(),\n",
    "        nn.MaxPool1d(4, stride=4)\n",
    "        )\n",
    "        \n",
    "        \n",
    "        ## ResNet2\n",
    "        self.block1 = nn.Sequential(\n",
    "        nn.Conv1d(128,128, kernel_size=8, stride=2, padding=1),\n",
    "        nn.BatchNorm1d(128),\n",
    "        nn.ReLU(),\n",
    "        nn.MaxPool1d(8, stride=8),\n",
    "        nn.Conv1d(128,128, kernel_size=8, stride=2, padding=1),\n",
    "        nn.BatchNorm1d(128),\n",
    "        nn.ReLU(),\n",
    "        nn.MaxPool1d(8, stride=8)\n",
    "        )\n",
    "        \n",
    "\n",
    "        self.linear0 = nn.Sequential(\n",
    "        nn.Dropout(p=0.4, inplace=False),\n",
    "        nn.Linear(128*14, 117),\n",
    "        nn.Dropout(p=0.4, inplace=False),\n",
    "        nn.ReLU(),\n",
    "        nn.Linear(117, len(hparams.genres))\n",
    "        )\n",
    "        \n",
    "\n",
    "    def forward(self, x):\n",
    "\n",
    "        x0 = x.transpose(1, 2)\n",
    "        x1 = self.block0(x0)\n",
    "        x2 = self.block1(x0)\n",
    "        x = self.conv0(x0)\n",
    "        x = self.conv1(x)\n",
    "        x = self.conv2_1(x)\n",
    "        #x = self.conv3(x)\n",
    "        #x = x+x2#Resnet 2  \n",
    "        #x = self.conv4(x)\n",
    "        x = x.view(x.size(0), x.size(1)*x.size(2))\n",
    "        x = self.linear0(x)\n",
    "\n",
    "        return x\n",
    "    \n",
    "    def _initialize_weights(self):\n",
    "        for m in self.modules():\n",
    "            if isinstance(m, nn.Conv1d):\n",
    "                init.kaiming_normal(m.weight)\n",
    "                if m.bias is not None:\n",
    "                    init.constant(m.bias, 0)\n",
    "            elif isinstance(m, nn.BatchNorm1d):\n",
    "                init.constant(m.weight, 1)\n",
    "                init.constant(m.bias, 0)\n",
    "            elif isinstance(m, nn.Linear):\n",
    "                init.normal(m.weight, std=1e-3)\n",
    "                if m.bias is not None:\n",
    "                    init.constant(m.bias, 0)\n",
    "                    \n"
   ]
  },
  {
   "cell_type": "code",
   "execution_count": 19,
   "metadata": {},
   "outputs": [],
   "source": [
    "hparams.learning_rate= 1e-5"
   ]
  },
  {
   "cell_type": "code",
   "execution_count": 20,
   "metadata": {},
   "outputs": [
    {
     "name": "stdout",
     "output_type": "stream",
     "text": [
      "Training on GPU:0\n",
      "[Epoch 10/100] [Train Loss: 0.7779] [Train Acc: 0.7355] [Valid Loss: 1.1770] [Valid Acc: 0.6250]\n",
      "[Epoch 20/100] [Train Loss: 0.5646] [Train Acc: 0.8221] [Valid Loss: 1.0263] [Valid Acc: 0.6750]\n",
      "[Epoch 30/100] [Train Loss: 0.4564] [Train Acc: 0.8542] [Valid Loss: 0.9270] [Valid Acc: 0.7375]\n",
      "[Epoch 40/100] [Train Loss: 0.3663] [Train Acc: 0.8818] [Valid Loss: 0.8597] [Valid Acc: 0.7000]\n",
      "Epoch    47: reducing learning rate of group 0 to 2.0000e-06.\n",
      "[Epoch 50/100] [Train Loss: 0.3177] [Train Acc: 0.8997] [Valid Loss: 0.8283] [Valid Acc: 0.7125]\n",
      "Epoch    53: reducing learning rate of group 0 to 4.0000e-07.\n",
      "Epoch    57: reducing learning rate of group 0 to 8.0000e-08.\n",
      "[Epoch 60/100] [Train Loss: 0.3063] [Train Acc: 0.8999] [Valid Loss: 0.8202] [Valid Acc: 0.7250]\n",
      "Epoch    62: reducing learning rate of group 0 to 1.6000e-08.\n",
      "[Epoch 70/100] [Train Loss: 0.3027] [Train Acc: 0.9039] [Valid Loss: 0.8245] [Valid Acc: 0.7188]\n",
      "Epoch    71: reducing learning rate of group 0 to 3.2000e-09.\n",
      "[Epoch 80/100] [Train Loss: 0.3077] [Train Acc: 0.9010] [Valid Loss: 0.8211] [Valid Acc: 0.7250]\n",
      "[Epoch 90/100] [Train Loss: 0.3013] [Train Acc: 0.9042] [Valid Loss: 0.8150] [Valid Acc: 0.7312]\n",
      "[Epoch 100/100] [Train Loss: 0.3187] [Train Acc: 0.8966] [Valid Loss: 0.8306] [Valid Acc: 0.7250]\n",
      "Training Finished\n",
      "Test Accuracy: 72.50%\n"
     ]
    },
    {
     "data": {
      "image/png": "[encoded data removed]",
      "text/plain": [
       "<Figure size 432x288 with 1 Axes>"
      ]
     },
     "metadata": {
      "needs_background": "light"
     },
     "output_type": "display_data"
    }
   ],
   "source": [
    "main()"
   ]
  },
  {
   "cell_type": "code",
   "execution_count": 21,
   "metadata": {},
   "outputs": [],
   "source": [
    "torch.cuda.empty_cache()\n",
    "hparams.learning_rate= 3*1e-6"
   ]
  },
  {
   "cell_type": "code",
   "execution_count": 22,
   "metadata": {},
   "outputs": [
    {
     "name": "stdout",
     "output_type": "stream",
     "text": [
      "Training on GPU:0\n",
      "[Epoch 10/100] [Train Loss: 1.4896] [Train Acc: 0.4805] [Valid Loss: 1.6017] [Valid Acc: 0.4938]\n",
      "[Epoch 20/100] [Train Loss: 1.0277] [Train Acc: 0.6470] [Valid Loss: 1.2920] [Valid Acc: 0.6188]\n",
      "[Epoch 30/100] [Train Loss: 0.8470] [Train Acc: 0.7156] [Valid Loss: 1.1657] [Valid Acc: 0.6250]\n",
      "[Epoch 40/100] [Train Loss: 0.7552] [Train Acc: 0.7534] [Valid Loss: 1.1226] [Valid Acc: 0.6312]\n",
      "[Epoch 50/100] [Train Loss: 0.6792] [Train Acc: 0.7796] [Valid Loss: 1.0612] [Valid Acc: 0.6562]\n",
      "Epoch    56: reducing learning rate of group 0 to 6.0000e-07.\n",
      "[Epoch 60/100] [Train Loss: 0.6297] [Train Acc: 0.7940] [Valid Loss: 1.0301] [Valid Acc: 0.6500]\n",
      "Epoch    61: reducing learning rate of group 0 to 1.2000e-07.\n",
      "Epoch    65: reducing learning rate of group 0 to 2.4000e-08.\n",
      "[Epoch 70/100] [Train Loss: 0.6238] [Train Acc: 0.8034] [Valid Loss: 1.0325] [Valid Acc: 0.6750]\n",
      "Epoch    77: reducing learning rate of group 0 to 4.8000e-09.\n",
      "[Epoch 80/100] [Train Loss: 0.6250] [Train Acc: 0.8016] [Valid Loss: 1.0289] [Valid Acc: 0.6625]\n",
      "[Epoch 90/100] [Train Loss: 0.6301] [Train Acc: 0.7960] [Valid Loss: 1.0345] [Valid Acc: 0.6562]\n",
      "[Epoch 100/100] [Train Loss: 0.6303] [Train Acc: 0.7971] [Valid Loss: 1.0375] [Valid Acc: 0.6500]\n",
      "Training Finished\n",
      "Test Accuracy: 65.00%\n"
     ]
    },
    {
     "data": {
      "image/png": "[encoded data removed]",
      "text/plain": [
       "<Figure size 432x288 with 1 Axes>"
      ]
     },
     "metadata": {
      "needs_background": "light"
     },
     "output_type": "display_data"
    }
   ],
   "source": [
    "main()"
   ]
  },
  {
   "cell_type": "code",
   "execution_count": 36,
   "metadata": {},
   "outputs": [],
   "source": [
    "torch.cuda.empty_cache()\n",
    "hparams.feature_path = 'feature5'\n",
    "hparams.batch_size = 30\n",
    "hparams.learning_rate= 5*1e-5"
   ]
  },
  {
   "cell_type": "code",
   "execution_count": 37,
   "metadata": {},
   "outputs": [
    {
     "ename": "MemoryError",
     "evalue": "",
     "output_type": "error",
     "traceback": [
      "\u001b[1;31m---------------------------------------------------------------------------\u001b[0m",
      "\u001b[1;31mMemoryError\u001b[0m                               Traceback (most recent call last)",
      "\u001b[1;32m<ipython-input-37-263240bbee7e>\u001b[0m in \u001b[0;36m<module>\u001b[1;34m\u001b[0m\n\u001b[1;32m----> 1\u001b[1;33m \u001b[0mmain\u001b[0m\u001b[1;33m(\u001b[0m\u001b[1;33m)\u001b[0m\u001b[1;33m\u001b[0m\u001b[1;33m\u001b[0m\u001b[0m\n\u001b[0m",
      "\u001b[1;32m<ipython-input-34-b3e45285f34a>\u001b[0m in \u001b[0;36mmain\u001b[1;34m()\u001b[0m\n\u001b[0;32m     93\u001b[0m \u001b[1;33m\u001b[0m\u001b[0m\n\u001b[0;32m     94\u001b[0m \u001b[1;32mdef\u001b[0m \u001b[0mmain\u001b[0m\u001b[1;33m(\u001b[0m\u001b[1;33m)\u001b[0m\u001b[1;33m:\u001b[0m\u001b[1;33m\u001b[0m\u001b[1;33m\u001b[0m\u001b[0m\n\u001b[1;32m---> 95\u001b[1;33m     \u001b[0mtrain_loader\u001b[0m\u001b[1;33m,\u001b[0m \u001b[0mvalid_loader\u001b[0m\u001b[1;33m,\u001b[0m \u001b[0mtest_loader\u001b[0m \u001b[1;33m=\u001b[0m \u001b[0mget_dataloader\u001b[0m\u001b[1;33m(\u001b[0m\u001b[0mhparams\u001b[0m\u001b[1;33m)\u001b[0m\u001b[1;33m\u001b[0m\u001b[1;33m\u001b[0m\u001b[0m\n\u001b[0m\u001b[0;32m     96\u001b[0m     \u001b[0mrunner\u001b[0m \u001b[1;33m=\u001b[0m \u001b[0mRunner\u001b[0m\u001b[1;33m(\u001b[0m\u001b[0mhparams\u001b[0m\u001b[1;33m)\u001b[0m\u001b[1;33m\u001b[0m\u001b[1;33m\u001b[0m\u001b[0m\n\u001b[0;32m     97\u001b[0m     \u001b[0mval_loss_ls\u001b[0m \u001b[1;33m=\u001b[0m\u001b[1;33m[\u001b[0m\u001b[1;33m]\u001b[0m\u001b[1;33m\u001b[0m\u001b[1;33m\u001b[0m\u001b[0m\n",
      "\u001b[1;32m<ipython-input-33-524c96e25175>\u001b[0m in \u001b[0;36mget_dataloader\u001b[1;34m(hparams)\u001b[0m\n\u001b[0;32m     39\u001b[0m \u001b[1;33m\u001b[0m\u001b[0m\n\u001b[0;32m     40\u001b[0m \u001b[1;32mdef\u001b[0m \u001b[0mget_dataloader\u001b[0m\u001b[1;33m(\u001b[0m\u001b[0mhparams\u001b[0m\u001b[1;33m)\u001b[0m\u001b[1;33m:\u001b[0m\u001b[1;33m\u001b[0m\u001b[1;33m\u001b[0m\u001b[0m\n\u001b[1;32m---> 41\u001b[1;33m     \u001b[0mx_train\u001b[0m\u001b[1;33m,\u001b[0m \u001b[0my_train\u001b[0m \u001b[1;33m=\u001b[0m \u001b[0mload_dataset\u001b[0m\u001b[1;33m(\u001b[0m\u001b[1;34m'train'\u001b[0m\u001b[1;33m,\u001b[0m \u001b[0mhparams\u001b[0m\u001b[1;33m)\u001b[0m\u001b[1;33m\u001b[0m\u001b[1;33m\u001b[0m\u001b[0m\n\u001b[0m\u001b[0;32m     42\u001b[0m     \u001b[0mtorch\u001b[0m\u001b[1;33m.\u001b[0m\u001b[0mcuda\u001b[0m\u001b[1;33m.\u001b[0m\u001b[0mempty_cache\u001b[0m\u001b[1;33m(\u001b[0m\u001b[1;33m)\u001b[0m\u001b[1;33m\u001b[0m\u001b[1;33m\u001b[0m\u001b[0m\n\u001b[0;32m     43\u001b[0m     \u001b[0mx_valid\u001b[0m\u001b[1;33m,\u001b[0m \u001b[0my_valid\u001b[0m \u001b[1;33m=\u001b[0m \u001b[0mload_dataset\u001b[0m\u001b[1;33m(\u001b[0m\u001b[1;34m'valid'\u001b[0m\u001b[1;33m,\u001b[0m \u001b[0mhparams\u001b[0m\u001b[1;33m)\u001b[0m\u001b[1;33m\u001b[0m\u001b[1;33m\u001b[0m\u001b[0m\n",
      "\u001b[1;32m<ipython-input-33-524c96e25175>\u001b[0m in \u001b[0;36mload_dataset\u001b[1;34m(set_name, hparams)\u001b[0m\n\u001b[0;32m     33\u001b[0m             \u001b[0mtorch\u001b[0m\u001b[1;33m.\u001b[0m\u001b[0mcuda\u001b[0m\u001b[1;33m.\u001b[0m\u001b[0mempty_cache\u001b[0m\u001b[1;33m(\u001b[0m\u001b[1;33m)\u001b[0m\u001b[1;33m\u001b[0m\u001b[1;33m\u001b[0m\u001b[0m\n\u001b[0;32m     34\u001b[0m \u001b[1;33m\u001b[0m\u001b[0m\n\u001b[1;32m---> 35\u001b[1;33m     \u001b[0mx\u001b[0m \u001b[1;33m=\u001b[0m \u001b[0mnp\u001b[0m\u001b[1;33m.\u001b[0m\u001b[0mstack\u001b[0m\u001b[1;33m(\u001b[0m\u001b[0mx\u001b[0m\u001b[1;33m)\u001b[0m\u001b[1;33m\u001b[0m\u001b[1;33m\u001b[0m\u001b[0m\n\u001b[0m\u001b[0;32m     36\u001b[0m     \u001b[0my\u001b[0m \u001b[1;33m=\u001b[0m \u001b[0mnp\u001b[0m\u001b[1;33m.\u001b[0m\u001b[0mstack\u001b[0m\u001b[1;33m(\u001b[0m\u001b[0my\u001b[0m\u001b[1;33m)\u001b[0m\u001b[1;33m\u001b[0m\u001b[1;33m\u001b[0m\u001b[0m\n\u001b[0;32m     37\u001b[0m \u001b[1;33m\u001b[0m\u001b[0m\n",
      "\u001b[1;32mD:\\anaconda\\lib\\site-packages\\numpy\\core\\shape_base.py\u001b[0m in \u001b[0;36mstack\u001b[1;34m(arrays, axis, out)\u001b[0m\n\u001b[0;32m    421\u001b[0m     \u001b[0msl\u001b[0m \u001b[1;33m=\u001b[0m \u001b[1;33m(\u001b[0m\u001b[0mslice\u001b[0m\u001b[1;33m(\u001b[0m\u001b[1;32mNone\u001b[0m\u001b[1;33m)\u001b[0m\u001b[1;33m,\u001b[0m\u001b[1;33m)\u001b[0m \u001b[1;33m*\u001b[0m \u001b[0maxis\u001b[0m \u001b[1;33m+\u001b[0m \u001b[1;33m(\u001b[0m\u001b[0m_nx\u001b[0m\u001b[1;33m.\u001b[0m\u001b[0mnewaxis\u001b[0m\u001b[1;33m,\u001b[0m\u001b[1;33m)\u001b[0m\u001b[1;33m\u001b[0m\u001b[1;33m\u001b[0m\u001b[0m\n\u001b[0;32m    422\u001b[0m     \u001b[0mexpanded_arrays\u001b[0m \u001b[1;33m=\u001b[0m \u001b[1;33m[\u001b[0m\u001b[0marr\u001b[0m\u001b[1;33m[\u001b[0m\u001b[0msl\u001b[0m\u001b[1;33m]\u001b[0m \u001b[1;32mfor\u001b[0m \u001b[0marr\u001b[0m \u001b[1;32min\u001b[0m \u001b[0marrays\u001b[0m\u001b[1;33m]\u001b[0m\u001b[1;33m\u001b[0m\u001b[1;33m\u001b[0m\u001b[0m\n\u001b[1;32m--> 423\u001b[1;33m     \u001b[1;32mreturn\u001b[0m \u001b[0m_nx\u001b[0m\u001b[1;33m.\u001b[0m\u001b[0mconcatenate\u001b[0m\u001b[1;33m(\u001b[0m\u001b[0mexpanded_arrays\u001b[0m\u001b[1;33m,\u001b[0m \u001b[0maxis\u001b[0m\u001b[1;33m=\u001b[0m\u001b[0maxis\u001b[0m\u001b[1;33m,\u001b[0m \u001b[0mout\u001b[0m\u001b[1;33m=\u001b[0m\u001b[0mout\u001b[0m\u001b[1;33m)\u001b[0m\u001b[1;33m\u001b[0m\u001b[1;33m\u001b[0m\u001b[0m\n\u001b[0m\u001b[0;32m    424\u001b[0m \u001b[1;33m\u001b[0m\u001b[0m\n\u001b[0;32m    425\u001b[0m \u001b[1;33m\u001b[0m\u001b[0m\n",
      "\u001b[1;31mMemoryError\u001b[0m: "
     ]
    }
   ],
   "source": [
    "main()"
   ]
  },
  {
   "cell_type": "markdown",
   "metadata": {},
   "source": []
  }
 ],
 "metadata": {
  "kernelspec": {
   "display_name": "Python 3",
   "language": "python",
   "name": "python3"
  },
  "language_info": {
   "codemirror_mode": {
    "name": "ipython",
    "version": 3
   },
   "file_extension": ".py",
   "mimetype": "text/x-python",
   "name": "python",
   "nbconvert_exporter": "python",
   "pygments_lexer": "ipython3",
   "version": "3.7.3"
  }
 },
 "nbformat": 4,
 "nbformat_minor": 2
}
