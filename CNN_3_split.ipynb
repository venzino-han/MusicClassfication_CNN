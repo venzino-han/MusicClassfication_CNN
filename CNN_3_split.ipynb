{
 "cells": [
  {
   "cell_type": "code",
   "execution_count": 4,
   "metadata": {},
   "outputs": [],
   "source": [
    "# import argparse\n",
    "\n",
    "class HParams(object):\n",
    "\tdef __init__(self):\n",
    "\t\t# Dataset Settings\n",
    "\t\tself.dataset_path = 'd:/다운로드/gtzan'\n",
    "\t\tself.feature_path = 'feature5'\n",
    "\t\tself.genres = ['classical', 'country', 'disco', 'hiphop', 'jazz', 'metal', 'pop', 'reggae']\n",
    "\n",
    "\t\t# Feature Parameters\n",
    "\t\tself.sample_rate = 22050\n",
    "\t\tself.fft_size = 1024\n",
    "\t\tself.win_size = 1024\n",
    "\t\tself.hop_size = 512\n",
    "\t\tself.num_mels = 128\n",
    "\t\tself.feature_length = 1024  # audio length = feature_length*hop_size/sample_rate (s)\n",
    "\n",
    "\t\t# Training Parameters\n",
    "\t\tself.device = 1  # 0: CPU, 1: GPU0, 2: GPU1, ...\n",
    "\t\tself.batch_size = 20\n",
    "\t\tself.num_epochs = 100\n",
    "\t\tself.learning_rate = 3*1e-5\n",
    "\t\tself.stopping_rate = 1e-12\n",
    "\t\tself.weight_decay = 1e-6\n",
    "\t\tself.momentum = 0.9\n",
    "\t\tself.factor = 0.2\n",
    "\t\tself.patience = 3.\n",
    "\n",
    "hparams = HParams()"
   ]
  },
  {
   "cell_type": "code",
   "execution_count": 5,
   "metadata": {},
   "outputs": [],
   "source": [
    "import os\n",
    "import numpy as np\n",
    "from torch.utils.data import Dataset, DataLoader\n",
    "\n",
    "class GTZANDataset(Dataset):\n",
    "    def __init__(self, x, y):\n",
    "        self.x = x\n",
    "        self.y = y\n",
    "\n",
    "    def __getitem__(self, index):\n",
    "        return self.x[index], self.y[index]\n",
    "\n",
    "    def __len__(self):\n",
    "        return self.x.shape[0]\n",
    "\n",
    "# Function to get genre index for the give file\n",
    "def get_label(file_name, hparams):\n",
    "    genre = file_name.split('.')[0]\n",
    "    label = hparams.genres.index(genre)\n",
    "    return label\n",
    "\n",
    "def load_dataset(set_name, hparams, part=2): #part 1홀수만, part 0짝수만, part 2,3,4... 모두\n",
    "    x = []\n",
    "    y = []\n",
    "\n",
    "    dataset_path = os.path.join(hparams.feature_path, set_name)\n",
    "    \n",
    "    if part == 0 :\n",
    "        i=0\n",
    "        for root,dirs,files in os.walk(dataset_path):\n",
    "            for file in files:\n",
    "                if i==0:\n",
    "                    i+=1\n",
    "                else:\n",
    "                    data = np.load(os.path.join(root,file))\n",
    "                    label = get_label(file, hparams)\n",
    "                    x.append(data)\n",
    "                    y.append(label)\n",
    "    \n",
    "    elif part == 1 :\n",
    "        i=0\n",
    "        for root,dirs,files in os.walk(dataset_path):\n",
    "            for file in files:\n",
    "                if i==0:\n",
    "                    data = np.load(os.path.join(root,file))\n",
    "                    label = get_label(file, hparams)\n",
    "                    x.append(data)\n",
    "                    y.append(label)\n",
    "                    i+=1\n",
    "                else :\n",
    "                    i=0\n",
    "    else :\n",
    "        for root,dirs,files in os.walk(dataset_path):\n",
    "            for file in files:\n",
    "                data = np.load(os.path.join(root,file))\n",
    "                label = get_label(file, hparams)\n",
    "                x.append(data)\n",
    "                y.append(label)\n",
    "\n",
    "\n",
    "    x = np.stack(x)\n",
    "    y = np.stack(y)\n",
    "\n",
    "    return x,y\n",
    "\n"
   ]
  },
  {
   "cell_type": "code",
   "execution_count": 12,
   "metadata": {},
   "outputs": [
    {
     "data": {
      "text/plain": [
       "(80, 1024, 128)"
      ]
     },
     "execution_count": 12,
     "metadata": {},
     "output_type": "execute_result"
    }
   ],
   "source": [
    "load_dataset('valid', hparams, 1)[0].shape"
   ]
  },
  {
   "cell_type": "code",
   "execution_count": 4,
   "metadata": {},
   "outputs": [
    {
     "data": {
      "text/plain": [
       "(160, 1024, 128)"
      ]
     },
     "execution_count": 4,
     "metadata": {},
     "output_type": "execute_result"
    }
   ],
   "source": [
    "load_dataset('valid', hparams)[0].shape"
   ]
  },
  {
   "cell_type": "code",
   "execution_count": 17,
   "metadata": {},
   "outputs": [],
   "source": [
    "def get_valid_test_dataloader(hparams):\n",
    "    x_train, y_train = load_dataset('train', hparams, 1)\n",
    "    x_valid, y_valid = load_dataset('valid', hparams)\n",
    "    x_test, y_test = load_dataset('test', hparams)\n",
    "\n",
    "    mean = np.mean(x_valid)\n",
    "    std = np.std(x_valid)\n",
    "    x_train = (x_train - mean)/std\n",
    "    x_valid = (x_valid - mean)/std\n",
    "    x_test = (x_test - mean)/std\n",
    "\n",
    "    train_set = GTZANDataset(x_train, y_train)\n",
    "    vaild_set = GTZANDataset(x_valid, y_valid)\n",
    "    test_set = GTZANDataset(x_test, y_test)\n",
    "\n",
    "    train_loader = DataLoader(train_set, batch_size=hparams.batch_size, shuffle=True, drop_last=False)\n",
    "    valid_loader = DataLoader(vaild_set, batch_size=hparams.batch_size, shuffle=False, drop_last=False)\n",
    "    test_loader = DataLoader(test_set, batch_size=hparams.batch_size, shuffle=False, drop_last=False)\n",
    "\n",
    "    return train_loader, valid_loader, test_loader"
   ]
  },
  {
   "cell_type": "code",
   "execution_count": null,
   "metadata": {},
   "outputs": [],
   "source": [
    "def get_valid_test_dataloader(hparams):\n",
    "    x_valid, y_valid = load_dataset('valid', hparams)\n",
    "    x_test, y_test = load_dataset('test', hparams)\n",
    "\n",
    "    mean = np.mean(x_valid)\n",
    "    std = np.std(x_valid)\n",
    "    x_valid = (x_valid - mean)/std\n",
    "    x_test = (x_test - mean)/std\n",
    "\n",
    "    vaild_set = GTZANDataset(x_valid, y_valid)\n",
    "    test_set = GTZANDataset(x_test, y_test)\n",
    "\n",
    "    valid_loader = DataLoader(vaild_set, batch_size=hparams.batch_size, shuffle=False, drop_last=False)\n",
    "    test_loader = DataLoader(test_set, batch_size=hparams.batch_size, shuffle=False, drop_last=False)\n",
    "\n",
    "    return valid_loader, test_loader"
   ]
  },
  {
   "cell_type": "code",
   "execution_count": 6,
   "metadata": {},
   "outputs": [],
   "source": [
    "x_train1, y_train1 = load_dataset('train', hparams,1)"
   ]
  },
  {
   "cell_type": "code",
   "execution_count": 8,
   "metadata": {},
   "outputs": [],
   "source": [
    "import torch\n",
    "torch.cuda.empty_cache() "
   ]
  },
  {
   "cell_type": "code",
   "execution_count": 9,
   "metadata": {},
   "outputs": [],
   "source": [
    "x_train2, y_train2 = load_dataset('train', hparams,2)"
   ]
  },
  {
   "cell_type": "code",
   "execution_count": 10,
   "metadata": {},
   "outputs": [
    {
     "data": {
      "text/plain": [
       "(3840, 1024, 128)"
      ]
     },
     "execution_count": 10,
     "metadata": {},
     "output_type": "execute_result"
    }
   ],
   "source": [
    "x_train1.shape"
   ]
  },
  {
   "cell_type": "code",
   "execution_count": 12,
   "metadata": {},
   "outputs": [
    {
     "data": {
      "text/plain": [
       "(7680, 1024, 128)"
      ]
     },
     "execution_count": 12,
     "metadata": {},
     "output_type": "execute_result"
    }
   ],
   "source": [
    "x_train2.shape"
   ]
  },
  {
   "cell_type": "code",
   "execution_count": 18,
   "metadata": {},
   "outputs": [],
   "source": [
    "x_valid, y_valid = load_dataset('valid', hparams)\n",
    "x_test, y_test = load_dataset('test', hparams)"
   ]
  },
  {
   "cell_type": "code",
   "execution_count": 19,
   "metadata": {},
   "outputs": [],
   "source": [
    "mean = np.mean(x_valid)\n",
    "std = np.std(x_valid)\n",
    "x_valid1 = (x_valid - mean)/std\n",
    "x_test1 = (x_test - mean)/std"
   ]
  },
  {
   "cell_type": "code",
   "execution_count": 20,
   "metadata": {},
   "outputs": [
    {
     "name": "stdout",
     "output_type": "stream",
     "text": [
      "0.18346219 0.22429962\n"
     ]
    }
   ],
   "source": [
    "print(mean,std)"
   ]
  },
  {
   "cell_type": "code",
   "execution_count": 21,
   "metadata": {},
   "outputs": [
    {
     "data": {
      "text/plain": [
       "(0.18378183, 0.22642404)"
      ]
     },
     "execution_count": 21,
     "metadata": {},
     "output_type": "execute_result"
    }
   ],
   "source": [
    "np.mean(x_test),np.std(x_test)"
   ]
  },
  {
   "cell_type": "code",
   "execution_count": 23,
   "metadata": {},
   "outputs": [
    {
     "data": {
      "text/plain": [
       "array([[[-0.02365023,  0.4747217 ,  0.12502606, ..., -0.81216997,\n",
       "         -0.8121109 , -0.81203663],\n",
       "        [ 0.16711591,  0.7383559 ,  0.44936776, ..., -0.8177684 ,\n",
       "         -0.8177805 , -0.81778395],\n",
       "        [-0.0544921 ,  0.3997801 ,  0.6830997 , ..., -0.81776077,\n",
       "         -0.8178003 , -0.81778353],\n",
       "        ...,\n",
       "        [-0.5111277 , -0.67734456, -0.7066235 , ..., -0.81779426,\n",
       "         -0.81777304, -0.8177853 ],\n",
       "        [-0.43083227, -0.48608267, -0.6176315 , ..., -0.8177912 ,\n",
       "         -0.81779164, -0.8178385 ],\n",
       "        [-0.50620425, -0.66575384, -0.7546493 , ..., -0.81779706,\n",
       "         -0.8177804 , -0.8177574 ]],\n",
       "\n",
       "       [[ 1.1686407 ,  1.4975377 ,  1.7082962 , ..., -0.79947305,\n",
       "         -0.7999146 , -0.8001944 ],\n",
       "        [-0.39733228,  0.3581721 ,  2.144388  , ..., -0.8176981 ,\n",
       "         -0.81777656, -0.8178265 ],\n",
       "        [-0.18996601,  0.7580676 ,  2.089091  , ..., -0.8176981 ,\n",
       "         -0.8177939 , -0.8177847 ],\n",
       "        ...,\n",
       "        [ 0.8363309 ,  1.5139589 ,  1.427164  , ..., -0.81775427,\n",
       "         -0.81777364, -0.8177559 ],\n",
       "        [ 1.199987  ,  1.6177068 ,  0.99469405, ..., -0.8176238 ,\n",
       "         -0.8177837 , -0.817791  ],\n",
       "        [ 0.62310535,  1.4263262 ,  0.75680894, ..., -0.8174155 ,\n",
       "         -0.81776196, -0.8177604 ]],\n",
       "\n",
       "       [[-0.66400826, -0.60322785, -0.68431485, ..., -0.80767983,\n",
       "         -0.80788743, -0.80800575],\n",
       "        [-0.68358916, -0.7652626 , -0.6001672 , ..., -0.81777984,\n",
       "         -0.8178338 , -0.8178123 ],\n",
       "        [-0.41977862, -0.6401407 , -0.5467005 , ..., -0.8177253 ,\n",
       "         -0.817793  , -0.81778395],\n",
       "        ...,\n",
       "        [-0.34432396, -0.4145007 , -0.24668944, ..., -0.8177958 ,\n",
       "         -0.81778795, -0.8178218 ],\n",
       "        [-0.55058795, -0.43112624, -0.20509513, ..., -0.8177662 ,\n",
       "         -0.81779325, -0.8177819 ],\n",
       "        [-0.56899667, -0.47012934, -0.3409215 , ..., -0.817801  ,\n",
       "         -0.817826  , -0.8178085 ]],\n",
       "\n",
       "       ...,\n",
       "\n",
       "       [[ 3.6802359 ,  4.313373  ,  4.29099   , ..., -0.7940076 ,\n",
       "         -0.79277927, -0.7858622 ],\n",
       "        [ 1.0596551 ,  2.2396548 ,  2.7349694 , ..., -0.7995415 ,\n",
       "         -0.79571134, -0.7860976 ],\n",
       "        [ 0.2249365 ,  1.5994356 ,  2.420496  , ..., -0.7915335 ,\n",
       "         -0.79406023, -0.78725755],\n",
       "        ...,\n",
       "        [ 1.4522928 ,  2.5155807 ,  2.2879856 , ...,  1.7997394 ,\n",
       "          1.7047465 ,  1.9162686 ],\n",
       "        [ 1.8327162 ,  1.8454931 ,  1.212786  , ...,  2.5101755 ,\n",
       "          2.4203367 ,  2.8669684 ],\n",
       "        [ 1.3521309 ,  2.5351486 ,  1.9621509 , ...,  2.3238158 ,\n",
       "          2.1555345 ,  2.1960742 ]],\n",
       "\n",
       "       [[ 0.997836  ,  1.8587565 ,  2.347313  , ..., -0.47818443,\n",
       "         -0.4889111 , -0.53328955],\n",
       "        [ 0.743423  ,  2.5393293 ,  2.7254639 , ..., -0.6838453 ,\n",
       "         -0.7226987 , -0.7106169 ],\n",
       "        [ 0.04092392,  1.720691  ,  1.9991732 , ..., -0.73720926,\n",
       "         -0.73990685, -0.75189894],\n",
       "        ...,\n",
       "        [ 1.2005159 ,  2.5496788 ,  2.223641  , ...,  0.4146119 ,\n",
       "          0.52940327,  0.68692243],\n",
       "        [ 1.0518993 ,  2.5202384 ,  1.9041548 , ...,  0.58731127,\n",
       "          0.5113519 ,  0.7711562 ],\n",
       "        [ 1.2751697 ,  2.9281187 ,  2.4694571 , ..., -0.05073844,\n",
       "         -0.06023308, -0.2769187 ]],\n",
       "\n",
       "       [[ 0.6034985 ,  0.73921424, -0.01471869, ..., -0.81484973,\n",
       "         -0.8147029 , -0.81292033],\n",
       "        [ 0.19685523, -0.07328533, -0.500482  , ..., -0.81070447,\n",
       "         -0.8073399 , -0.8077793 ],\n",
       "        [ 0.17647521,  0.14721979, -0.14535493, ..., -0.8082587 ,\n",
       "         -0.8008399 , -0.8016959 ],\n",
       "        ...,\n",
       "        [ 0.25312027,  0.49536386,  0.58191884, ..., -0.73238647,\n",
       "         -0.66123754, -0.6681572 ],\n",
       "        [-0.20719147,  0.1812794 ,  0.6167367 , ..., -0.77642184,\n",
       "         -0.7753603 , -0.77432036],\n",
       "        [ 0.24523705,  0.26708677,  0.04321736, ..., -0.7869671 ,\n",
       "         -0.78712755, -0.7930095 ]]], dtype=float32)"
      ]
     },
     "execution_count": 23,
     "metadata": {},
     "output_type": "execute_result"
    }
   ],
   "source": []
  },
  {
   "cell_type": "code",
   "execution_count": 11,
   "metadata": {},
   "outputs": [
    {
     "ename": "ValueError",
     "evalue": "not enough values to unpack (expected 3, got 2)",
     "output_type": "error",
     "traceback": [
      "\u001b[1;31m---------------------------------------------------------------------------\u001b[0m",
      "\u001b[1;31mValueError\u001b[0m                                Traceback (most recent call last)",
      "\u001b[1;32m<ipython-input-11-6ece080433db>\u001b[0m in \u001b[0;36m<module>\u001b[1;34m\u001b[0m\n\u001b[1;32m----> 1\u001b[1;33m \u001b[0mtrain_loader\u001b[0m\u001b[1;33m,\u001b[0m \u001b[0mvalid_loader\u001b[0m\u001b[1;33m,\u001b[0m \u001b[0mtest_loader\u001b[0m \u001b[1;33m=\u001b[0m \u001b[0mget_dataloader\u001b[0m\u001b[1;33m(\u001b[0m\u001b[0mhparams\u001b[0m\u001b[1;33m)\u001b[0m\u001b[1;33m\u001b[0m\u001b[1;33m\u001b[0m\u001b[0m\n\u001b[0m",
      "\u001b[1;31mValueError\u001b[0m: not enough values to unpack (expected 3, got 2)"
     ]
    }
   ],
   "source": [
    "train_loader, valid_loader, test_loader = get_dataloader(hparams)"
   ]
  },
  {
   "cell_type": "code",
   "execution_count": 10,
   "metadata": {},
   "outputs": [
    {
     "data": {
      "text/plain": [
       "<torch.utils.data.dataloader.DataLoader at 0x1a24ae82358>"
      ]
     },
     "execution_count": 10,
     "metadata": {},
     "output_type": "execute_result"
    }
   ],
   "source": [
    "valid_loader, test_loader = get_valid_test_dataloader(hparams"
   ]
  },
  {
   "cell_type": "code",
   "execution_count": null,
   "metadata": {},
   "outputs": [],
   "source": [
    "'''\n",
    "train_test.py\n",
    "A file for training model for genre classification.\n",
    "Please check the device in hparams.py before you run this code.\n",
    "'''\n",
    "import torch\n",
    "import torch.nn as nn\n",
    "from torch.optim.lr_scheduler import ReduceLROnPlateau\n",
    "from matplotlib import pyplot as plt\n",
    "\n",
    "# import data_manager\n",
    "# import models\n",
    "# from hparams import hparams\n",
    "\n",
    "# Wrapper class to run PyTorch model\n",
    "class Runner(object):\n",
    "    def __init__(self, hparams):\n",
    "        self.model = Baseline(hparams)\n",
    "        self.criterion = nn.CrossEntropyLoss()\n",
    "        \n",
    "        #self.optimizer = torch.optim.Adam(self.model.parameters(), lr=hparams.learning_rate)\n",
    "        self.optimizer = torch.optim.SGD(self.model.parameters(), lr=hparams.learning_rate, momentum=hparams.momentum)\n",
    "        self.scheduler = ReduceLROnPlateau(self.optimizer, mode='min', factor=hparams.factor, patience=hparams.patience, verbose=True)\n",
    "        self.learning_rate = hparams.learning_rate\n",
    "        self.stopping_rate = hparams.stopping_rate\n",
    "        self.device = torch.device(\"cpu\")\n",
    "\n",
    "        if hparams.device > 0:\n",
    "            torch.cuda.set_device(hparams.device - 1)##\n",
    "            self.model.cuda(hparams.device - 1)\n",
    "            self.criterion.cuda(hparams.device - 1)\n",
    "            self.device = torch.device(\"cuda:\" + str(hparams.device - 1))\n",
    "            \n",
    "#         device = torch.device('cuda:0' if torch.cuda.is_available() else 'cpu')\n",
    "#         self.model = Baseline(hparams).to(device)\n",
    "#         if torch.cuda.device_count() > 1:\n",
    "#             print('\\n===> Training on GPU!')\n",
    "#             self.model = nn.DataParallel(net)\n",
    "\n",
    "    # Accuracy function works like loss function in PyTorch\n",
    "    def accuracy(self, source, target):\n",
    "        source = source.max(1)[1].long().cpu()\n",
    "        target = target.cpu()\n",
    "        correct = (source == target).sum().item()\n",
    "\n",
    "        return correct/float(source.size(0))\n",
    "\n",
    "    # Running model for train, test and validation. mode: 'train' for training, 'eval' for validation and test\n",
    "    def run(self, dataloader, mode='train'):\n",
    "        self.model.train() if mode is 'train' else self.model.eval()\n",
    "\n",
    "        epoch_loss = 0.0\n",
    "        epoch_acc = 0.0\n",
    "        \n",
    "        for batch, (x, y) in enumerate(dataloader):\n",
    "            x = x.to(self.device)\n",
    "            y = y.to(self.device).type(torch.long)\n",
    "            \n",
    "            #print(y)\n",
    "\n",
    "            prediction = self.model(x)\n",
    "            loss = self.criterion(prediction, y)\n",
    "            acc = self.accuracy(prediction, y)\n",
    "\n",
    "            if mode is 'train':\n",
    "                loss.backward()\n",
    "                self.optimizer.step()\n",
    "                self.optimizer.zero_grad()\n",
    "\n",
    "            epoch_loss += prediction.size(0)*loss.item()\n",
    "            epoch_acc += prediction.size(0)*acc\n",
    "\n",
    "        epoch_loss = epoch_loss/len(dataloader.dataset)\n",
    "        epoch_acc = epoch_acc/len(dataloader.dataset)\n",
    "\n",
    "        return epoch_loss, epoch_acc\n",
    "\n",
    "    # Early stopping function for given validation loss\n",
    "    def early_stop(self, loss, epoch):\n",
    "        self.scheduler.step(loss, epoch)\n",
    "        self.learning_rate = self.optimizer.param_groups[0]['lr']\n",
    "        stop = self.learning_rate < self.stopping_rate\n",
    "\n",
    "        return stop\n",
    "\n",
    "def device_name(device):\n",
    "    if device == 0:\n",
    "        device_name = 'CPU'\n",
    "    else:\n",
    "        device_name = 'GPU:' + str(device - 1)\n",
    "\n",
    "    return device_name\n",
    "\n",
    "def main_1():  # 4분할 하여 처리\n",
    "    runner = Runner(hparams)\n",
    "    val_loss_ls =[]\n",
    "    train_loss_ls =[]\n",
    "\n",
    "    print('Training on ' + device_name(hparams.device))\n",
    "    for epoch in range(25):\n",
    "        train_loss, train_acc = runner.run(train_loader, 'train')\n",
    "        valid_loss, valid_acc = runner.run(valid_loader, 'eval')\n",
    "        if((epoch+1)%10==0):\n",
    "            print(\"[Epoch %d/%d] [Train Loss: %.4f] [Train Acc: %.4f] [Valid Loss: %.4f] [Valid Acc: %.4f]\" %\n",
    "                  (epoch + 1, hparams.num_epochs, train_loss, train_acc, valid_loss, valid_acc))\n",
    "            \n",
    "        val_loss_ls.append(valid_loss)\n",
    "        train_loss_ls.append(train_loss)\n",
    "        \n",
    "        if runner.early_stop(valid_loss, epoch + 1):\n",
    "            break\n",
    "\n",
    "    test_loss, test_acc = runner.run(test_loader, 'eval')\n",
    "    print(\"Training Finished\")\n",
    "    print(\"Test Accuracy: %.2f%%\" % (100*test_acc))\n",
    "    \n",
    "    plt.plot(val_loss_ls,'r')\n",
    "    plt.plot(train_loss_ls,'b')\n",
    "    plt.show()\n",
    "    "
   ]
  },
  {
   "cell_type": "code",
   "execution_count": 14,
   "metadata": {},
   "outputs": [],
   "source": [
    "l = range(10,100)"
   ]
  },
  {
   "cell_type": "code",
   "execution_count": 15,
   "metadata": {},
   "outputs": [
    {
     "data": {
      "text/plain": [
       "range(10, 100)"
      ]
     },
     "execution_count": 15,
     "metadata": {},
     "output_type": "execute_result"
    }
   ],
   "source": [
    "l"
   ]
  },
  {
   "cell_type": "code",
   "execution_count": 16,
   "metadata": {},
   "outputs": [
    {
     "name": "stdout",
     "output_type": "stream",
     "text": [
      "10\n",
      "11\n",
      "12\n",
      "13\n",
      "14\n",
      "15\n",
      "16\n",
      "17\n",
      "18\n",
      "19\n",
      "20\n",
      "21\n",
      "22\n",
      "23\n",
      "24\n",
      "25\n",
      "26\n",
      "27\n",
      "28\n",
      "29\n",
      "30\n",
      "31\n",
      "32\n",
      "33\n",
      "34\n",
      "35\n",
      "36\n",
      "37\n",
      "38\n",
      "39\n",
      "40\n",
      "41\n",
      "42\n",
      "43\n",
      "44\n",
      "45\n",
      "46\n",
      "47\n",
      "48\n",
      "49\n",
      "50\n",
      "51\n",
      "52\n",
      "53\n",
      "54\n",
      "55\n",
      "56\n",
      "57\n",
      "58\n",
      "59\n",
      "60\n",
      "61\n",
      "62\n",
      "63\n",
      "64\n",
      "65\n",
      "66\n",
      "67\n",
      "68\n",
      "69\n",
      "70\n",
      "71\n",
      "72\n",
      "73\n",
      "74\n",
      "75\n",
      "76\n",
      "77\n",
      "78\n",
      "79\n",
      "80\n",
      "81\n",
      "82\n",
      "83\n",
      "84\n",
      "85\n",
      "86\n",
      "87\n",
      "88\n",
      "89\n",
      "90\n",
      "91\n",
      "92\n",
      "93\n",
      "94\n",
      "95\n",
      "96\n",
      "97\n",
      "98\n",
      "99\n"
     ]
    }
   ],
   "source": [
    "for i in l:\n",
    "    print(i)"
   ]
  },
  {
   "cell_type": "code",
   "execution_count": 2,
   "metadata": {},
   "outputs": [
    {
     "data": {
      "text/plain": [
       "'3.7.3 (default, Mar 27 2019, 17:13:21) [MSC v.1915 64 bit (AMD64)]'"
      ]
     },
     "execution_count": 2,
     "metadata": {},
     "output_type": "execute_result"
    }
   ],
   "source": [
    "import sys\n",
    "\n",
    "#사람이 보기 편함\n",
    "\n",
    "sys.version"
   ]
  },
  {
   "cell_type": "code",
   "execution_count": null,
   "metadata": {},
   "outputs": [],
   "source": []
  }
 ],
 "metadata": {
  "kernelspec": {
   "display_name": "Python 3",
   "language": "python",
   "name": "python3"
  },
  "language_info": {
   "codemirror_mode": {
    "name": "ipython",
    "version": 3
   },
   "file_extension": ".py",
   "mimetype": "text/x-python",
   "name": "python",
   "nbconvert_exporter": "python",
   "pygments_lexer": "ipython3",
   "version": "3.7.3"
  }
 },
 "nbformat": 4,
 "nbformat_minor": 2
}
